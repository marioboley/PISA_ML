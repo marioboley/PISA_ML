{
 "cells": [
  {
   "cell_type": "markdown",
   "metadata": {},
   "source": [
    "This notebook considers:\n",
    "1. __data.x2__ in data.py. It contains 69 features (initiator exclusive). \n",
    "2. From the result, we can find there is no difference with manual selected 23 features. We don't generate features in this notebook but we get rules for 23 features.\n",
    "3. In this notebook, the prediction order is (sphere, worm, vesicle, other). "
   ]
  },
  {
   "cell_type": "code",
   "execution_count": 1,
   "metadata": {},
   "outputs": [],
   "source": [
    "import data1 as data\n",
    "import random\n",
    "from common import *\n",
    "from rules import *\n",
    "from realkd.patch import RuleFit\n",
    "from sklearn.model_selection import cross_validate, KFold\n",
    "from sklearn.ensemble import RandomForestClassifier\n",
    "from sklearn.model_selection import LeaveOneOut\n",
    "import numpy as np\n",
    "import matplotlib.colors as mcolors"
   ]
  },
  {
   "cell_type": "code",
   "execution_count": 2,
   "metadata": {},
   "outputs": [],
   "source": [
    "import warnings\n",
    "warnings.filterwarnings(\"ignore\")"
   ]
  },
  {
   "cell_type": "markdown",
   "metadata": {},
   "source": [
    "## Full phase prediction\n"
   ]
  },
  {
   "cell_type": "code",
   "execution_count": 3,
   "metadata": {},
   "outputs": [],
   "source": [
    "from sklearn.linear_model import LogisticRegressionCV\n",
    "from sklearn.multioutput import ClassifierChain\n",
    "from multilabel import BinaryRelevanceClassifier, ProbabilisticClassifierChain\n",
    "from gam import LogisticGAM\n",
    "\n",
    "STATE = np.random.RandomState(seed=1000)\n",
    "\n",
    "lr = LogisticRegressionCV(penalty='l1', solver='saga', random_state=STATE)\n",
    "lr_ind = BinaryRelevanceClassifier(lr)\n",
    "lr_chain = ClassifierChain(lr, order=[0, 2, 1, 3])\n",
    "lr_pcc = ProbabilisticClassifierChain(lr) \n",
    "\n",
    "# gams not fixed, remove this part.\n",
    "# gam_ind = BinaryRelevanceClassifier(LogisticGAM(lam=20.0, max_iter=250))\n",
    "# gam_chain = ClassifierChain(LogisticGAM(lam=20.0, max_iter=250))\n",
    "# gam_pcc = ProbabilisticClassifierChain(LogisticGAM(lam=20.0, max_iter=250)) \n",
    "\n",
    "rf = RandomForestClassifier(random_state=STATE, min_samples_leaf=1, n_estimators=100)\n",
    "rf_ind = BinaryRelevanceClassifier(rf)\n",
    "rf_chain = ClassifierChain(rf, order=[0, 2, 1, 3])\n",
    "rf_pcc = ProbabilisticClassifierChain(rf)\n",
    "\n",
    "# Rulefit\n",
    "rufit_pcc = RuleFitWrapper(mode='chain')\n",
    "\n",
    "full_estimators = [lr_ind, lr_pcc, lr_chain, rf_ind, rf_pcc, rf_chain, rufit_pcc]\n",
    "full_names = ['LR_ind', 'LR_pcc', 'LR_chain', 'RanF_ind', 'RanF_pcc', 'Ranf_chain', 'Rufit_pcc']"
   ]
  },
  {
   "cell_type": "markdown",
   "metadata": {},
   "source": [
    "This following code under \"2.6 GHz 6-Core Intel Core i7\" runs ~5 hours. You can simply use saved result to re-run the result. (See below instructions)\n",
    "\n",
    "```\n",
    "import pickle\n",
    "cur_save=open('./' + 'interpolation_30folder' + '.p', 'rb')\n",
    "interpolation = pickle.load(cur_save)\n",
    "```\n",
    "After running these three-line code, you can ignore the following __interpolation__ code and re-run the rest."
   ]
  },
  {
   "cell_type": "markdown",
   "metadata": {},
   "source": [
    "Due to the individual prediction accuracy"
   ]
  },
  {
   "cell_type": "code",
   "execution_count": 10,
   "metadata": {
    "scrolled": true
   },
   "outputs": [
    {
     "name": "stdout",
     "output_type": "stream",
     "text": [
      "Current Prediction Order is: ['sphere', 'worm', 'vesicle', 'other']\n",
      "Num of predictors:,  69\n",
      "Running experiment with 30 repetitions\n",
      "======================================\n",
      "******************************\n"
     ]
    }
   ],
   "source": [
    "from common import Experiment, LogLikelihoodEvaluator\n",
    "from sklearn.model_selection import KFold\n",
    "\n",
    "\n",
    "print(\"Current Prediction Order is:\", data.y.columns.tolist())\n",
    "print('Num of predictors:, ', data.x2.shape[1])\n",
    "\n",
    "interpolation = Experiment(full_estimators, \n",
    "                    full_names,\n",
    "                    KFold(30, shuffle=True, random_state=STATE),\n",
    "                    data.x2, data.y.replace(-1.0, 0.0),\n",
    "                    groups=data.comp_ids.array, \n",
    "                    evaluators=['accuracy', LogLikelihoodEvaluator(2, neg=True)],\n",
    "                    verbose=True).run()"
   ]
  },
  {
   "cell_type": "code",
   "execution_count": 11,
   "metadata": {},
   "outputs": [],
   "source": [
    "# import pickle\n",
    "# with open('interpolation_full_swvo.pkl', 'wb') as f:   \n",
    "#     pickle.dump(interpolation, f)"
   ]
  }
 ],
 "metadata": {
  "kernelspec": {
   "display_name": "Python 3",
   "language": "python",
   "name": "python3"
  },
  "language_info": {
   "codemirror_mode": {
    "name": "ipython",
    "version": 3
   },
   "file_extension": ".py",
   "mimetype": "text/x-python",
   "name": "python",
   "nbconvert_exporter": "python",
   "pygments_lexer": "ipython3",
   "version": "3.8.5"
  }
 },
 "nbformat": 4,
 "nbformat_minor": 5
}
