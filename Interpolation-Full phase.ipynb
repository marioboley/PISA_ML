{
 "cells": [
  {
   "cell_type": "markdown",
   "metadata": {},
   "source": [
    "This notebook focuses on MileStone 1"
   ]
  },
  {
   "cell_type": "code",
   "execution_count": 1,
   "metadata": {},
   "outputs": [],
   "source": [
    "import data1 as data\n",
    "import random\n",
    "from common import *\n",
    "from rules import *\n",
    "from realkd.patch import RuleFit\n",
    "from sklearn.model_selection import cross_validate, KFold\n",
    "from sklearn.ensemble import RandomForestClassifier\n",
    "from sklearn.model_selection import LeaveOneOut\n",
    "import numpy as np\n",
    "import matplotlib.colors as mcolors"
   ]
  },
  {
   "cell_type": "code",
   "execution_count": 2,
   "metadata": {},
   "outputs": [],
   "source": [
    "import warnings\n",
    "warnings.filterwarnings(\"ignore\")"
   ]
  },
  {
   "cell_type": "markdown",
   "metadata": {},
   "source": [
    "## Full phase prediction\n"
   ]
  },
  {
   "cell_type": "code",
   "execution_count": 3,
   "metadata": {},
   "outputs": [],
   "source": [
    "from sklearn.linear_model import LogisticRegressionCV\n",
    "from sklearn.multioutput import ClassifierChain\n",
    "from multilabel import BinaryRelevanceClassifier, ProbabilisticClassifierChain\n",
    "from gam import LogisticGAM\n",
    "\n",
    "STATE = np.random.RandomState(seed=1000)\n",
    "\n",
    "lr = LogisticRegressionCV(penalty='l1', solver='saga', random_state=STATE)\n",
    "lr_ind = BinaryRelevanceClassifier(lr)\n",
    "lr_chain = ClassifierChain(lr, order=[0, 1, 2, 3])\n",
    "lr_pcc = ProbabilisticClassifierChain(lr) \n",
    "\n",
    "# gams not fixed, remove this part.\n",
    "# gam_ind = BinaryRelevanceClassifier(LogisticGAM(lam=20.0, max_iter=250))\n",
    "# gam_chain = ClassifierChain(LogisticGAM(lam=20.0, max_iter=250))\n",
    "# gam_pcc = ProbabilisticClassifierChain(LogisticGAM(lam=20.0, max_iter=250)) \n",
    "\n",
    "rf = RandomForestClassifier(random_state=STATE, min_samples_leaf=1, n_estimators=100)\n",
    "rf_ind = BinaryRelevanceClassifier(rf)\n",
    "rf_chain = ClassifierChain(rf, order=[0, 1, 2, 3])\n",
    "rf_pcc = ProbabilisticClassifierChain(rf)\n",
    "\n",
    "# Rulefit\n",
    "rufit_pcc = RuleFitWrapper(mode='chain')\n",
    "\n",
    "full_estimators = [lr_ind, lr_pcc, rf_ind, rf_pcc, rufit_pcc]\n",
    "full_names = ['LR_ind', 'LR_pcc', 'RF_ind', 'RF_pcc', 'rufit_pcc']"
   ]
  },
  {
   "cell_type": "markdown",
   "metadata": {},
   "source": [
    "This following code under \"2.6 GHz 6-Core Intel Core i7\" runs ~5 hours. You can simply use saved result to re-run the result. (See below instructions)\n",
    "\n",
    "```\n",
    "import pickle\n",
    "cur_save=open('./' + 'interpolation_30folder' + '.p', 'rb')\n",
    "interpolation = pickle.load(cur_save)\n",
    "```\n",
    "After running these three-line code, you can ignore the following __interpolation__ code and re-run the rest."
   ]
  },
  {
   "cell_type": "code",
   "execution_count": 4,
   "metadata": {},
   "outputs": [
    {
     "name": "stdout",
     "output_type": "stream",
     "text": [
      "Running experiment with 30 repetitions\n",
      "======================================\n",
      "******************************\n"
     ]
    }
   ],
   "source": [
    "from common import Experiment, LogLikelihoodEvaluator\n",
    "from sklearn.model_selection import KFold\n",
    "\n",
    "interpolation = Experiment(full_estimators, \n",
    "                    full_names,\n",
    "                    KFold(30, shuffle=True, random_state=STATE),\n",
    "                    data.x, data.y.replace(-1.0, 0.0),\n",
    "                    groups=data.comp_ids.array, \n",
    "                    evaluators=['accuracy', LogLikelihoodEvaluator(2, neg=True)],\n",
    "                    verbose=True).run()"
   ]
  },
  {
   "cell_type": "code",
   "execution_count": 133,
   "metadata": {},
   "outputs": [],
   "source": [
    "def plot_summary(metric, summ, num_reps=30, baseline=None, names=None, colors = list(mcolors.BASE_COLORS.keys())):\n",
    "    width = 0.35\n",
    "    ind = np.arange(len(summ))\n",
    "    plt.bar(ind-width/2, summ[f'mean_train_{metric}'], width=width, label='train', \n",
    "            yerr=summ[f'std_train_{metric}']/num_reps**0.5, capsize=3.0)\n",
    "    plt.bar(ind+width/2, summ[f'mean_test_{metric}'], width=width, label='test',\n",
    "            yerr=summ[f'std_test_{metric}']/num_reps**0.5, capsize=3.0)\n",
    "    if baseline:\n",
    "        for i in range(len(baseline)):\n",
    "            plt.axhline(y=baseline[i], color=colors[i], linestyle='-', label=names[i])\n",
    "    plt.ylabel(metric)\n",
    "    plt.legend()\n",
    "    plt.xticks(ind, summ.index)\n",
    "    \n",
    "df = interpolation.summary()\n",
    "df['mean_train_error'] = 1- df['mean_train_accuracy']\n",
    "df['std_train_error'] = df['std_train_accuracy']\n",
    "df['mean_test_error'] = 1- df['mean_test_accuracy']\n",
    "df['std_test_error'] = df['std_test_accuracy']"
   ]
  },
  {
   "cell_type": "code",
   "execution_count": 5,
   "metadata": {},
   "outputs": [],
   "source": [
    "# import pickle\n",
    "# # save models in directory, remove comment to use it.\n",
    "# cur_save=open('./' + 'interpolation_30folder' + '.p', 'wb')\n",
    "# pickle.dump(interpolation, cur_save, -1)\n",
    "# cur_save.close()\n",
    "# # cur_save=open('./' + 'interpolation_30folder' + '.p', 'rb')\n",
    "# # interpolation = pickle.load(cur_save)"
   ]
  },
  {
   "cell_type": "code",
   "execution_count": 6,
   "metadata": {},
   "outputs": [
    {
     "data": {
      "text/html": [
       "<div>\n",
       "<style scoped>\n",
       "    .dataframe tbody tr th:only-of-type {\n",
       "        vertical-align: middle;\n",
       "    }\n",
       "\n",
       "    .dataframe tbody tr th {\n",
       "        vertical-align: top;\n",
       "    }\n",
       "\n",
       "    .dataframe thead th {\n",
       "        text-align: right;\n",
       "    }\n",
       "</style>\n",
       "<table border=\"1\" class=\"dataframe\">\n",
       "  <thead>\n",
       "    <tr style=\"text-align: right;\">\n",
       "      <th></th>\n",
       "      <th>mean_train_accuracy</th>\n",
       "      <th>std_train_accuracy</th>\n",
       "      <th>mean_test_accuracy</th>\n",
       "      <th>std_test_accuracy</th>\n",
       "      <th>mean_train_log loss</th>\n",
       "      <th>std_train_log loss</th>\n",
       "      <th>mean_test_log loss</th>\n",
       "      <th>std_test_log loss</th>\n",
       "    </tr>\n",
       "  </thead>\n",
       "  <tbody>\n",
       "    <tr>\n",
       "      <th>LR_ind</th>\n",
       "      <td>0.382689</td>\n",
       "      <td>0.011744</td>\n",
       "      <td>0.378509</td>\n",
       "      <td>0.149020</td>\n",
       "      <td>2.908712</td>\n",
       "      <td>0.011742</td>\n",
       "      <td>2.929920</td>\n",
       "      <td>0.345263</td>\n",
       "    </tr>\n",
       "    <tr>\n",
       "      <th>LR_pcc</th>\n",
       "      <td>0.382689</td>\n",
       "      <td>0.011744</td>\n",
       "      <td>0.378509</td>\n",
       "      <td>0.149020</td>\n",
       "      <td>2.908712</td>\n",
       "      <td>0.011742</td>\n",
       "      <td>2.929920</td>\n",
       "      <td>0.345263</td>\n",
       "    </tr>\n",
       "    <tr>\n",
       "      <th>RF_ind</th>\n",
       "      <td>0.999825</td>\n",
       "      <td>0.000533</td>\n",
       "      <td>0.788860</td>\n",
       "      <td>0.075846</td>\n",
       "      <td>0.256396</td>\n",
       "      <td>0.004974</td>\n",
       "      <td>1.140403</td>\n",
       "      <td>0.702724</td>\n",
       "    </tr>\n",
       "    <tr>\n",
       "      <th>RF_pcc</th>\n",
       "      <td>0.999243</td>\n",
       "      <td>0.001186</td>\n",
       "      <td>0.792105</td>\n",
       "      <td>0.069495</td>\n",
       "      <td>0.245991</td>\n",
       "      <td>0.003946</td>\n",
       "      <td>1.087693</td>\n",
       "      <td>0.697455</td>\n",
       "    </tr>\n",
       "    <tr>\n",
       "      <th>rufit_pcc</th>\n",
       "      <td>0.954217</td>\n",
       "      <td>0.005492</td>\n",
       "      <td>0.792018</td>\n",
       "      <td>0.093704</td>\n",
       "      <td>0.370660</td>\n",
       "      <td>0.011791</td>\n",
       "      <td>1.063783</td>\n",
       "      <td>0.534343</td>\n",
       "    </tr>\n",
       "  </tbody>\n",
       "</table>\n",
       "</div>"
      ],
      "text/plain": [
       "           mean_train_accuracy  std_train_accuracy  mean_test_accuracy  \\\n",
       "LR_ind                0.382689            0.011744            0.378509   \n",
       "LR_pcc                0.382689            0.011744            0.378509   \n",
       "RF_ind                0.999825            0.000533            0.788860   \n",
       "RF_pcc                0.999243            0.001186            0.792105   \n",
       "rufit_pcc             0.954217            0.005492            0.792018   \n",
       "\n",
       "           std_test_accuracy  mean_train_log loss  std_train_log loss  \\\n",
       "LR_ind              0.149020             2.908712            0.011742   \n",
       "LR_pcc              0.149020             2.908712            0.011742   \n",
       "RF_ind              0.075846             0.256396            0.004974   \n",
       "RF_pcc              0.069495             0.245991            0.003946   \n",
       "rufit_pcc           0.093704             0.370660            0.011791   \n",
       "\n",
       "           mean_test_log loss  std_test_log loss  \n",
       "LR_ind               2.929920           0.345263  \n",
       "LR_pcc               2.929920           0.345263  \n",
       "RF_ind               1.140403           0.702724  \n",
       "RF_pcc               1.087693           0.697455  \n",
       "rufit_pcc            1.063783           0.534343  "
      ]
     },
     "execution_count": 6,
     "metadata": {},
     "output_type": "execute_result"
    }
   ],
   "source": [
    "interpolation.summary()"
   ]
  },
  {
   "cell_type": "markdown",
   "metadata": {},
   "source": [
    "## Get Baseline\n",
    "* __Logloss__   \n",
    "For a single sample with true label $y \\in \\{0,1\\}$ and a probability estimate $p=P(y=1)$, the log loss is:\n",
    "  \n",
    "$$L = -(y\\log(p) + (1-y)\\log(1-p))$$.\n",
    "\n",
    "* __Error Rate__\n",
    "For a sample of $n$ observations, the probability of $k$ unique observation is $\\{p_1, p_2, \\dots, p_k\\}$. The error rate is:\n",
    "\n",
    "$$\n",
    "E_{rr} = \\sum_i^k p_i(1-p_i)\n",
    "$$"
   ]
  },
  {
   "cell_type": "code",
   "execution_count": 115,
   "metadata": {},
   "outputs": [
    {
     "name": "stdout",
     "output_type": "stream",
     "text": [
      "Informed logloss:  2.5225679165070907\n",
      "Uninformed logloss:  4.0\n"
     ]
    }
   ],
   "source": [
    "# base line\n",
    "uniq, cnt = np.unique(data.y.values, axis=0, return_counts=True) \n",
    "prob = cnt/sum(cnt)\n",
    "info_logloss = sum(-1*prob * np.log2(prob))\n",
    "print('Informed logloss: ', info_logloss)\n",
    "\n",
    "uniprob = np.array([1/16 for _ in range(16)])\n",
    "uninfo_logloss =  sum(-1*uniprob * np.log2(uniprob))\n",
    "print('Uninformed logloss: ', uninfo_logloss)"
   ]
  },
  {
   "cell_type": "code",
   "execution_count": 134,
   "metadata": {},
   "outputs": [
    {
     "data": {
      "image/png": "[encoded data removed]",
      "text/plain": [
       "<Figure size 432x288 with 1 Axes>"
      ]
     },
     "metadata": {
      "needs_background": "light"
     },
     "output_type": "display_data"
    }
   ],
   "source": [
    "plot_summary('log loss', summ=interpolation.summary(), baseline=[info_logloss, uninfo_logloss], names=['Informed', 'Uninformed'])"
   ]
  },
  {
   "cell_type": "code",
   "execution_count": 163,
   "metadata": {
    "scrolled": true
   },
   "outputs": [
    {
     "name": "stdout",
     "output_type": "stream",
     "text": [
      "Informed Error:  0.7634906866325784\n",
      "Uninformed Error:  0.9375\n"
     ]
    }
   ],
   "source": [
    "# Error rate base line\n",
    "uniq, cnts = np.unique(data.y.values, axis=0, return_counts=True)\n",
    "prob = cnts/sum(cnts)\n",
    "informed_error = sum(prob * (1-prob))\n",
    "print('Informed Error: ', informed_error)\n",
    "\n",
    "uninformed_error = sum(uniprob * (1-uniprob))\n",
    "print('Uninformed Error: ', uninformed_error)"
   ]
  },
  {
   "cell_type": "code",
   "execution_count": 164,
   "metadata": {},
   "outputs": [
    {
     "data": {
      "image/png": "[encoded data removed]",
      "text/plain": [
       "<Figure size 432x288 with 1 Axes>"
      ]
     },
     "metadata": {
      "needs_background": "light"
     },
     "output_type": "display_data"
    }
   ],
   "source": [
    "plot_summary('error', df, baseline=[informed_error, uninformed_error], names=['Informed', 'Uninformed']) # below plot is the error rate (1- accuracy)"
   ]
  },
  {
   "cell_type": "markdown",
   "metadata": {},
   "source": [
    "## Get rules\n",
    "\n",
    "After $30$ Folder CV, we have $30$ RuleFit estimators. We refit these estimators with whole dataset and select one having minimum log-loss and number of rules.\n",
    "\n",
    "This is for full-phase, the chain rules first estimate __sphere__ and then treat __sphere__ as a predictor to estimate __worm__. The prediction order is __sphere, worm, vesicle__, and, __other__.\n",
    "\n",
    "The output rules with coefficient of this notebook are in \"Rules/Full_Phase/Interpolation/\". The index of the csv names follow the prediction order as above."
   ]
  },
  {
   "cell_type": "code",
   "execution_count": 75,
   "metadata": {},
   "outputs": [],
   "source": [
    "def loss(y_test, y_pred):\n",
    "    y_test = y_test.astype(np.float16)\n",
    "    y_pred = y_pred.astype(np.float16)\n",
    "    if len(y_test.shape) == 1:\n",
    "        N = y_test.shape[0]\n",
    "        loss = 0\n",
    "        for i in range(N):\n",
    "            loss -= ((y_test[i]*np.log(y_pred[i]))+((1.0-y_test[i])*np.log(1.0-y_pred[i])))\n",
    "            loss = loss/N\n",
    "    else:\n",
    "        N,M = y_test.shape\n",
    "        a=[]\n",
    "        for m in range(M):\n",
    "            loss=0\n",
    "            for i in range(N):\n",
    "                subloss = ((y_test[i,m]*np.log(y_pred[i,m]))+((1.0-y_test[i,m])*np.log(1.0-y_pred[i,m])))\n",
    "                if np.isnan(subloss):\n",
    "                    continue\n",
    "                loss -= subloss\n",
    "            loss = loss/N\n",
    "            a.append(round(loss,8))\n",
    "        loss = np.mean(a)\n",
    "    return loss"
   ]
  },
  {
   "cell_type": "code",
   "execution_count": 82,
   "metadata": {
    "scrolled": true
   },
   "outputs": [],
   "source": [
    "# choose the best RuleFit\n",
    "lst = []\n",
    "for each in interpolation.fitted_['rufit_pcc']:\n",
    "    pred = each.predict_proba(data.x)\n",
    "    res = log_loss(data.y.values, pred)\n",
    "    lst.append((res, each))\n",
    "lst.sort()\n",
    "best_rf = lst[0][1]"
   ]
  },
  {
   "cell_type": "code",
   "execution_count": 96,
   "metadata": {
    "scrolled": true
   },
   "outputs": [],
   "source": [
    "dic = best_rf.get_rules(data.x, data.y)\n",
    "indx = -1\n",
    "for key, values in dic.items():\n",
    "    indx += 1\n",
    "    name = 'Rules/Full_Phase/Interpolation/'+ str(indx) + \"_\" + key + '.csv'\n",
    "    values.to_csv(name, index=False)"
   ]
  },
  {
   "cell_type": "code",
   "execution_count": null,
   "metadata": {},
   "outputs": [],
   "source": []
  }
 ],
 "metadata": {
  "kernelspec": {
   "display_name": "Python 3",
   "language": "python",
   "name": "python3"
  },
  "language_info": {
   "codemirror_mode": {
    "name": "ipython",
    "version": 3
   },
   "file_extension": ".py",
   "mimetype": "text/x-python",
   "name": "python",
   "nbconvert_exporter": "python",
   "pygments_lexer": "ipython3",
   "version": "3.8.5"
  }
 },
 "nbformat": 4,
 "nbformat_minor": 5
}
