{
 "cells": [
  {
   "cell_type": "markdown",
   "metadata": {},
   "source": [
    "This notebook uses data.x1 (23 features) to do individual sphase prediction."
   ]
  },
  {
   "cell_type": "code",
   "execution_count": 1,
   "metadata": {},
   "outputs": [],
   "source": [
    "import data1 as data\n",
    "import random\n",
    "from common import *\n",
    "from rules import *\n",
    "from realkd.patch import RuleFit\n",
    "from sklearn.model_selection import cross_validate, KFold\n",
    "from sklearn.ensemble import RandomForestClassifier\n",
    "from sklearn.model_selection import LeaveOneOut\n",
    "import numpy as np\n",
    "import matplotlib.colors as mcolors\n"
   ]
  },
  {
   "cell_type": "code",
   "execution_count": 2,
   "metadata": {},
   "outputs": [],
   "source": [
    "import warnings\n",
    "warnings.filterwarnings(\"ignore\")"
   ]
  },
  {
   "cell_type": "markdown",
   "metadata": {},
   "source": [
    "## Individual phase prediction\n"
   ]
  },
  {
   "cell_type": "code",
   "execution_count": 3,
   "metadata": {},
   "outputs": [],
   "source": [
    "from sklearn.linear_model import LogisticRegressionCV\n",
    "from sklearn.multioutput import ClassifierChain\n",
    "from multilabel import BinaryRelevanceClassifier, ProbabilisticClassifierChain\n",
    "from gam import LogisticGAM\n",
    "\n",
    "STATE = np.random.RandomState(seed=1000)\n",
    "\n",
    "lr = LogisticRegressionCV(penalty='l1', solver='saga', random_state=STATE)\n",
    "lr_ind = BinaryRelevanceClassifier(lr)\n",
    "\n",
    "# gams not fixed, remove this part.\n",
    "# gam_ind = BinaryRelevanceClassifier(LogisticGAM(lam=20.0, max_iter=250))\n",
    "gam = LogisticGAM(lam=[80.0]*len(data.x1.columns), max_iter=250)\n",
    "\n",
    "rf = RandomForestClassifier(random_state=STATE, min_samples_leaf=1, n_estimators=100)\n",
    "rf_ind = BinaryRelevanceClassifier(rf)\n",
    "\n",
    "# Rulefit\n",
    "rufit = RuleFitWrapper()\n",
    "\n",
    "indi_estimators = [lr, gam, rf, rufit]\n",
    "indi_names = ['LR', 'GAM','RanF', 'RuFit']"
   ]
  },
  {
   "cell_type": "markdown",
   "metadata": {},
   "source": [
    "This following code under \"2.6 GHz 6-Core Intel Core i7\" runs ~5 hours. You can simply use saved result to re-run the result."
   ]
  },
  {
   "cell_type": "code",
   "execution_count": null,
   "metadata": {
    "scrolled": true
   },
   "outputs": [],
   "source": [
    "from common import Experiment, LogLikelihoodEvaluator\n",
    "from sklearn.model_selection import KFold\n",
    "\n",
    "inter_no_comp = {}\n",
    "\n",
    "print('Num of predictors:, ', data.x1.shape[1])\n",
    "for y in [data.sphere, data.vesicle, data.worm]: # miss other\n",
    "    print('Target: ',y.name)\n",
    "    if y,name != data.worm:\n",
    "        experiment = Experiment(indi_estimators, \n",
    "                            indi_names,\n",
    "                            KFold(30, shuffle=True, random_state=STATE),\n",
    "                            data.x1, y.replace(-1, 0),\n",
    "                            groups=data.comp_ids.array, \n",
    "                            evaluators=['accuracy', LogLikelihoodEvaluator()],\n",
    "                            verbose=True)\n",
    "    else:\n",
    "        Experiment([lr, rf, rufit], \n",
    "                        ['LR','RanF', 'RuFit'],\n",
    "                        KFold(30, shuffle=True, random_state=STATE),\n",
    "                        data.x1, data.other.replace(-1, 0),\n",
    "                        groups=data.comp_ids.array, \n",
    "                        evaluators=['accuracy', LogLikelihoodEvaluator()],\n",
    "                        verbose=True)\n",
    "    inter_no_comp[y.name] = experiment.run()\n",
    "    print()"
   ]
  },
  {
   "cell_type": "code",
   "execution_count": 13,
   "metadata": {},
   "outputs": [],
   "source": [
    "# import pickle\n",
    "# with open('interpolation_iid_23.pkl', 'wb') as f:   \n",
    "#     pickle.dump(inter_no_comp, f)"
   ]
  },
  {
   "cell_type": "code",
   "execution_count": 8,
   "metadata": {},
   "outputs": [],
   "source": [
    "import pickle\n",
    "cur_save=open('./' + 'interpolation_iid_23' + '.pkl', 'rb')\n",
    "inter_no_comp = pickle.load(cur_save)"
   ]
  },
  {
   "cell_type": "code",
   "execution_count": 14,
   "metadata": {},
   "outputs": [],
   "source": [
    "def plot_summary(metric, summ, num_reps=30, baseline=None, names=None, colors = list(mcolors.BASE_COLORS.keys())):\n",
    "    width = 0.35\n",
    "    ind = np.arange(len(summ))\n",
    "    plt.bar(ind-width/2, summ[f'mean_train_{metric}'], width=width, label='train', \n",
    "            yerr=summ[f'std_train_{metric}']/num_reps**0.5, capsize=3.0)\n",
    "    plt.bar(ind+width/2, summ[f'mean_test_{metric}'], width=width, label='test',\n",
    "            yerr=summ[f'std_test_{metric}']/num_reps**0.5, capsize=3.0)\n",
    "    if baseline:\n",
    "        for i in range(len(baseline)):\n",
    "            plt.axhline(y=baseline[i], color=colors[i], linestyle='-', label=names[i])\n",
    "    plt.ylabel(metric)\n",
    "    plt.legend()\n",
    "    plt.xticks(ind, summ.index)\n",
    "    \n",
    "inter_no_comp_df = {}\n",
    "for key in inter_no_comp:\n",
    "    df = inter_no_comp[key].summary()\n",
    "    df['mean_train_error'] = 1- df['mean_train_accuracy']\n",
    "    df['std_train_error'] = df['std_train_accuracy']\n",
    "    df['mean_test_error'] = 1- df['mean_test_accuracy']\n",
    "    df['std_test_error'] = df['std_test_accuracy']\n",
    "    inter_no_comp_df[key] = df"
   ]
  },
  {
   "cell_type": "code",
   "execution_count": 15,
   "metadata": {},
   "outputs": [
    {
     "name": "stdout",
     "output_type": "stream",
     "text": [
      "Informed error:  [0.46283783783783783, 0.2922297297297297, 0.33783783783783783, 0.02533783783783783]\n",
      "Uninformed error:  [0.5, 0.5, 0.5, 0.5]\n"
     ]
    }
   ],
   "source": [
    "# get base line \n",
    "# error\n",
    "informed_error = []\n",
    "for each in [data.sphere, data.vesicle, data.worm, data.other]:\n",
    "    uniq, cnt = np.unique(each, return_counts=True)\n",
    "    prob = cnt/sum(cnt)\n",
    "    informed_error.append((1-max(prob)))\n",
    "print('Informed error: ', informed_error)\n",
    "\n",
    "uniformed_error = [0.5, 0.5, 0.5, 0.5]\n",
    "print('Uninformed error: ', uniformed_error)"
   ]
  },
  {
   "cell_type": "code",
   "execution_count": 16,
   "metadata": {},
   "outputs": [
    {
     "data": {
      "text/html": [
       "<div>\n",
       "<style scoped>\n",
       "    .dataframe tbody tr th:only-of-type {\n",
       "        vertical-align: middle;\n",
       "    }\n",
       "\n",
       "    .dataframe tbody tr th {\n",
       "        vertical-align: top;\n",
       "    }\n",
       "\n",
       "    .dataframe thead th {\n",
       "        text-align: right;\n",
       "    }\n",
       "</style>\n",
       "<table border=\"1\" class=\"dataframe\">\n",
       "  <thead>\n",
       "    <tr style=\"text-align: right;\">\n",
       "      <th></th>\n",
       "      <th>mean_train_accuracy</th>\n",
       "      <th>std_train_accuracy</th>\n",
       "      <th>mean_test_accuracy</th>\n",
       "      <th>std_test_accuracy</th>\n",
       "      <th>mean_train_log likelihood</th>\n",
       "      <th>std_train_log likelihood</th>\n",
       "      <th>mean_test_log likelihood</th>\n",
       "      <th>std_test_log likelihood</th>\n",
       "      <th>mean_train_error</th>\n",
       "      <th>std_train_error</th>\n",
       "      <th>mean_test_error</th>\n",
       "      <th>std_test_error</th>\n",
       "    </tr>\n",
       "  </thead>\n",
       "  <tbody>\n",
       "    <tr>\n",
       "      <th>LR</th>\n",
       "      <td>0.537163</td>\n",
       "      <td>0.004021</td>\n",
       "      <td>0.537982</td>\n",
       "      <td>0.116531</td>\n",
       "      <td>-0.680834</td>\n",
       "      <td>0.001276</td>\n",
       "      <td>-0.684561</td>\n",
       "      <td>0.036543</td>\n",
       "      <td>0.462837</td>\n",
       "      <td>0.004021</td>\n",
       "      <td>0.462018</td>\n",
       "      <td>0.116531</td>\n",
       "    </tr>\n",
       "    <tr>\n",
       "      <th>GAM</th>\n",
       "      <td>0.894527</td>\n",
       "      <td>0.062588</td>\n",
       "      <td>0.864649</td>\n",
       "      <td>0.076803</td>\n",
       "      <td>-0.261244</td>\n",
       "      <td>0.014434</td>\n",
       "      <td>-0.564133</td>\n",
       "      <td>0.822524</td>\n",
       "      <td>0.105473</td>\n",
       "      <td>0.062588</td>\n",
       "      <td>0.135351</td>\n",
       "      <td>0.076803</td>\n",
       "    </tr>\n",
       "    <tr>\n",
       "      <th>RanF</th>\n",
       "      <td>1.000000</td>\n",
       "      <td>0.000000</td>\n",
       "      <td>0.917456</td>\n",
       "      <td>0.062261</td>\n",
       "      <td>-0.059016</td>\n",
       "      <td>0.001503</td>\n",
       "      <td>-0.280355</td>\n",
       "      <td>0.312304</td>\n",
       "      <td>0.000000</td>\n",
       "      <td>0.000000</td>\n",
       "      <td>0.082544</td>\n",
       "      <td>0.062261</td>\n",
       "    </tr>\n",
       "    <tr>\n",
       "      <th>RuFit</th>\n",
       "      <td>0.984739</td>\n",
       "      <td>0.004326</td>\n",
       "      <td>0.917632</td>\n",
       "      <td>0.054837</td>\n",
       "      <td>-0.076994</td>\n",
       "      <td>0.004804</td>\n",
       "      <td>-0.247580</td>\n",
       "      <td>0.160031</td>\n",
       "      <td>0.015261</td>\n",
       "      <td>0.004326</td>\n",
       "      <td>0.082368</td>\n",
       "      <td>0.054837</td>\n",
       "    </tr>\n",
       "  </tbody>\n",
       "</table>\n",
       "</div>"
      ],
      "text/plain": [
       "       mean_train_accuracy  std_train_accuracy  mean_test_accuracy  \\\n",
       "LR                0.537163            0.004021            0.537982   \n",
       "GAM               0.894527            0.062588            0.864649   \n",
       "RanF              1.000000            0.000000            0.917456   \n",
       "RuFit             0.984739            0.004326            0.917632   \n",
       "\n",
       "       std_test_accuracy  mean_train_log likelihood  std_train_log likelihood  \\\n",
       "LR              0.116531                  -0.680834                  0.001276   \n",
       "GAM             0.076803                  -0.261244                  0.014434   \n",
       "RanF            0.062261                  -0.059016                  0.001503   \n",
       "RuFit           0.054837                  -0.076994                  0.004804   \n",
       "\n",
       "       mean_test_log likelihood  std_test_log likelihood  mean_train_error  \\\n",
       "LR                    -0.684561                 0.036543          0.462837   \n",
       "GAM                   -0.564133                 0.822524          0.105473   \n",
       "RanF                  -0.280355                 0.312304          0.000000   \n",
       "RuFit                 -0.247580                 0.160031          0.015261   \n",
       "\n",
       "       std_train_error  mean_test_error  std_test_error  \n",
       "LR            0.004021         0.462018        0.116531  \n",
       "GAM           0.062588         0.135351        0.076803  \n",
       "RanF          0.000000         0.082544        0.062261  \n",
       "RuFit         0.004326         0.082368        0.054837  "
      ]
     },
     "execution_count": 16,
     "metadata": {},
     "output_type": "execute_result"
    }
   ],
   "source": [
    "inter_no_comp_df['sphere']"
   ]
  },
  {
   "cell_type": "code",
   "execution_count": 17,
   "metadata": {},
   "outputs": [
    {
     "data": {
      "text/html": [
       "<div>\n",
       "<style scoped>\n",
       "    .dataframe tbody tr th:only-of-type {\n",
       "        vertical-align: middle;\n",
       "    }\n",
       "\n",
       "    .dataframe tbody tr th {\n",
       "        vertical-align: top;\n",
       "    }\n",
       "\n",
       "    .dataframe thead th {\n",
       "        text-align: right;\n",
       "    }\n",
       "</style>\n",
       "<table border=\"1\" class=\"dataframe\">\n",
       "  <thead>\n",
       "    <tr style=\"text-align: right;\">\n",
       "      <th></th>\n",
       "      <th>mean_train_accuracy</th>\n",
       "      <th>std_train_accuracy</th>\n",
       "      <th>mean_test_accuracy</th>\n",
       "      <th>std_test_accuracy</th>\n",
       "      <th>mean_train_log likelihood</th>\n",
       "      <th>std_train_log likelihood</th>\n",
       "      <th>mean_test_log likelihood</th>\n",
       "      <th>std_test_log likelihood</th>\n",
       "      <th>mean_train_error</th>\n",
       "      <th>std_train_error</th>\n",
       "      <th>mean_test_error</th>\n",
       "      <th>std_test_error</th>\n",
       "    </tr>\n",
       "  </thead>\n",
       "  <tbody>\n",
       "    <tr>\n",
       "      <th>LR</th>\n",
       "      <td>0.707712</td>\n",
       "      <td>0.002885</td>\n",
       "      <td>0.707456</td>\n",
       "      <td>0.081399</td>\n",
       "      <td>-0.596996</td>\n",
       "      <td>0.002170</td>\n",
       "      <td>-0.599474</td>\n",
       "      <td>0.062406</td>\n",
       "      <td>0.292288</td>\n",
       "      <td>0.002885</td>\n",
       "      <td>0.292544</td>\n",
       "      <td>0.081399</td>\n",
       "    </tr>\n",
       "    <tr>\n",
       "      <th>GAM</th>\n",
       "      <td>0.934937</td>\n",
       "      <td>0.002548</td>\n",
       "      <td>0.910263</td>\n",
       "      <td>0.052556</td>\n",
       "      <td>-0.165655</td>\n",
       "      <td>0.002979</td>\n",
       "      <td>-0.223156</td>\n",
       "      <td>0.129074</td>\n",
       "      <td>0.065063</td>\n",
       "      <td>0.002548</td>\n",
       "      <td>0.089737</td>\n",
       "      <td>0.052556</td>\n",
       "    </tr>\n",
       "    <tr>\n",
       "      <th>RanF</th>\n",
       "      <td>1.000000</td>\n",
       "      <td>0.000000</td>\n",
       "      <td>0.922193</td>\n",
       "      <td>0.056414</td>\n",
       "      <td>-0.052196</td>\n",
       "      <td>0.001544</td>\n",
       "      <td>-0.201495</td>\n",
       "      <td>0.094749</td>\n",
       "      <td>0.000000</td>\n",
       "      <td>0.000000</td>\n",
       "      <td>0.077807</td>\n",
       "      <td>0.056414</td>\n",
       "    </tr>\n",
       "    <tr>\n",
       "      <th>RuFit</th>\n",
       "      <td>0.990272</td>\n",
       "      <td>0.003546</td>\n",
       "      <td>0.905526</td>\n",
       "      <td>0.055898</td>\n",
       "      <td>-0.063605</td>\n",
       "      <td>0.003807</td>\n",
       "      <td>-0.205239</td>\n",
       "      <td>0.118165</td>\n",
       "      <td>0.009728</td>\n",
       "      <td>0.003546</td>\n",
       "      <td>0.094474</td>\n",
       "      <td>0.055898</td>\n",
       "    </tr>\n",
       "  </tbody>\n",
       "</table>\n",
       "</div>"
      ],
      "text/plain": [
       "       mean_train_accuracy  std_train_accuracy  mean_test_accuracy  \\\n",
       "LR                0.707712            0.002885            0.707456   \n",
       "GAM               0.934937            0.002548            0.910263   \n",
       "RanF              1.000000            0.000000            0.922193   \n",
       "RuFit             0.990272            0.003546            0.905526   \n",
       "\n",
       "       std_test_accuracy  mean_train_log likelihood  std_train_log likelihood  \\\n",
       "LR              0.081399                  -0.596996                  0.002170   \n",
       "GAM             0.052556                  -0.165655                  0.002979   \n",
       "RanF            0.056414                  -0.052196                  0.001544   \n",
       "RuFit           0.055898                  -0.063605                  0.003807   \n",
       "\n",
       "       mean_test_log likelihood  std_test_log likelihood  mean_train_error  \\\n",
       "LR                    -0.599474                 0.062406          0.292288   \n",
       "GAM                   -0.223156                 0.129074          0.065063   \n",
       "RanF                  -0.201495                 0.094749          0.000000   \n",
       "RuFit                 -0.205239                 0.118165          0.009728   \n",
       "\n",
       "       std_train_error  mean_test_error  std_test_error  \n",
       "LR            0.002885         0.292544        0.081399  \n",
       "GAM           0.002548         0.089737        0.052556  \n",
       "RanF          0.000000         0.077807        0.056414  \n",
       "RuFit         0.003546         0.094474        0.055898  "
      ]
     },
     "execution_count": 17,
     "metadata": {},
     "output_type": "execute_result"
    }
   ],
   "source": [
    "inter_no_comp_df['vesicle']"
   ]
  },
  {
   "cell_type": "code",
   "execution_count": 18,
   "metadata": {},
   "outputs": [
    {
     "data": {
      "text/html": [
       "<div>\n",
       "<style scoped>\n",
       "    .dataframe tbody tr th:only-of-type {\n",
       "        vertical-align: middle;\n",
       "    }\n",
       "\n",
       "    .dataframe tbody tr th {\n",
       "        vertical-align: top;\n",
       "    }\n",
       "\n",
       "    .dataframe thead th {\n",
       "        text-align: right;\n",
       "    }\n",
       "</style>\n",
       "<table border=\"1\" class=\"dataframe\">\n",
       "  <thead>\n",
       "    <tr style=\"text-align: right;\">\n",
       "      <th></th>\n",
       "      <th>mean_train_accuracy</th>\n",
       "      <th>std_train_accuracy</th>\n",
       "      <th>mean_test_accuracy</th>\n",
       "      <th>std_test_accuracy</th>\n",
       "      <th>mean_train_log likelihood</th>\n",
       "      <th>std_train_log likelihood</th>\n",
       "      <th>mean_test_log likelihood</th>\n",
       "      <th>std_test_log likelihood</th>\n",
       "      <th>mean_train_error</th>\n",
       "      <th>std_train_error</th>\n",
       "      <th>mean_test_error</th>\n",
       "      <th>std_test_error</th>\n",
       "    </tr>\n",
       "  </thead>\n",
       "  <tbody>\n",
       "    <tr>\n",
       "      <th>LR</th>\n",
       "      <td>0.633213</td>\n",
       "      <td>0.010944</td>\n",
       "      <td>0.630614</td>\n",
       "      <td>0.107999</td>\n",
       "      <td>-0.580565</td>\n",
       "      <td>0.002512</td>\n",
       "      <td>-0.583264</td>\n",
       "      <td>0.073275</td>\n",
       "      <td>0.366787</td>\n",
       "      <td>0.010944</td>\n",
       "      <td>0.369386</td>\n",
       "      <td>0.107999</td>\n",
       "    </tr>\n",
       "    <tr>\n",
       "      <th>GAM</th>\n",
       "      <td>0.856477</td>\n",
       "      <td>0.003913</td>\n",
       "      <td>0.827632</td>\n",
       "      <td>0.057359</td>\n",
       "      <td>-0.322791</td>\n",
       "      <td>0.003595</td>\n",
       "      <td>-0.368289</td>\n",
       "      <td>0.104745</td>\n",
       "      <td>0.143523</td>\n",
       "      <td>0.003913</td>\n",
       "      <td>0.172368</td>\n",
       "      <td>0.057359</td>\n",
       "    </tr>\n",
       "    <tr>\n",
       "      <th>RanF</th>\n",
       "      <td>1.000000</td>\n",
       "      <td>0.000000</td>\n",
       "      <td>0.909211</td>\n",
       "      <td>0.068095</td>\n",
       "      <td>-0.058065</td>\n",
       "      <td>0.001486</td>\n",
       "      <td>-0.266352</td>\n",
       "      <td>0.380182</td>\n",
       "      <td>0.000000</td>\n",
       "      <td>0.000000</td>\n",
       "      <td>0.090789</td>\n",
       "      <td>0.068095</td>\n",
       "    </tr>\n",
       "    <tr>\n",
       "      <th>RuFit</th>\n",
       "      <td>0.986776</td>\n",
       "      <td>0.004655</td>\n",
       "      <td>0.899035</td>\n",
       "      <td>0.060747</td>\n",
       "      <td>-0.074509</td>\n",
       "      <td>0.004109</td>\n",
       "      <td>-0.255161</td>\n",
       "      <td>0.170302</td>\n",
       "      <td>0.013224</td>\n",
       "      <td>0.004655</td>\n",
       "      <td>0.100965</td>\n",
       "      <td>0.060747</td>\n",
       "    </tr>\n",
       "  </tbody>\n",
       "</table>\n",
       "</div>"
      ],
      "text/plain": [
       "       mean_train_accuracy  std_train_accuracy  mean_test_accuracy  \\\n",
       "LR                0.633213            0.010944            0.630614   \n",
       "GAM               0.856477            0.003913            0.827632   \n",
       "RanF              1.000000            0.000000            0.909211   \n",
       "RuFit             0.986776            0.004655            0.899035   \n",
       "\n",
       "       std_test_accuracy  mean_train_log likelihood  std_train_log likelihood  \\\n",
       "LR              0.107999                  -0.580565                  0.002512   \n",
       "GAM             0.057359                  -0.322791                  0.003595   \n",
       "RanF            0.068095                  -0.058065                  0.001486   \n",
       "RuFit           0.060747                  -0.074509                  0.004109   \n",
       "\n",
       "       mean_test_log likelihood  std_test_log likelihood  mean_train_error  \\\n",
       "LR                    -0.583264                 0.073275          0.366787   \n",
       "GAM                   -0.368289                 0.104745          0.143523   \n",
       "RanF                  -0.266352                 0.380182          0.000000   \n",
       "RuFit                 -0.255161                 0.170302          0.013224   \n",
       "\n",
       "       std_train_error  mean_test_error  std_test_error  \n",
       "LR            0.010944         0.369386        0.107999  \n",
       "GAM           0.003913         0.172368        0.057359  \n",
       "RanF          0.000000         0.090789        0.068095  \n",
       "RuFit         0.004655         0.100965        0.060747  "
      ]
     },
     "execution_count": 18,
     "metadata": {},
     "output_type": "execute_result"
    }
   ],
   "source": [
    "inter_no_comp_df['worm']"
   ]
  },
  {
   "cell_type": "code",
   "execution_count": 19,
   "metadata": {},
   "outputs": [
    {
     "name": "stdout",
     "output_type": "stream",
     "text": [
      "sphere \n",
      "\n"
     ]
    },
    {
     "data": {
      "image/png": "[encoded data removed]",
      "text/plain": [
       "<Figure size 432x288 with 1 Axes>"
      ]
     },
     "metadata": {
      "needs_background": "light"
     },
     "output_type": "display_data"
    },
    {
     "name": "stdout",
     "output_type": "stream",
     "text": [
      "vesicle \n",
      "\n"
     ]
    },
    {
     "data": {
      "image/png": "[encoded data removed]",
      "text/plain": [
       "<Figure size 432x288 with 1 Axes>"
      ]
     },
     "metadata": {
      "needs_background": "light"
     },
     "output_type": "display_data"
    },
    {
     "name": "stdout",
     "output_type": "stream",
     "text": [
      "worm \n",
      "\n"
     ]
    },
    {
     "data": {
      "image/png": "[encoded data removed]",
      "text/plain": [
       "<Figure size 432x288 with 1 Axes>"
      ]
     },
     "metadata": {
      "needs_background": "light"
     },
     "output_type": "display_data"
    },
    {
     "name": "stdout",
     "output_type": "stream",
     "text": [
      "other \n",
      "\n"
     ]
    },
    {
     "data": {
      "image/png": "[encoded data removed]",
      "text/plain": [
       "<Figure size 432x288 with 1 Axes>"
      ]
     },
     "metadata": {
      "needs_background": "light"
     },
     "output_type": "display_data"
    }
   ],
   "source": [
    "i = 0\n",
    "for key in inter_no_comp_df:\n",
    "    print(key, '\\n')\n",
    "    line = [informed_error[i], uniformed_error[i]]\n",
    "    plot_summary('error', summ=inter_no_comp_df[key], baseline=line, names=['Informed', 'Uniformed'])\n",
    "    i += 1\n",
    "    plt.show()"
   ]
  },
  {
   "cell_type": "markdown",
   "metadata": {},
   "source": [
    "__Log likelihood__\n",
    "\n",
    "All the estimators performs much better than random guessing and informed guessing."
   ]
  },
  {
   "cell_type": "code",
   "execution_count": 20,
   "metadata": {},
   "outputs": [
    {
     "name": "stdout",
     "output_type": "stream",
     "text": [
      "Informed loglikelihood:  [-0.9960115235485287, -0.8715841441742509, -0.9227346209530941, -0.17044317741514714]\n",
      "Uninformed loglikelihood:  [-1.0, -1.0, -1.0, -1.0]\n"
     ]
    }
   ],
   "source": [
    "# get base line \n",
    "# log loss\n",
    "informed_loglikelihood = []\n",
    "for each in [data.sphere, data.vesicle, data.worm, data.other]:\n",
    "    uniq, cnt = np.unique(each, return_counts=True)\n",
    "    prob = cnt/sum(cnt)\n",
    "    informed_loglikelihood.append(sum(1*prob * np.log2(prob)))\n",
    "print('Informed loglikelihood: ', informed_loglikelihood)\n",
    "\n",
    "uniformed_loglikelihood = [1*0.5 * np.log2(0.5)*2] * 4\n",
    "print('Uninformed loglikelihood: ', uniformed_loglikelihood)"
   ]
  },
  {
   "cell_type": "code",
   "execution_count": 21,
   "metadata": {},
   "outputs": [
    {
     "name": "stdout",
     "output_type": "stream",
     "text": [
      "sphere \n",
      "\n"
     ]
    },
    {
     "data": {
      "image/png": "[encoded data removed]",
      "text/plain": [
       "<Figure size 432x288 with 1 Axes>"
      ]
     },
     "metadata": {
      "needs_background": "light"
     },
     "output_type": "display_data"
    },
    {
     "name": "stdout",
     "output_type": "stream",
     "text": [
      "vesicle \n",
      "\n"
     ]
    },
    {
     "data": {
      "image/png": "[encoded data removed]",
      "text/plain": [
       "<Figure size 432x288 with 1 Axes>"
      ]
     },
     "metadata": {
      "needs_background": "light"
     },
     "output_type": "display_data"
    },
    {
     "name": "stdout",
     "output_type": "stream",
     "text": [
      "worm \n",
      "\n"
     ]
    },
    {
     "data": {
      "image/png": "[encoded data removed]",
      "text/plain": [
       "<Figure size 432x288 with 1 Axes>"
      ]
     },
     "metadata": {
      "needs_background": "light"
     },
     "output_type": "display_data"
    },
    {
     "name": "stdout",
     "output_type": "stream",
     "text": [
      "other \n",
      "\n"
     ]
    },
    {
     "data": {
      "image/png": "[encoded data removed]",
      "text/plain": [
       "<Figure size 432x288 with 1 Axes>"
      ]
     },
     "metadata": {
      "needs_background": "light"
     },
     "output_type": "display_data"
    }
   ],
   "source": [
    "i = 0\n",
    "for key in inter_no_comp_df:\n",
    "    print(key, '\\n')\n",
    "    line = [informed_loglikelihood[i], uniformed_loglikelihood[i]]\n",
    "    plot_summary('log likelihood', summ=inter_no_comp_df[key], baseline=line, names=['Informed', 'Uniformed'])\n",
    "    i += 1\n",
    "    plt.show()"
   ]
  },
  {
   "cell_type": "markdown",
   "metadata": {},
   "source": []
  },
  {
   "cell_type": "code",
   "execution_count": 22,
   "metadata": {},
   "outputs": [],
   "source": [
    "def loss(y_test, y_pred):\n",
    "    y_test = y_test.astype(np.float16)\n",
    "    y_pred = y_pred.astype(np.float16)\n",
    "    if len(y_test.shape) == 1:\n",
    "        N = y_test.shape[0]\n",
    "        loss = 0\n",
    "        for i in range(N):\n",
    "            loss -= ((y_test[i]*np.log(y_pred[i]))+((1.0-y_test[i])*np.log(1.0-y_pred[i])))\n",
    "            loss = loss/N\n",
    "    else:\n",
    "        N,M = y_test.shape\n",
    "        a=[]\n",
    "        for m in range(M):\n",
    "            loss=0\n",
    "            for i in range(N):\n",
    "                subloss = ((y_test[i,m]*np.log(y_pred[i,m]))+((1.0-y_test[i,m])*np.log(1.0-y_pred[i,m])))\n",
    "                if np.isnan(subloss):\n",
    "                    continue\n",
    "                loss -= subloss\n",
    "            loss = loss/N\n",
    "            a.append(round(loss,8))\n",
    "        loss = np.mean(a)\n",
    "    return loss"
   ]
  },
  {
   "cell_type": "code",
   "execution_count": 23,
   "metadata": {},
   "outputs": [],
   "source": [
    "# choose the best RuleFit\n",
    "best_rf = {}\n",
    "for phase in inter_no_comp:\n",
    "    lst = []\n",
    "    for each in inter_no_comp[phase].fitted_['RuFit']:\n",
    "        pred = each.predict_proba(data.x)\n",
    "        res = log_loss(data.y[phase].values, pred)\n",
    "        lst.append((res, each))\n",
    "    lst.sort()\n",
    "    best_rf[phase] = lst[0][1]"
   ]
  },
  {
   "cell_type": "code",
   "execution_count": 24,
   "metadata": {},
   "outputs": [],
   "source": [
    "for each in best_rf:\n",
    "    dic = best_rf[each].get_rules(data.x, data.y[each])\n",
    "    for key, values in dic.items():\n",
    "        name = 'Rules/Individual_Phase/Interpolation/23p'+ \"_\" + key + '.csv'\n",
    "        values.to_csv(name, index=False)"
   ]
  },
  {
   "cell_type": "code",
   "execution_count": null,
   "metadata": {},
   "outputs": [],
   "source": []
  }
 ],
 "metadata": {
  "kernelspec": {
   "display_name": "Python 3",
   "language": "python",
   "name": "python3"
  }
 },
 "nbformat": 4,
 "nbformat_minor": 5
}
