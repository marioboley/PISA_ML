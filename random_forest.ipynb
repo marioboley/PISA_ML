{
 "cells": [
  {
   "cell_type": "markdown",
   "metadata": {},
   "source": [
    "This notebook is about __Random Forest__ performance in __full phase__"
   ]
  },
  {
   "cell_type": "code",
   "execution_count": 1,
   "metadata": {},
   "outputs": [],
   "source": [
    "from models import *\n",
    "from common import *"
   ]
  },
  {
   "cell_type": "code",
   "execution_count": 2,
   "metadata": {},
   "outputs": [],
   "source": [
    "# estimators here\n",
    "STATE = np.random.RandomState(seed=1000)\n",
    "full_estimators = [random_forest_pcc]\n",
    "full_names = ['RF_pcc']"
   ]
  },
  {
   "cell_type": "code",
   "execution_count": 3,
   "metadata": {},
   "outputs": [
    {
     "name": "stdout",
     "output_type": "stream",
     "text": [
      "Full Phase Interpolation\n",
      "Current Prediction Order is: ['sphere', 'worm', 'vesicle', 'other']\n",
      "Num of predictors:,  23\n",
      "Running experiment with 30 repetitions\n",
      "======================================\n"
     ]
    },
    {
     "name": "stderr",
     "output_type": "stream",
     "text": [
      "/opt/anaconda3/lib/python3.8/site-packages/sklearn/utils/validation.py:67: FutureWarning: Pass shuffle=True, random_state=RandomState(MT19937) as keyword args. From version 0.25 passing these as positional arguments will result in an error\n",
      "  warnings.warn(\"Pass {} as keyword args. From version 0.25 \"\n"
     ]
    },
    {
     "name": "stdout",
     "output_type": "stream",
     "text": [
      "******************************\n"
     ]
    }
   ],
   "source": [
    "print('Full Phase Interpolation')\n",
    "print(\"Current Prediction Order is:\", data.y.columns.tolist())\n",
    "print('Num of predictors:, ', data.x1.shape[1])\n",
    "interpolation = Experiment(full_estimators, \n",
    "                            full_names,\n",
    "                            KFoldSpecial(30, shuffle=True, random_state=STATE),\n",
    "                            data.x1, data.y.replace(-1.0, 0.0),\n",
    "                            groups=data.comp_ids.array,\n",
    "                            evaluators=[hamming_loss, error, NegLogLikelihoodEvaluator(base=2)],\n",
    "                            verbose=True).run()"
   ]
  },
  {
   "cell_type": "code",
   "execution_count": 8,
   "metadata": {},
   "outputs": [
    {
     "data": {
      "text/html": [
       "<div>\n",
       "<style scoped>\n",
       "    .dataframe tbody tr th:only-of-type {\n",
       "        vertical-align: middle;\n",
       "    }\n",
       "\n",
       "    .dataframe tbody tr th {\n",
       "        vertical-align: top;\n",
       "    }\n",
       "\n",
       "    .dataframe thead th {\n",
       "        text-align: right;\n",
       "    }\n",
       "</style>\n",
       "<table border=\"1\" class=\"dataframe\">\n",
       "  <thead>\n",
       "    <tr style=\"text-align: right;\">\n",
       "      <th></th>\n",
       "      <th>mean_train_hamming loss</th>\n",
       "      <th>std_train_hamming loss</th>\n",
       "      <th>mean_test_hamming loss</th>\n",
       "      <th>std_test_hamming loss</th>\n",
       "      <th>mean_train_error</th>\n",
       "      <th>std_train_error</th>\n",
       "      <th>mean_test_error</th>\n",
       "      <th>std_test_error</th>\n",
       "      <th>mean_train_log loss</th>\n",
       "      <th>std_train_log loss</th>\n",
       "      <th>mean_test_log loss</th>\n",
       "      <th>std_test_log loss</th>\n",
       "    </tr>\n",
       "  </thead>\n",
       "  <tbody>\n",
       "    <tr>\n",
       "      <th>RF_pcc</th>\n",
       "      <td>0.00032</td>\n",
       "      <td>0.000472</td>\n",
       "      <td>0.064211</td>\n",
       "      <td>0.02616</td>\n",
       "      <td>0.000699</td>\n",
       "      <td>0.001086</td>\n",
       "      <td>0.202895</td>\n",
       "      <td>0.078216</td>\n",
       "      <td>0.246387</td>\n",
       "      <td>0.003014</td>\n",
       "      <td>1.139354</td>\n",
       "      <td>0.79553</td>\n",
       "    </tr>\n",
       "  </tbody>\n",
       "</table>\n",
       "</div>"
      ],
      "text/plain": [
       "        mean_train_hamming loss  std_train_hamming loss  \\\n",
       "RF_pcc                  0.00032                0.000472   \n",
       "\n",
       "        mean_test_hamming loss  std_test_hamming loss  mean_train_error  \\\n",
       "RF_pcc                0.064211                0.02616          0.000699   \n",
       "\n",
       "        std_train_error  mean_test_error  std_test_error  mean_train_log loss  \\\n",
       "RF_pcc         0.001086         0.202895        0.078216             0.246387   \n",
       "\n",
       "        std_train_log loss  mean_test_log loss  std_test_log loss  \n",
       "RF_pcc            0.003014            1.139354            0.79553  "
      ]
     },
     "execution_count": 8,
     "metadata": {},
     "output_type": "execute_result"
    }
   ],
   "source": [
    "df_inter = interpolation.summary()\n",
    "df_inter"
   ]
  },
  {
   "cell_type": "code",
   "execution_count": 5,
   "metadata": {},
   "outputs": [
    {
     "name": "stdout",
     "output_type": "stream",
     "text": [
      "Full Phase Extrapolation\n",
      "Current Prediction Order is: ['sphere', 'worm', 'vesicle', 'other']\n",
      "Num of predictors:,  23\n",
      "Running experiment with 28 repetitions\n",
      "======================================\n",
      "****************************\n"
     ]
    }
   ],
   "source": [
    "print('Full Phase Extrapolation')\n",
    "print(\"Current Prediction Order is:\", data.y.columns.tolist())\n",
    "print('Num of predictors:, ', data.x1.shape[1])\n",
    "extrapolation = ExtrapolationExperiment(full_estimators, \n",
    "                            full_names,\n",
    "                            GroupKFoldSpecial(len(set(data.comp_ids)), size=20),\n",
    "                            data.x1, data.y.replace(-1.0, 0.0), groups=data.comp_ids.array,\n",
    "                            evaluators=[hamming_loss, error, NegLogLikelihoodEvaluator(base=2),\n",
    "                            GroupDescription(data.comp_descr, 'composition')],\n",
    "                            verbose=True).run()"
   ]
  },
  {
   "cell_type": "code",
   "execution_count": 7,
   "metadata": {},
   "outputs": [
    {
     "data": {
      "text/html": [
       "<div>\n",
       "<style scoped>\n",
       "    .dataframe tbody tr th:only-of-type {\n",
       "        vertical-align: middle;\n",
       "    }\n",
       "\n",
       "    .dataframe tbody tr th {\n",
       "        vertical-align: top;\n",
       "    }\n",
       "\n",
       "    .dataframe thead th {\n",
       "        text-align: right;\n",
       "    }\n",
       "</style>\n",
       "<table border=\"1\" class=\"dataframe\">\n",
       "  <thead>\n",
       "    <tr style=\"text-align: right;\">\n",
       "      <th></th>\n",
       "      <th>mean_train_hamming loss</th>\n",
       "      <th>std_train_hamming loss</th>\n",
       "      <th>mean_test_hamming loss</th>\n",
       "      <th>std_test_hamming loss</th>\n",
       "      <th>mean_train_error</th>\n",
       "      <th>std_train_error</th>\n",
       "      <th>mean_test_error</th>\n",
       "      <th>std_test_error</th>\n",
       "      <th>mean_train_log loss</th>\n",
       "      <th>std_train_log loss</th>\n",
       "      <th>mean_test_log loss</th>\n",
       "      <th>std_test_log loss</th>\n",
       "    </tr>\n",
       "  </thead>\n",
       "  <tbody>\n",
       "    <tr>\n",
       "      <th>RF_pcc</th>\n",
       "      <td>0.000214</td>\n",
       "      <td>0.000377</td>\n",
       "      <td>0.109772</td>\n",
       "      <td>0.185404</td>\n",
       "      <td>0.000427</td>\n",
       "      <td>0.000754</td>\n",
       "      <td>0.240988</td>\n",
       "      <td>0.380918</td>\n",
       "      <td>0.242205</td>\n",
       "      <td>0.004092</td>\n",
       "      <td>2.069523</td>\n",
       "      <td>4.054021</td>\n",
       "    </tr>\n",
       "  </tbody>\n",
       "</table>\n",
       "</div>"
      ],
      "text/plain": [
       "        mean_train_hamming loss  std_train_hamming loss  \\\n",
       "RF_pcc                 0.000214                0.000377   \n",
       "\n",
       "        mean_test_hamming loss  std_test_hamming loss  mean_train_error  \\\n",
       "RF_pcc                0.109772               0.185404          0.000427   \n",
       "\n",
       "        std_train_error  mean_test_error  std_test_error  mean_train_log loss  \\\n",
       "RF_pcc         0.000754         0.240988        0.380918             0.242205   \n",
       "\n",
       "        std_train_log loss  mean_test_log loss  std_test_log loss  \n",
       "RF_pcc            0.004092            2.069523           4.054021  "
      ]
     },
     "execution_count": 7,
     "metadata": {},
     "output_type": "execute_result"
    }
   ],
   "source": [
    "df_extra = extrapolation.summary()\n",
    "df_extra"
   ]
  },
  {
   "cell_type": "code",
   "execution_count": 15,
   "metadata": {},
   "outputs": [
    {
     "data": {
      "text/html": [
       "<div>\n",
       "<style scoped>\n",
       "    .dataframe tbody tr th:only-of-type {\n",
       "        vertical-align: middle;\n",
       "    }\n",
       "\n",
       "    .dataframe tbody tr th {\n",
       "        vertical-align: top;\n",
       "    }\n",
       "\n",
       "    .dataframe thead th {\n",
       "        text-align: right;\n",
       "    }\n",
       "</style>\n",
       "<table border=\"1\" class=\"dataframe\">\n",
       "  <thead>\n",
       "    <tr style=\"text-align: right;\">\n",
       "      <th></th>\n",
       "      <th>mean_train_hamming loss</th>\n",
       "      <th>std_train_hamming loss</th>\n",
       "      <th>mean_test_hamming loss</th>\n",
       "      <th>std_test_hamming loss</th>\n",
       "      <th>mean_train_error</th>\n",
       "      <th>std_train_error</th>\n",
       "      <th>mean_test_error</th>\n",
       "      <th>std_test_error</th>\n",
       "      <th>mean_train_log loss</th>\n",
       "      <th>std_train_log loss</th>\n",
       "      <th>mean_test_log loss</th>\n",
       "      <th>std_test_log loss</th>\n",
       "    </tr>\n",
       "  </thead>\n",
       "  <tbody>\n",
       "    <tr>\n",
       "      <th>RF_inter_pcc</th>\n",
       "      <td>0.000320</td>\n",
       "      <td>0.000472</td>\n",
       "      <td>0.064211</td>\n",
       "      <td>0.026160</td>\n",
       "      <td>0.000699</td>\n",
       "      <td>0.001086</td>\n",
       "      <td>0.202895</td>\n",
       "      <td>0.078216</td>\n",
       "      <td>0.246387</td>\n",
       "      <td>0.003014</td>\n",
       "      <td>1.139354</td>\n",
       "      <td>0.795530</td>\n",
       "    </tr>\n",
       "    <tr>\n",
       "      <th>RF_extra_pcc</th>\n",
       "      <td>0.000214</td>\n",
       "      <td>0.000377</td>\n",
       "      <td>0.109772</td>\n",
       "      <td>0.185404</td>\n",
       "      <td>0.000427</td>\n",
       "      <td>0.000754</td>\n",
       "      <td>0.240988</td>\n",
       "      <td>0.380918</td>\n",
       "      <td>0.242205</td>\n",
       "      <td>0.004092</td>\n",
       "      <td>2.069523</td>\n",
       "      <td>4.054021</td>\n",
       "    </tr>\n",
       "  </tbody>\n",
       "</table>\n",
       "</div>"
      ],
      "text/plain": [
       "              mean_train_hamming loss  std_train_hamming loss  \\\n",
       "RF_inter_pcc                 0.000320                0.000472   \n",
       "RF_extra_pcc                 0.000214                0.000377   \n",
       "\n",
       "              mean_test_hamming loss  std_test_hamming loss  mean_train_error  \\\n",
       "RF_inter_pcc                0.064211               0.026160          0.000699   \n",
       "RF_extra_pcc                0.109772               0.185404          0.000427   \n",
       "\n",
       "              std_train_error  mean_test_error  std_test_error  \\\n",
       "RF_inter_pcc         0.001086         0.202895        0.078216   \n",
       "RF_extra_pcc         0.000754         0.240988        0.380918   \n",
       "\n",
       "              mean_train_log loss  std_train_log loss  mean_test_log loss  \\\n",
       "RF_inter_pcc             0.246387            0.003014            1.139354   \n",
       "RF_extra_pcc             0.242205            0.004092            2.069523   \n",
       "\n",
       "              std_test_log loss  \n",
       "RF_inter_pcc           0.795530  \n",
       "RF_extra_pcc           4.054021  "
      ]
     },
     "execution_count": 15,
     "metadata": {},
     "output_type": "execute_result"
    }
   ],
   "source": [
    "import pandas as pd\n",
    "\n",
    "df = pd.concat([df_inter, df_extra])\n",
    "df.index = ['RF_inter_pcc', 'RF_extra_pcc']\n",
    "df"
   ]
  },
  {
   "cell_type": "code",
   "execution_count": null,
   "metadata": {},
   "outputs": [],
   "source": []
  }
 ],
 "metadata": {
  "interpreter": {
   "hash": "40d3a090f54c6569ab1632332b64b2c03c39dcf918b08424e98f38b5ae0af88f"
  },
  "kernelspec": {
   "display_name": "Python 3.8.5 ('base')",
   "language": "python",
   "name": "python3"
  },
  "language_info": {
   "codemirror_mode": {
    "name": "ipython",
    "version": 3
   },
   "file_extension": ".py",
   "mimetype": "text/x-python",
   "name": "python",
   "nbconvert_exporter": "python",
   "pygments_lexer": "ipython3",
   "version": "3.8.5"
  },
  "orig_nbformat": 4
 },
 "nbformat": 4,
 "nbformat_minor": 2
}
