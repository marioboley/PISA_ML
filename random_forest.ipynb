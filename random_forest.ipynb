{
 "cells": [
  {
   "cell_type": "markdown",
   "metadata": {},
   "source": [
    "This notebook is about __Random Forest__ performance in __full phase__"
   ]
  },
  {
   "cell_type": "code",
   "execution_count": 1,
   "metadata": {},
   "outputs": [],
   "source": [
    "from models import random_forest_pcc\n",
    "from common import *"
   ]
  },
  {
   "cell_type": "code",
   "execution_count": 2,
   "metadata": {},
   "outputs": [],
   "source": [
    "# estimators here\n",
    "full_estimators = [random_forest_pcc]#, linear_l1_pcc, linear_pcc, glm_l1_pcc, glm_l2_pcc]\n",
    "full_names = ['linear_non_pcc']#, 'linear_l1_pcc', 'linear_l2_pcc', 'glm_l1_pcc', 'glm_l2_pcc']"
   ]
  },
  {
   "cell_type": "code",
   "execution_count": 3,
   "metadata": {},
   "outputs": [
    {
     "name": "stdout",
     "output_type": "stream",
     "text": [
      "Interpolation\n",
      "Current Prediction Order is: ['sphere', 'worm', 'vesicle', 'other']\n",
      "Num of predictors:,  23\n",
      "Running experiment with 30 repetitions\n",
      "======================================\n",
      "******************************\n"
     ]
    }
   ],
   "source": [
    "print('Interpolation')\n",
    "print(\"Current Prediction Order is:\", data.y.columns.tolist())\n",
    "print('Num of predictors:, ', data.x1.shape[1])\n",
    "\n",
    "interpolation = Experiment(full_estimators, \n",
    "                            full_names,\n",
    "                            KFold(30, shuffle=True, random_state=STATE),\n",
    "                            data.x1, data.y.replace(-1.0, 0.0),\n",
    "                            groups=data.comp_ids.array, \n",
    "                            evaluators=[hamming_loss, ErrorEvaluator, NegLogLikelihoodEvaluator(base=2)],\n",
    "                            verbose=True).run()"
   ]
  },
  {
   "cell_type": "code",
   "execution_count": 4,
   "metadata": {},
   "outputs": [
    {
     "data": {
      "text/html": [
       "<div>\n",
       "<style scoped>\n",
       "    .dataframe tbody tr th:only-of-type {\n",
       "        vertical-align: middle;\n",
       "    }\n",
       "\n",
       "    .dataframe tbody tr th {\n",
       "        vertical-align: top;\n",
       "    }\n",
       "\n",
       "    .dataframe thead th {\n",
       "        text-align: right;\n",
       "    }\n",
       "</style>\n",
       "<table border=\"1\" class=\"dataframe\">\n",
       "  <thead>\n",
       "    <tr style=\"text-align: right;\">\n",
       "      <th></th>\n",
       "      <th>mean_train_hamming loss</th>\n",
       "      <th>std_train_hamming loss</th>\n",
       "      <th>mean_test_hamming loss</th>\n",
       "      <th>std_test_hamming loss</th>\n",
       "      <th>mean_train_error</th>\n",
       "      <th>std_train_error</th>\n",
       "      <th>mean_test_error</th>\n",
       "      <th>std_test_error</th>\n",
       "      <th>mean_train_log likelihood</th>\n",
       "      <th>std_train_log likelihood</th>\n",
       "      <th>mean_test_log likelihood</th>\n",
       "      <th>std_test_log likelihood</th>\n",
       "    </tr>\n",
       "  </thead>\n",
       "  <tbody>\n",
       "    <tr>\n",
       "      <th>linear_non_pcc</th>\n",
       "      <td>0.000204</td>\n",
       "      <td>0.000425</td>\n",
       "      <td>0.066294</td>\n",
       "      <td>0.028894</td>\n",
       "      <td>0.000466</td>\n",
       "      <td>0.000909</td>\n",
       "      <td>0.204386</td>\n",
       "      <td>0.074076</td>\n",
       "      <td>-0.246837</td>\n",
       "      <td>0.003722</td>\n",
       "      <td>-1.211992</td>\n",
       "      <td>0.916856</td>\n",
       "    </tr>\n",
       "  </tbody>\n",
       "</table>\n",
       "</div>"
      ],
      "text/plain": [
       "                mean_train_hamming loss  std_train_hamming loss  \\\n",
       "linear_non_pcc                 0.000204                0.000425   \n",
       "\n",
       "                mean_test_hamming loss  std_test_hamming loss  \\\n",
       "linear_non_pcc                0.066294               0.028894   \n",
       "\n",
       "                mean_train_error  std_train_error  mean_test_error  \\\n",
       "linear_non_pcc          0.000466         0.000909         0.204386   \n",
       "\n",
       "                std_test_error  mean_train_log likelihood  \\\n",
       "linear_non_pcc        0.074076                  -0.246837   \n",
       "\n",
       "                std_train_log likelihood  mean_test_log likelihood  \\\n",
       "linear_non_pcc                  0.003722                 -1.211992   \n",
       "\n",
       "                std_test_log likelihood  \n",
       "linear_non_pcc                 0.916856  "
      ]
     },
     "execution_count": 4,
     "metadata": {},
     "output_type": "execute_result"
    }
   ],
   "source": [
    "interpolation.summary()"
   ]
  },
  {
   "cell_type": "code",
   "execution_count": null,
   "metadata": {},
   "outputs": [],
   "source": []
  }
 ],
 "metadata": {
  "interpreter": {
   "hash": "40d3a090f54c6569ab1632332b64b2c03c39dcf918b08424e98f38b5ae0af88f"
  },
  "kernelspec": {
   "display_name": "Python 3.8.5 ('base')",
   "language": "python",
   "name": "python3"
  },
  "language_info": {
   "codemirror_mode": {
    "name": "ipython",
    "version": 3
   },
   "file_extension": ".py",
   "mimetype": "text/x-python",
   "name": "python",
   "nbconvert_exporter": "python",
   "pygments_lexer": "ipython3",
   "version": "3.8.5"
  },
  "orig_nbformat": 4
 },
 "nbformat": 4,
 "nbformat_minor": 2
}
