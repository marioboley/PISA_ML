{
 "cells": [
  {
   "cell_type": "markdown",
   "metadata": {},
   "source": [
    "This notebook is only focusing on Milestone 1 sample.\n",
    "\n",
    "This notebook focus on the following criteria\n",
    "1. Linear, GAM, rules, forest (baseline)\n",
    "1. 30-fold CV error rate and log loss\n"
   ]
  },
  {
   "cell_type": "code",
   "execution_count": 1,
   "metadata": {},
   "outputs": [],
   "source": [
    "import data1 as data\n",
    "import random\n",
    "from common import *\n",
    "from rules import *\n",
    "from realkd.patch import RuleFit\n",
    "from sklearn.model_selection import cross_validate, KFold\n",
    "from sklearn.ensemble import RandomForestClassifier\n",
    "from sklearn.model_selection import LeaveOneOut\n",
    "import numpy as np"
   ]
  },
  {
   "cell_type": "code",
   "execution_count": 2,
   "metadata": {},
   "outputs": [],
   "source": [
    "import warnings\n",
    "warnings.filterwarnings(\"ignore\")"
   ]
  },
  {
   "cell_type": "markdown",
   "metadata": {},
   "source": [
    "## Full phase prediction\n"
   ]
  },
  {
   "cell_type": "code",
   "execution_count": 3,
   "metadata": {},
   "outputs": [],
   "source": [
    "from sklearn.linear_model import LogisticRegressionCV\n",
    "from sklearn.multioutput import ClassifierChain\n",
    "from multilabel import BinaryRelevanceClassifier, ProbabilisticClassifierChain\n",
    "from gam import LogisticGAM\n",
    "\n",
    "STATE = np.random.RandomState(seed=1000)\n",
    "\n",
    "lr = LogisticRegressionCV(penalty='l1', solver='saga', random_state=STATE)\n",
    "lr_ind = BinaryRelevanceClassifier(lr)\n",
    "lr_chain = ClassifierChain(lr, order=[0, 1, 2])\n",
    "lr_pcc = ProbabilisticClassifierChain(lr) \n",
    "\n",
    "# gams not fixed, remove this part.\n",
    "# gam_ind = BinaryRelevanceClassifier(LogisticGAM(lam=20.0, max_iter=250))\n",
    "# gam_chain = ClassifierChain(LogisticGAM(lam=20.0, max_iter=250))\n",
    "# gam_pcc = ProbabilisticClassifierChain(LogisticGAM(lam=20.0, max_iter=250))\n",
    "\n",
    "rf = RandomForestClassifier(random_state=STATE, min_samples_leaf=1, n_estimators=100)\n",
    "rf_ind = BinaryRelevanceClassifier(rf)\n",
    "rf_chain = ClassifierChain(rf, order=[0, 2, 1])\n",
    "rf_pcc = ProbabilisticClassifierChain(rf)\n",
    "\n",
    "# Rulefit\n",
    "rufit_pcc = RuleFitWrapper()\n",
    "\n",
    "full_estimators = [lr_ind, lr_pcc, rf_ind, rf_pcc, rufit_pcc]\n",
    "full_names = ['LR_ind', 'LR_pcc', 'RF_ind', 'RF_pcc', 'rufit_pcc']\n",
    "\n",
    "# indi_estimators = [lr_ind, lr_pcc, rf_ind, rf_pcc, rufit, gam_ind, gam_pcc]\n",
    "# indi_names = ['LR_ind', 'LR_pcc', 'RF_ind', 'RF_pcc', 'Rule_fit', 'Gam_ind', 'gam_pcc']"
   ]
  },
  {
   "cell_type": "markdown",
   "metadata": {},
   "source": [
    "This following code under \"2.6 GHz 6-Core Intel Core i7\" runs ~5 hours. You can simply use saved result to re-run the result."
   ]
  },
  {
   "cell_type": "code",
   "execution_count": 4,
   "metadata": {
    "scrolled": true
   },
   "outputs": [
    {
     "name": "stdout",
     "output_type": "stream",
     "text": [
      "Running experiment with 30 repetitions\n",
      "======================================\n",
      "******************************\n"
     ]
    }
   ],
   "source": [
    "from common import Experiment, LogLikelihoodEvaluator\n",
    "from sklearn.model_selection import KFold\n",
    "\n",
    "interpolation = Experiment(full_estimators, \n",
    "                    full_names,\n",
    "                    KFold(30, shuffle=True, random_state=STATE),\n",
    "                    data.x, data.y.replace(-1.0, 0.0),\n",
    "                    groups=data.comp_ids.array, \n",
    "                    evaluators=['accuracy', LogLikelihoodEvaluator(2, neg=True)],\n",
    "                    verbose=True).run()"
   ]
  },
  {
   "cell_type": "code",
   "execution_count": 16,
   "metadata": {
    "scrolled": true
   },
   "outputs": [],
   "source": [
    "# save models in directory, remove comment to use it.\n",
    "# cur_save=open('./' + 'interpolation_30folder' + '.p', 'wb')\n",
    "# pickle.dump(interpolation, cur_save, -1)\n",
    "# cur_save.close()\n",
    "# cur_save=open('./' + 'interpolation_30folder' + '.p', 'rb')\n",
    "# interpolation = pickle.load(cur_save)"
   ]
  },
  {
   "cell_type": "markdown",
   "metadata": {},
   "source": [
    "We can find the rufit model is comparable with random forest."
   ]
  },
  {
   "cell_type": "code",
   "execution_count": 5,
   "metadata": {},
   "outputs": [
    {
     "data": {
      "text/html": [
       "<div>\n",
       "<style scoped>\n",
       "    .dataframe tbody tr th:only-of-type {\n",
       "        vertical-align: middle;\n",
       "    }\n",
       "\n",
       "    .dataframe tbody tr th {\n",
       "        vertical-align: top;\n",
       "    }\n",
       "\n",
       "    .dataframe thead th {\n",
       "        text-align: right;\n",
       "    }\n",
       "</style>\n",
       "<table border=\"1\" class=\"dataframe\">\n",
       "  <thead>\n",
       "    <tr style=\"text-align: right;\">\n",
       "      <th></th>\n",
       "      <th>mean_train_accuracy</th>\n",
       "      <th>std_train_accuracy</th>\n",
       "      <th>mean_test_accuracy</th>\n",
       "      <th>std_test_accuracy</th>\n",
       "      <th>mean_train_log loss</th>\n",
       "      <th>std_train_log loss</th>\n",
       "      <th>mean_test_log loss</th>\n",
       "      <th>std_test_log loss</th>\n",
       "    </tr>\n",
       "  </thead>\n",
       "  <tbody>\n",
       "    <tr>\n",
       "      <th>LR_ind</th>\n",
       "      <td>0.382689</td>\n",
       "      <td>0.011744</td>\n",
       "      <td>0.378509</td>\n",
       "      <td>0.149020</td>\n",
       "      <td>2.908712</td>\n",
       "      <td>0.011742</td>\n",
       "      <td>2.929920</td>\n",
       "      <td>0.345263</td>\n",
       "    </tr>\n",
       "    <tr>\n",
       "      <th>LR_pcc</th>\n",
       "      <td>0.382689</td>\n",
       "      <td>0.011744</td>\n",
       "      <td>0.378509</td>\n",
       "      <td>0.149020</td>\n",
       "      <td>2.908712</td>\n",
       "      <td>0.011742</td>\n",
       "      <td>2.929920</td>\n",
       "      <td>0.345263</td>\n",
       "    </tr>\n",
       "    <tr>\n",
       "      <th>RF_ind</th>\n",
       "      <td>0.999825</td>\n",
       "      <td>0.000533</td>\n",
       "      <td>0.788860</td>\n",
       "      <td>0.075846</td>\n",
       "      <td>0.256396</td>\n",
       "      <td>0.004974</td>\n",
       "      <td>1.140403</td>\n",
       "      <td>0.702724</td>\n",
       "    </tr>\n",
       "    <tr>\n",
       "      <th>RF_pcc</th>\n",
       "      <td>0.999243</td>\n",
       "      <td>0.001186</td>\n",
       "      <td>0.792105</td>\n",
       "      <td>0.069495</td>\n",
       "      <td>0.245991</td>\n",
       "      <td>0.003946</td>\n",
       "      <td>1.087693</td>\n",
       "      <td>0.697455</td>\n",
       "    </tr>\n",
       "    <tr>\n",
       "      <th>rufit_pcc</th>\n",
       "      <td>0.985149</td>\n",
       "      <td>0.015632</td>\n",
       "      <td>0.788684</td>\n",
       "      <td>0.076686</td>\n",
       "      <td>0.157473</td>\n",
       "      <td>0.118493</td>\n",
       "      <td>1.291236</td>\n",
       "      <td>0.753052</td>\n",
       "    </tr>\n",
       "  </tbody>\n",
       "</table>\n",
       "</div>"
      ],
      "text/plain": [
       "           mean_train_accuracy  std_train_accuracy  mean_test_accuracy  \\\n",
       "LR_ind                0.382689            0.011744            0.378509   \n",
       "LR_pcc                0.382689            0.011744            0.378509   \n",
       "RF_ind                0.999825            0.000533            0.788860   \n",
       "RF_pcc                0.999243            0.001186            0.792105   \n",
       "rufit_pcc             0.985149            0.015632            0.788684   \n",
       "\n",
       "           std_test_accuracy  mean_train_log loss  std_train_log loss  \\\n",
       "LR_ind              0.149020             2.908712            0.011742   \n",
       "LR_pcc              0.149020             2.908712            0.011742   \n",
       "RF_ind              0.075846             0.256396            0.004974   \n",
       "RF_pcc              0.069495             0.245991            0.003946   \n",
       "rufit_pcc           0.076686             0.157473            0.118493   \n",
       "\n",
       "           mean_test_log loss  std_test_log loss  \n",
       "LR_ind               2.929920           0.345263  \n",
       "LR_pcc               2.929920           0.345263  \n",
       "RF_ind               1.140403           0.702724  \n",
       "RF_pcc               1.087693           0.697455  \n",
       "rufit_pcc            1.291236           0.753052  "
      ]
     },
     "execution_count": 5,
     "metadata": {},
     "output_type": "execute_result"
    }
   ],
   "source": [
    "interpolation.summary()"
   ]
  },
  {
   "cell_type": "code",
   "execution_count": 15,
   "metadata": {},
   "outputs": [
    {
     "data": {
      "image/png": "[encoded data removed]",
      "text/plain": [
       "<Figure size 432x288 with 1 Axes>"
      ]
     },
     "metadata": {
      "needs_background": "light"
     },
     "output_type": "display_data"
    }
   ],
   "source": [
    "interpolation.plot_summary('log loss')"
   ]
  },
  {
   "cell_type": "code",
   "execution_count": 7,
   "metadata": {
    "scrolled": true
   },
   "outputs": [
    {
     "data": {
      "image/png": "[encoded data removed]",
      "text/plain": [
       "<Figure size 432x288 with 1 Axes>"
      ]
     },
     "metadata": {
      "needs_background": "light"
     },
     "output_type": "display_data"
    }
   ],
   "source": [
    "interpolation.plot_summary('accuracy')"
   ]
  },
  {
   "cell_type": "markdown",
   "metadata": {},
   "source": []
  },
  {
   "cell_type": "markdown",
   "metadata": {},
   "source": [
    "### Extrapolation"
   ]
  },
  {
   "cell_type": "code",
   "execution_count": null,
   "metadata": {},
   "outputs": [
    {
     "name": "stdout",
     "output_type": "stream",
     "text": [
      "Running experiment with 37 repetitions\n",
      "======================================\n",
      "**"
     ]
    }
   ],
   "source": [
    "from common import ExtrapolationExperiment, sample_size, GroupDescription\n",
    "from sklearn.model_selection import GroupKFold\n",
    "from sklearn.metrics import accuracy_score\n",
    "\n",
    "extrapolation = ExtrapolationExperiment(full_estimators, \n",
    "                                        full_names,\n",
    "                                        data.x, data.y.replace(-1, 0), data.comp_ids.values,\n",
    "                                        score=['accuracy', LogLikelihoodEvaluator(2, neg=True), \n",
    "                                               sample_size,\n",
    "                                               GroupDescription(data.comp_descr, 'composition')]).run()"
   ]
  },
  {
   "cell_type": "markdown",
   "metadata": {},
   "source": [
    "## Individual phase prediction"
   ]
  },
  {
   "cell_type": "code",
   "execution_count": 19,
   "metadata": {
    "scrolled": true
   },
   "outputs": [
    {
     "name": "stdout",
     "output_type": "stream",
     "text": [
      "Running experiment with 2 repetitions\n",
      "=====================================\n",
      "**\n"
     ]
    }
   ],
   "source": [
    "a = Experiment([rufit, rf], \n",
    "            ['RuleFit', 'RF'],\n",
    "            Splitdata(data.x, points, rep=2, frac=0.5),\n",
    "            data.x, data.sphere.replace(-1.0, 0.0), # \n",
    "            groups=None,\n",
    "            evaluators=['accuracy', LogLikelihoodEvaluator(2, neg=True)],\n",
    "            verbose=True).run()"
   ]
  },
  {
   "cell_type": "code",
   "execution_count": 20,
   "metadata": {},
   "outputs": [
    {
     "data": {
      "text/html": [
       "<div>\n",
       "<style scoped>\n",
       "    .dataframe tbody tr th:only-of-type {\n",
       "        vertical-align: middle;\n",
       "    }\n",
       "\n",
       "    .dataframe tbody tr th {\n",
       "        vertical-align: top;\n",
       "    }\n",
       "\n",
       "    .dataframe thead th {\n",
       "        text-align: right;\n",
       "    }\n",
       "</style>\n",
       "<table border=\"1\" class=\"dataframe\">\n",
       "  <thead>\n",
       "    <tr style=\"text-align: right;\">\n",
       "      <th></th>\n",
       "      <th>mean_train_accuracy</th>\n",
       "      <th>std_train_accuracy</th>\n",
       "      <th>mean_test_accuracy</th>\n",
       "      <th>std_test_accuracy</th>\n",
       "      <th>mean_train_log loss</th>\n",
       "      <th>std_train_log loss</th>\n",
       "      <th>mean_test_log loss</th>\n",
       "      <th>std_test_log loss</th>\n",
       "    </tr>\n",
       "  </thead>\n",
       "  <tbody>\n",
       "    <tr>\n",
       "      <th>RuleFit</th>\n",
       "      <td>0.997368</td>\n",
       "      <td>0.001241</td>\n",
       "      <td>0.954545</td>\n",
       "      <td>0.064282</td>\n",
       "      <td>0.047193</td>\n",
       "      <td>0.003038</td>\n",
       "      <td>0.209518</td>\n",
       "      <td>0.204190</td>\n",
       "    </tr>\n",
       "    <tr>\n",
       "      <th>RF</th>\n",
       "      <td>1.000000</td>\n",
       "      <td>0.000000</td>\n",
       "      <td>0.909091</td>\n",
       "      <td>0.128565</td>\n",
       "      <td>0.084673</td>\n",
       "      <td>0.001053</td>\n",
       "      <td>0.399145</td>\n",
       "      <td>0.140472</td>\n",
       "    </tr>\n",
       "  </tbody>\n",
       "</table>\n",
       "</div>"
      ],
      "text/plain": [
       "         mean_train_accuracy  std_train_accuracy  mean_test_accuracy  \\\n",
       "RuleFit             0.997368            0.001241            0.954545   \n",
       "RF                  1.000000            0.000000            0.909091   \n",
       "\n",
       "         std_test_accuracy  mean_train_log loss  std_train_log loss  \\\n",
       "RuleFit           0.064282             0.047193            0.003038   \n",
       "RF                0.128565             0.084673            0.001053   \n",
       "\n",
       "         mean_test_log loss  std_test_log loss  \n",
       "RuleFit            0.209518           0.204190  \n",
       "RF                 0.399145           0.140472  "
      ]
     },
     "execution_count": 20,
     "metadata": {},
     "output_type": "execute_result"
    }
   ],
   "source": [
    "a.summary()"
   ]
  },
  {
   "cell_type": "code",
   "execution_count": 21,
   "metadata": {},
   "outputs": [
    {
     "data": {
      "image/png": "[encoded data removed]",
      "text/plain": [
       "<Figure size 432x288 with 1 Axes>"
      ]
     },
     "metadata": {
      "needs_background": "light"
     },
     "output_type": "display_data"
    }
   ],
   "source": [
    "a.plot_summary('log loss')"
   ]
  },
  {
   "cell_type": "code",
   "execution_count": 11,
   "metadata": {
    "scrolled": true
   },
   "outputs": [
    {
     "name": "stdout",
     "output_type": "stream",
     "text": [
      "Target:  sphere\n",
      "Running experiment with 2 repetitions\n",
      "=====================================\n",
      "**\n",
      "Running experiment with 2 repetitions\n",
      "=====================================\n",
      "**\n",
      "\n",
      "Target:  vesicle\n",
      "Running experiment with 2 repetitions\n",
      "=====================================\n",
      "**\n",
      "Running experiment with 2 repetitions\n",
      "=====================================\n",
      "**\n",
      "\n",
      "Target:  worm\n",
      "Running experiment with 2 repetitions\n",
      "=====================================\n",
      "**\n",
      "Running experiment with 2 repetitions\n",
      "=====================================\n",
      "**\n",
      "\n"
     ]
    }
   ],
   "source": [
    "from sklearn.model_selection import KFold\n",
    "\n",
    "inter_no_comp = {}\n",
    "\n",
    "for y in [data.sphere, data.vesicle, data.worm]:\n",
    "    print('Target: ',y.name)\n",
    "    experiment = Experiment([rufit, rf], \n",
    "            ['RuleFit', 'RF'],\n",
    "            Splitdata(data.x, points, rep=2, frac=0.5),\n",
    "            data.x, y.replace(-1.0, 0.0), # \n",
    "            groups=None,\n",
    "            evaluators=['accuracy', LogLikelihoodEvaluator(2, neg=True)],\n",
    "            verbose=True).run()\n",
    "    inter_no_comp[y.name] = experiment.run()\n",
    "    print()"
   ]
  },
  {
   "cell_type": "code",
   "execution_count": 40,
   "metadata": {},
   "outputs": [
    {
     "data": {
      "text/html": [
       "<div>\n",
       "<style scoped>\n",
       "    .dataframe tbody tr th:only-of-type {\n",
       "        vertical-align: middle;\n",
       "    }\n",
       "\n",
       "    .dataframe tbody tr th {\n",
       "        vertical-align: top;\n",
       "    }\n",
       "\n",
       "    .dataframe thead th {\n",
       "        text-align: right;\n",
       "    }\n",
       "</style>\n",
       "<table border=\"1\" class=\"dataframe\">\n",
       "  <thead>\n",
       "    <tr style=\"text-align: right;\">\n",
       "      <th></th>\n",
       "      <th>mean_train_accuracy</th>\n",
       "      <th>std_train_accuracy</th>\n",
       "      <th>mean_test_accuracy</th>\n",
       "      <th>std_test_accuracy</th>\n",
       "      <th>mean_train_log loss</th>\n",
       "      <th>std_train_log loss</th>\n",
       "      <th>mean_test_log loss</th>\n",
       "      <th>std_test_log loss</th>\n",
       "    </tr>\n",
       "  </thead>\n",
       "  <tbody>\n",
       "    <tr>\n",
       "      <th>RuleFit</th>\n",
       "      <td>0.997368</td>\n",
       "      <td>0.001241</td>\n",
       "      <td>0.954545</td>\n",
       "      <td>0.064282</td>\n",
       "      <td>0.047217</td>\n",
       "      <td>0.003011</td>\n",
       "      <td>0.206384</td>\n",
       "      <td>0.199755</td>\n",
       "    </tr>\n",
       "    <tr>\n",
       "      <th>RF</th>\n",
       "      <td>1.000000</td>\n",
       "      <td>0.000000</td>\n",
       "      <td>0.909091</td>\n",
       "      <td>0.128565</td>\n",
       "      <td>0.084673</td>\n",
       "      <td>0.001053</td>\n",
       "      <td>0.399145</td>\n",
       "      <td>0.140472</td>\n",
       "    </tr>\n",
       "  </tbody>\n",
       "</table>\n",
       "</div>"
      ],
      "text/plain": [
       "         mean_train_accuracy  std_train_accuracy  mean_test_accuracy  \\\n",
       "RuleFit             0.997368            0.001241            0.954545   \n",
       "RF                  1.000000            0.000000            0.909091   \n",
       "\n",
       "         std_test_accuracy  mean_train_log loss  std_train_log loss  \\\n",
       "RuleFit           0.064282             0.047217            0.003011   \n",
       "RF                0.128565             0.084673            0.001053   \n",
       "\n",
       "         mean_test_log loss  std_test_log loss  \n",
       "RuleFit            0.206384           0.199755  \n",
       "RF                 0.399145           0.140472  "
      ]
     },
     "execution_count": 40,
     "metadata": {},
     "output_type": "execute_result"
    }
   ],
   "source": [
    "inter_no_comp['sphere'].summary()"
   ]
  },
  {
   "cell_type": "code",
   "execution_count": 41,
   "metadata": {},
   "outputs": [
    {
     "data": {
      "text/html": [
       "<div>\n",
       "<style scoped>\n",
       "    .dataframe tbody tr th:only-of-type {\n",
       "        vertical-align: middle;\n",
       "    }\n",
       "\n",
       "    .dataframe tbody tr th {\n",
       "        vertical-align: top;\n",
       "    }\n",
       "\n",
       "    .dataframe thead th {\n",
       "        text-align: right;\n",
       "    }\n",
       "</style>\n",
       "<table border=\"1\" class=\"dataframe\">\n",
       "  <thead>\n",
       "    <tr style=\"text-align: right;\">\n",
       "      <th></th>\n",
       "      <th>mean_train_accuracy</th>\n",
       "      <th>std_train_accuracy</th>\n",
       "      <th>mean_test_accuracy</th>\n",
       "      <th>std_test_accuracy</th>\n",
       "      <th>mean_train_log loss</th>\n",
       "      <th>std_train_log loss</th>\n",
       "      <th>mean_test_log loss</th>\n",
       "      <th>std_test_log loss</th>\n",
       "    </tr>\n",
       "  </thead>\n",
       "  <tbody>\n",
       "    <tr>\n",
       "      <th>RuleFit</th>\n",
       "      <td>1.0</td>\n",
       "      <td>0.0</td>\n",
       "      <td>0.886364</td>\n",
       "      <td>0.032141</td>\n",
       "      <td>0.034109</td>\n",
       "      <td>0.001379</td>\n",
       "      <td>0.510571</td>\n",
       "      <td>0.007840</td>\n",
       "    </tr>\n",
       "    <tr>\n",
       "      <th>RF</th>\n",
       "      <td>1.0</td>\n",
       "      <td>0.0</td>\n",
       "      <td>0.818182</td>\n",
       "      <td>0.128565</td>\n",
       "      <td>0.073917</td>\n",
       "      <td>0.002289</td>\n",
       "      <td>0.425572</td>\n",
       "      <td>0.194948</td>\n",
       "    </tr>\n",
       "  </tbody>\n",
       "</table>\n",
       "</div>"
      ],
      "text/plain": [
       "         mean_train_accuracy  std_train_accuracy  mean_test_accuracy  \\\n",
       "RuleFit                  1.0                 0.0            0.886364   \n",
       "RF                       1.0                 0.0            0.818182   \n",
       "\n",
       "         std_test_accuracy  mean_train_log loss  std_train_log loss  \\\n",
       "RuleFit           0.032141             0.034109            0.001379   \n",
       "RF                0.128565             0.073917            0.002289   \n",
       "\n",
       "         mean_test_log loss  std_test_log loss  \n",
       "RuleFit            0.510571           0.007840  \n",
       "RF                 0.425572           0.194948  "
      ]
     },
     "execution_count": 41,
     "metadata": {},
     "output_type": "execute_result"
    }
   ],
   "source": [
    "inter_no_comp['vesicle'].summary()"
   ]
  },
  {
   "cell_type": "code",
   "execution_count": 42,
   "metadata": {},
   "outputs": [
    {
     "data": {
      "text/html": [
       "<div>\n",
       "<style scoped>\n",
       "    .dataframe tbody tr th:only-of-type {\n",
       "        vertical-align: middle;\n",
       "    }\n",
       "\n",
       "    .dataframe tbody tr th {\n",
       "        vertical-align: top;\n",
       "    }\n",
       "\n",
       "    .dataframe thead th {\n",
       "        text-align: right;\n",
       "    }\n",
       "</style>\n",
       "<table border=\"1\" class=\"dataframe\">\n",
       "  <thead>\n",
       "    <tr style=\"text-align: right;\">\n",
       "      <th></th>\n",
       "      <th>mean_train_accuracy</th>\n",
       "      <th>std_train_accuracy</th>\n",
       "      <th>mean_test_accuracy</th>\n",
       "      <th>std_test_accuracy</th>\n",
       "      <th>mean_train_log loss</th>\n",
       "      <th>std_train_log loss</th>\n",
       "      <th>mean_test_log loss</th>\n",
       "      <th>std_test_log loss</th>\n",
       "    </tr>\n",
       "  </thead>\n",
       "  <tbody>\n",
       "    <tr>\n",
       "      <th>RuleFit</th>\n",
       "      <td>0.999123</td>\n",
       "      <td>0.001241</td>\n",
       "      <td>0.750000</td>\n",
       "      <td>0.224989</td>\n",
       "      <td>0.039299</td>\n",
       "      <td>0.000734</td>\n",
       "      <td>1.196543</td>\n",
       "      <td>1.137874</td>\n",
       "    </tr>\n",
       "    <tr>\n",
       "      <th>RF</th>\n",
       "      <td>1.000000</td>\n",
       "      <td>0.000000</td>\n",
       "      <td>0.818182</td>\n",
       "      <td>0.257130</td>\n",
       "      <td>0.078794</td>\n",
       "      <td>0.001730</td>\n",
       "      <td>0.531823</td>\n",
       "      <td>0.384689</td>\n",
       "    </tr>\n",
       "  </tbody>\n",
       "</table>\n",
       "</div>"
      ],
      "text/plain": [
       "         mean_train_accuracy  std_train_accuracy  mean_test_accuracy  \\\n",
       "RuleFit             0.999123            0.001241            0.750000   \n",
       "RF                  1.000000            0.000000            0.818182   \n",
       "\n",
       "         std_test_accuracy  mean_train_log loss  std_train_log loss  \\\n",
       "RuleFit           0.224989             0.039299            0.000734   \n",
       "RF                0.257130             0.078794            0.001730   \n",
       "\n",
       "         mean_test_log loss  std_test_log loss  \n",
       "RuleFit            1.196543           1.137874  \n",
       "RF                 0.531823           0.384689  "
      ]
     },
     "execution_count": 42,
     "metadata": {},
     "output_type": "execute_result"
    }
   ],
   "source": [
    "inter_no_comp['worm'].summary()"
   ]
  },
  {
   "cell_type": "code",
   "execution_count": 43,
   "metadata": {},
   "outputs": [
    {
     "data": {
      "image/png": "[encoded data removed]",
      "text/plain": [
       "<Figure size 432x288 with 1 Axes>"
      ]
     },
     "metadata": {
      "needs_background": "light"
     },
     "output_type": "display_data"
    }
   ],
   "source": [
    "inter_no_comp['worm'].plot_summary('log loss')"
   ]
  },
  {
   "cell_type": "code",
   "execution_count": 44,
   "metadata": {},
   "outputs": [
    {
     "data": {
      "image/png": "[encoded data removed]",
      "text/plain": [
       "<Figure size 432x288 with 1 Axes>"
      ]
     },
     "metadata": {
      "needs_background": "light"
     },
     "output_type": "display_data"
    }
   ],
   "source": [
    "inter_no_comp['sphere'].plot_summary('log loss')"
   ]
  },
  {
   "cell_type": "code",
   "execution_count": 45,
   "metadata": {},
   "outputs": [
    {
     "data": {
      "image/png": "[encoded data removed]",
      "text/plain": [
       "<Figure size 432x288 with 1 Axes>"
      ]
     },
     "metadata": {
      "needs_background": "light"
     },
     "output_type": "display_data"
    }
   ],
   "source": [
    "inter_no_comp['vesicle'].plot_summary('log loss')"
   ]
  },
  {
   "cell_type": "code",
   "execution_count": null,
   "metadata": {},
   "outputs": [],
   "source": []
  }
 ],
 "metadata": {
  "kernelspec": {
   "display_name": "Python 3",
   "language": "python",
   "name": "python3"
  },
  "language_info": {
   "codemirror_mode": {
    "name": "ipython",
    "version": 3
   },
   "file_extension": ".py",
   "mimetype": "text/x-python",
   "name": "python",
   "nbconvert_exporter": "python",
   "pygments_lexer": "ipython3",
   "version": "3.8.5"
  }
 },
 "nbformat": 4,
 "nbformat_minor": 5
}
