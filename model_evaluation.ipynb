{
 "cells": [
  {
   "cell_type": "code",
   "execution_count": 1,
   "metadata": {},
   "outputs": [
    {
     "name": "stdout",
     "output_type": "stream",
     "text": [
      "Running experiment with 30 repetitions\n",
      "======================================\n"
     ]
    }
   ],
   "source": [
    "from models import *\n",
    "\n",
    "import data\n",
    "from modules.experiments import Experiment, KFold, hamming_loss, error, NegLogLikelihoodEvaluator\n",
    "\n",
    "\n",
    "STATE = np.random.RandomState(seed=1000)\n",
    "full_estimators = [linear_pcc, gam_pcc, rule_fit_pcc, random_forest_pcc]\n",
    "full_names = ['Lr_pcc', 'GAM_pcc', 'RuFit_pcc', 'RF_pcc']\n",
    "\n",
    "interpolation = Experiment(full_estimators, \n",
    "                            full_names,\n",
    "                            KFold(30, shuffle=True, random_state=STATE),\n",
    "                            data.x1, data.y.replace(-1.0, 0.0),\n",
    "                            groups=data.comp_ids.array,\n",
    "                            evaluators=[hamming_loss, error, NegLogLikelihoodEvaluator(base=2)],\n",
    "                            verbose=True).run()"
   ]
  },
  {
   "cell_type": "code",
   "execution_count": null,
   "metadata": {},
   "outputs": [],
   "source": [
    "interpolation.summary()"
   ]
  },
  {
   "cell_type": "code",
   "execution_count": null,
   "metadata": {},
   "outputs": [],
   "source": [
    "from modules.experiments import ExtrapolationExperiment, GroupKFoldSpecial, GroupDescription\n",
    "\n",
    "extrapolation = ExtrapolationExperiment(full_estimators, \n",
    "                            full_names,\n",
    "                            GroupKFoldSpecial(len(set(data.comp_ids)), size=20),\n",
    "                            data.x1, data.y.replace(-1.0, 0.0), groups=data.comp_ids.array,\n",
    "                            evaluators=[hamming_loss, error, NegLogLikelihoodEvaluator(base=2),\n",
    "                            GroupDescription(data.comp_descr, 'composition')],\n",
    "                            verbose=True).run()\n"
   ]
  },
  {
   "cell_type": "code",
   "execution_count": null,
   "metadata": {},
   "outputs": [],
   "source": [
    "extrapolation.summary()"
   ]
  }
 ],
 "metadata": {
  "interpreter": {
   "hash": "40d3a090f54c6569ab1632332b64b2c03c39dcf918b08424e98f38b5ae0af88f"
  },
  "kernelspec": {
   "display_name": "Python 3.8.5 ('base')",
   "language": "python",
   "name": "python3"
  },
  "language_info": {
   "codemirror_mode": {
    "name": "ipython",
    "version": 3
   },
   "file_extension": ".py",
   "mimetype": "text/x-python",
   "name": "python",
   "nbconvert_exporter": "python",
   "pygments_lexer": "ipython3",
   "version": "3.8.5"
  },
  "orig_nbformat": 4
 },
 "nbformat": 4,
 "nbformat_minor": 2
}
