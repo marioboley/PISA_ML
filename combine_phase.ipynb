{
 "cells": [
  {
   "cell_type": "markdown",
   "metadata": {},
   "source": [
    "***GMA – HPMA, dp_corona=78, salt = 0, pH = 7, charged = 0 and T = 70 C (44 experimental data)\n",
    "\n",
    "1. Combine RuleFit/boosting\n",
    "2. figure out others\n",
    "3. K-CV randomly select fraction of training samples/ test specific samples as test data."
   ]
  },
  {
   "cell_type": "code",
   "execution_count": 1,
   "metadata": {},
   "outputs": [],
   "source": [
    "import data1 as data\n",
    "import random\n",
    "from common_yiwen import *\n",
    "query = (data.x.core_HPMA == 1) & (data.x.corona_GMA == 1) & (data.x.dp_corona==78) & (data.x.ph==7) & (data.x.salt==0) & (data.x.charged==0) & (data.x.temp==70)\n",
    "points = data.x[query]"
   ]
  },
  {
   "cell_type": "code",
   "execution_count": 2,
   "metadata": {},
   "outputs": [],
   "source": [
    "import warnings\n",
    "warnings.filterwarnings(\"ignore\")"
   ]
  },
  {
   "cell_type": "code",
   "execution_count": 3,
   "metadata": {},
   "outputs": [
    {
     "data": {
      "text/plain": [
       "[535]"
      ]
     },
     "execution_count": 3,
     "metadata": {},
     "output_type": "execute_result"
    }
   ],
   "source": [
    "train_indx, test_indx = Splitdata(data.x, points, rep=1, n=43).split()\n",
    "test_indx"
   ]
  },
  {
   "cell_type": "markdown",
   "metadata": {},
   "source": [
    "__Add RuleFit__   \n",
    "First, we want to approximate parameter __Cs__ to get the empirical result comparable with Random Forest.\n",
    "Observations:\n",
    "* RuleFit sometimes better than RF, but not always. \n",
    "* Num of rules is hard to be optimized.\n",
    "* Rules fit can be only used in individual phase diagram."
   ]
  },
  {
   "cell_type": "code",
   "execution_count": 4,
   "metadata": {},
   "outputs": [],
   "source": [
    "from realkd.patch import RuleFit\n",
    "from sklearn.model_selection import cross_validate, KFold\n",
    "from sklearn.ensemble import RandomForestClassifier\n",
    "\n",
    "x = data.x.filter(data.predictors, axis=1)\n",
    "y = data.sphere\n",
    "\n",
    "K = 30\n",
    "cv = KFold(K, shuffle=True)\n",
    "\n",
    "import numpy as np\n",
    "\n",
    "Cs = [0.1, 0.5, 1, 2, 3, 4, 10]\n",
    "\n",
    "forest = RandomForestClassifier()\n",
    "forest_results = cross_validate(forest, x, y, cv=cv, scoring=['accuracy', 'neg_log_loss'], return_estimator=True, return_train_score=True)\n",
    "\n",
    "rulefits = [RuleFit(rfmode='classify', model_type='rl', Cs=[C]) for C in Cs]\n",
    "rulefit_results = []\n",
    "for i in range(len(Cs)):\n",
    "    rulefit_results.append(cross_validate(rulefits[i], x.values, y.replace(-1, 0), cv=cv, scoring=['accuracy'], return_estimator=True, return_train_score=True))\n",
    "    rulefit_results[-1]['num_rules'] = np.array([(est.get_rules()['coef'] > 0).sum() for est in rulefit_results[-1]['estimator']])\n",
    "    "
   ]
  },
  {
   "cell_type": "code",
   "execution_count": 5,
   "metadata": {},
   "outputs": [
    {
     "data": {
      "image/png": "[encoded data removed]",
      "text/plain": [
       "<Figure size 432x288 with 1 Axes>"
      ]
     },
     "metadata": {
      "needs_background": "light"
     },
     "output_type": "display_data"
    }
   ],
   "source": [
    "k = [res['num_rules'].mean() for res in rulefit_results]\n",
    "err = [1-res['test_accuracy'].mean() for res in rulefit_results]\n",
    "plt.plot(k, err, marker='o', label='RuleFit')\n",
    "k_min = min(k) // 1\n",
    "k_max = round(max(k) + 0.5)\n",
    "plt.plot([k_min, k_max], [1-forest_results['test_accuracy'].mean(), 1-forest_results['test_accuracy'].mean()], label='Random Forest')\n",
    "# plt.plot([k_min, k_max], [1-forest_results['train_accuracy'].mean(), 1-forest_results['train_accuracy'].mean()])\n",
    "plt.xlim(k_min, k_max)\n",
    "plt.xlabel('num. rules')\n",
    "plt.ylabel('test error')\n",
    "plt.legend()\n",
    "plt.show()"
   ]
  },
  {
   "cell_type": "code",
   "execution_count": null,
   "metadata": {},
   "outputs": [],
   "source": []
  },
  {
   "cell_type": "markdown",
   "metadata": {},
   "source": [
    "## Full phase prediction\n"
   ]
  },
  {
   "cell_type": "code",
   "execution_count": 6,
   "metadata": {},
   "outputs": [],
   "source": [
    "from sklearn.linear_model import LogisticRegressionCV\n",
    "from sklearn.multioutput import ClassifierChain\n",
    "from multilabel import BinaryRelevanceClassifier, ProbabilisticClassifierChain\n",
    "from gam import LogisticGAM\n",
    "STATE = np.random.RandomState(seed=1000)\n",
    "\n",
    "lr = LogisticRegressionCV(penalty='l1', solver='saga', random_state=STATE)\n",
    "lr_ind = BinaryRelevanceClassifier(lr)\n",
    "lr_chain = ClassifierChain(lr, order=[0, 1, 2])\n",
    "lr_pcc = ProbabilisticClassifierChain(lr) \n",
    "\n",
    "gam_ind = BinaryRelevanceClassifier(LogisticGAM(lam=8.0, max_iter=250))\n",
    "gam_chain = ClassifierChain(LogisticGAM(lam=6.0, max_iter=250))\n",
    "gam_pcc = ProbabilisticClassifierChain(LogisticGAM(lam=6.0, max_iter=250))\n",
    "\n",
    "rf = RandomForestClassifier(random_state=STATE, min_samples_leaf=1, n_estimators=100)\n",
    "rf_ind = BinaryRelevanceClassifier(rf)\n",
    "rf_chain = ClassifierChain(rf, order=[0, 2, 1])\n",
    "rf_pcc = ProbabilisticClassifierChain(rf)\n",
    "\n",
    "# estimators = [lr_ind, lr_chain, lr_pcc, rf_ind, rf_chain, rf_pcc]\n",
    "# names = ['LR_ind', 'LR_chain', 'LR_pcc', 'RF_ind', 'RF_chain', 'RF_pcc']\n",
    "# lr_chain, rf_chain remove, # check values -1, 1 test, training sizes. creating the simple size. \n",
    "# Result better/proof, remove bias (check gam, as low as possible), unbiased performance\n",
    "\n",
    "rufit = RuleFit(rfmode='classify', model_type='rl', Cs=[3])\n",
    "\n",
    "\n",
    "full_estimators = [lr_ind, lr_pcc, rf_ind, rf_pcc] # reduce some estimators\n",
    "full_names = ['LR_ind', 'LR_pcc', 'RF_ind', 'RF_pcc']\n",
    "\n",
    "indi_estimators = [lr_ind, lr_pcc, rf_ind, rf_pcc, rufit]\n",
    "indi_names = ['LR_ind', 'LR_pcc', 'RF_ind', 'RF_pcc', 'Rule_fit']"
   ]
  },
  {
   "cell_type": "code",
   "execution_count": 7,
   "metadata": {
    "scrolled": true
   },
   "outputs": [
    {
     "name": "stdout",
     "output_type": "stream",
     "text": [
      "Running experiment with 2 repetitions\n",
      "=====================================\n",
      "**\n"
     ]
    }
   ],
   "source": [
    "extrapolation_full = Experiment(full_estimators, \n",
    "                    full_names,\n",
    "                    Splitdata(data.x, points, rep=2, frac=0.5),\n",
    "                    data.x, data.y.replace(-1.0, 0.0), # \n",
    "                    groups=None,\n",
    "                    evaluators=['accuracy', LogLikelihoodEvaluator(2, neg=True)],\n",
    "                    verbose=True).run()"
   ]
  },
  {
   "cell_type": "code",
   "execution_count": 13,
   "metadata": {},
   "outputs": [
    {
     "data": {
      "text/html": [
       "<div>\n",
       "<style scoped>\n",
       "    .dataframe tbody tr th:only-of-type {\n",
       "        vertical-align: middle;\n",
       "    }\n",
       "\n",
       "    .dataframe tbody tr th {\n",
       "        vertical-align: top;\n",
       "    }\n",
       "\n",
       "    .dataframe thead th {\n",
       "        text-align: right;\n",
       "    }\n",
       "</style>\n",
       "<table border=\"1\" class=\"dataframe\">\n",
       "  <thead>\n",
       "    <tr style=\"text-align: right;\">\n",
       "      <th></th>\n",
       "      <th>mean_train_accuracy</th>\n",
       "      <th>std_train_accuracy</th>\n",
       "      <th>mean_test_accuracy</th>\n",
       "      <th>std_test_accuracy</th>\n",
       "      <th>mean_train_log loss</th>\n",
       "      <th>std_train_log loss</th>\n",
       "      <th>mean_test_log loss</th>\n",
       "      <th>std_test_log loss</th>\n",
       "    </tr>\n",
       "  </thead>\n",
       "  <tbody>\n",
       "    <tr>\n",
       "      <th>LR_ind</th>\n",
       "      <td>0.4</td>\n",
       "      <td>0.007443</td>\n",
       "      <td>0.340909</td>\n",
       "      <td>0.096424</td>\n",
       "      <td>2.905812</td>\n",
       "      <td>0.005661</td>\n",
       "      <td>3.013847</td>\n",
       "      <td>0.156788</td>\n",
       "    </tr>\n",
       "    <tr>\n",
       "      <th>LR_pcc</th>\n",
       "      <td>0.4</td>\n",
       "      <td>0.007443</td>\n",
       "      <td>0.340909</td>\n",
       "      <td>0.096424</td>\n",
       "      <td>2.905812</td>\n",
       "      <td>0.005661</td>\n",
       "      <td>3.013847</td>\n",
       "      <td>0.156788</td>\n",
       "    </tr>\n",
       "    <tr>\n",
       "      <th>RF_ind</th>\n",
       "      <td>1.0</td>\n",
       "      <td>0.000000</td>\n",
       "      <td>0.590909</td>\n",
       "      <td>0.128565</td>\n",
       "      <td>0.257969</td>\n",
       "      <td>0.006588</td>\n",
       "      <td>1.278578</td>\n",
       "      <td>0.144604</td>\n",
       "    </tr>\n",
       "    <tr>\n",
       "      <th>RF_pcc</th>\n",
       "      <td>1.0</td>\n",
       "      <td>0.000000</td>\n",
       "      <td>0.568182</td>\n",
       "      <td>0.096424</td>\n",
       "      <td>0.245658</td>\n",
       "      <td>0.003133</td>\n",
       "      <td>1.209719</td>\n",
       "      <td>0.114671</td>\n",
       "    </tr>\n",
       "  </tbody>\n",
       "</table>\n",
       "</div>"
      ],
      "text/plain": [
       "        mean_train_accuracy  std_train_accuracy  mean_test_accuracy  \\\n",
       "LR_ind                  0.4            0.007443            0.340909   \n",
       "LR_pcc                  0.4            0.007443            0.340909   \n",
       "RF_ind                  1.0            0.000000            0.590909   \n",
       "RF_pcc                  1.0            0.000000            0.568182   \n",
       "\n",
       "        std_test_accuracy  mean_train_log loss  std_train_log loss  \\\n",
       "LR_ind           0.096424             2.905812            0.005661   \n",
       "LR_pcc           0.096424             2.905812            0.005661   \n",
       "RF_ind           0.128565             0.257969            0.006588   \n",
       "RF_pcc           0.096424             0.245658            0.003133   \n",
       "\n",
       "        mean_test_log loss  std_test_log loss  \n",
       "LR_ind            3.013847           0.156788  \n",
       "LR_pcc            3.013847           0.156788  \n",
       "RF_ind            1.278578           0.144604  \n",
       "RF_pcc            1.209719           0.114671  "
      ]
     },
     "execution_count": 13,
     "metadata": {},
     "output_type": "execute_result"
    }
   ],
   "source": [
    "extrapolation_full.summary()"
   ]
  },
  {
   "cell_type": "code",
   "execution_count": 14,
   "metadata": {},
   "outputs": [
    {
     "data": {
      "image/png": "[encoded data removed]",
      "text/plain": [
       "<Figure size 432x288 with 1 Axes>"
      ]
     },
     "metadata": {
      "needs_background": "light"
     },
     "output_type": "display_data"
    }
   ],
   "source": [
    "extrapolation_full.plot_summary('log loss')"
   ]
  },
  {
   "cell_type": "code",
   "execution_count": 9,
   "metadata": {},
   "outputs": [
    {
     "data": {
      "text/html": [
       "<div>\n",
       "<style scoped>\n",
       "    .dataframe tbody tr th:only-of-type {\n",
       "        vertical-align: middle;\n",
       "    }\n",
       "\n",
       "    .dataframe tbody tr th {\n",
       "        vertical-align: top;\n",
       "    }\n",
       "\n",
       "    .dataframe thead th {\n",
       "        text-align: right;\n",
       "    }\n",
       "</style>\n",
       "<table border=\"1\" class=\"dataframe\">\n",
       "  <thead>\n",
       "    <tr style=\"text-align: right;\">\n",
       "      <th></th>\n",
       "      <th>mean_train_accuracy</th>\n",
       "      <th>std_train_accuracy</th>\n",
       "      <th>mean_test_accuracy</th>\n",
       "      <th>std_test_accuracy</th>\n",
       "      <th>mean_train_log loss</th>\n",
       "      <th>std_train_log loss</th>\n",
       "      <th>mean_test_log loss</th>\n",
       "      <th>std_test_log loss</th>\n",
       "    </tr>\n",
       "  </thead>\n",
       "  <tbody>\n",
       "    <tr>\n",
       "      <th>LR_ind</th>\n",
       "      <td>0.407895</td>\n",
       "      <td>0.001241</td>\n",
       "      <td>0.204545</td>\n",
       "      <td>0.032141</td>\n",
       "      <td>2.661190</td>\n",
       "      <td>0.007294</td>\n",
       "      <td>3.237043</td>\n",
       "      <td>0.203484</td>\n",
       "    </tr>\n",
       "    <tr>\n",
       "      <th>LR_chain</th>\n",
       "      <td>0.407895</td>\n",
       "      <td>0.001241</td>\n",
       "      <td>0.204545</td>\n",
       "      <td>0.032141</td>\n",
       "      <td>2.661190</td>\n",
       "      <td>0.007294</td>\n",
       "      <td>3.237043</td>\n",
       "      <td>0.203484</td>\n",
       "    </tr>\n",
       "    <tr>\n",
       "      <th>LR_pcc</th>\n",
       "      <td>0.407895</td>\n",
       "      <td>0.001241</td>\n",
       "      <td>0.204545</td>\n",
       "      <td>0.032141</td>\n",
       "      <td>2.661190</td>\n",
       "      <td>0.007294</td>\n",
       "      <td>3.237043</td>\n",
       "      <td>0.203484</td>\n",
       "    </tr>\n",
       "    <tr>\n",
       "      <th>RF_ind</th>\n",
       "      <td>1.000000</td>\n",
       "      <td>0.000000</td>\n",
       "      <td>0.545455</td>\n",
       "      <td>0.064282</td>\n",
       "      <td>0.243604</td>\n",
       "      <td>0.002434</td>\n",
       "      <td>1.216521</td>\n",
       "      <td>0.092217</td>\n",
       "    </tr>\n",
       "    <tr>\n",
       "      <th>RF_chain</th>\n",
       "      <td>1.000000</td>\n",
       "      <td>0.000000</td>\n",
       "      <td>0.568182</td>\n",
       "      <td>0.096424</td>\n",
       "      <td>0.231934</td>\n",
       "      <td>0.003633</td>\n",
       "      <td>1.287731</td>\n",
       "      <td>0.049102</td>\n",
       "    </tr>\n",
       "    <tr>\n",
       "      <th>RF_pcc</th>\n",
       "      <td>1.000000</td>\n",
       "      <td>0.000000</td>\n",
       "      <td>0.590909</td>\n",
       "      <td>0.064282</td>\n",
       "      <td>0.230082</td>\n",
       "      <td>0.001696</td>\n",
       "      <td>1.213341</td>\n",
       "      <td>0.022269</td>\n",
       "    </tr>\n",
       "  </tbody>\n",
       "</table>\n",
       "</div>"
      ],
      "text/plain": [
       "          mean_train_accuracy  std_train_accuracy  mean_test_accuracy  \\\n",
       "LR_ind               0.407895            0.001241            0.204545   \n",
       "LR_chain             0.407895            0.001241            0.204545   \n",
       "LR_pcc               0.407895            0.001241            0.204545   \n",
       "RF_ind               1.000000            0.000000            0.545455   \n",
       "RF_chain             1.000000            0.000000            0.568182   \n",
       "RF_pcc               1.000000            0.000000            0.590909   \n",
       "\n",
       "          std_test_accuracy  mean_train_log loss  std_train_log loss  \\\n",
       "LR_ind             0.032141             2.661190            0.007294   \n",
       "LR_chain           0.032141             2.661190            0.007294   \n",
       "LR_pcc             0.032141             2.661190            0.007294   \n",
       "RF_ind             0.064282             0.243604            0.002434   \n",
       "RF_chain           0.096424             0.231934            0.003633   \n",
       "RF_pcc             0.064282             0.230082            0.001696   \n",
       "\n",
       "          mean_test_log loss  std_test_log loss  \n",
       "LR_ind              3.237043           0.203484  \n",
       "LR_chain            3.237043           0.203484  \n",
       "LR_pcc              3.237043           0.203484  \n",
       "RF_ind              1.216521           0.092217  \n",
       "RF_chain            1.287731           0.049102  \n",
       "RF_pcc              1.213341           0.022269  "
      ]
     },
     "execution_count": 9,
     "metadata": {},
     "output_type": "execute_result"
    }
   ],
   "source": [
    "extrapolation_full.summary()"
   ]
  },
  {
   "cell_type": "code",
   "execution_count": 10,
   "metadata": {},
   "outputs": [
    {
     "data": {
      "image/png": "[encoded data removed]",
      "text/plain": [
       "<Figure size 432x288 with 1 Axes>"
      ]
     },
     "metadata": {
      "needs_background": "light"
     },
     "output_type": "display_data"
    }
   ],
   "source": [
    "extrapolation_full.plot_summary('accuracy')"
   ]
  },
  {
   "cell_type": "markdown",
   "metadata": {},
   "source": [
    "## Individual phase prediction"
   ]
  },
  {
   "cell_type": "code",
   "execution_count": 29,
   "metadata": {},
   "outputs": [
    {
     "data": {
      "text/plain": [
       "[MultiOutputClassifier(estimator=LogisticRegressionCV(penalty='l1',\n",
       "                                                      random_state=RandomState(MT19937) at 0x7F993FD47A40,\n",
       "                                                      solver='saga')),\n",
       " <multilabel.ProbabilisticClassifierChain at 0x7f993fbcc040>,\n",
       " MultiOutputClassifier(estimator=RandomForestClassifier(random_state=RandomState(MT19937) at 0x7F993FD47A40)),\n",
       " <multilabel.ProbabilisticClassifierChain at 0x7f993fd7f2e0>,\n",
       " RuleFit(Cs=[3], max_iter=1000, rfmode='classify')]"
      ]
     },
     "execution_count": 29,
     "metadata": {},
     "output_type": "execute_result"
    }
   ],
   "source": [
    "indi_estimators"
   ]
  },
  {
   "cell_type": "code",
   "execution_count": 37,
   "metadata": {
    "scrolled": true
   },
   "outputs": [
    {
     "name": "stdout",
     "output_type": "stream",
     "text": [
      "Target:  sphere\n",
      "Running experiment with 20 repetitions\n",
      "======================================\n"
     ]
    },
    {
     "ename": "ValueError",
     "evalue": "y must have at least two dimensions for multi-output regression but has only one.",
     "output_type": "error",
     "traceback": [
      "\u001b[0;31m---------------------------------------------------------------------------\u001b[0m",
      "\u001b[0;31mValueError\u001b[0m                                Traceback (most recent call last)",
      "\u001b[0;32m<ipython-input-37-4783191c9869>\u001b[0m in \u001b[0;36m<module>\u001b[0;34m\u001b[0m\n\u001b[1;32m     12\u001b[0m                         \u001b[0mevaluators\u001b[0m\u001b[0;34m=\u001b[0m\u001b[0;34m[\u001b[0m\u001b[0;34m'accuracy'\u001b[0m\u001b[0;34m,\u001b[0m \u001b[0mLogLikelihoodEvaluator\u001b[0m\u001b[0;34m(\u001b[0m\u001b[0;34m)\u001b[0m\u001b[0;34m]\u001b[0m\u001b[0;34m,\u001b[0m\u001b[0;34m\u001b[0m\u001b[0;34m\u001b[0m\u001b[0m\n\u001b[1;32m     13\u001b[0m                         verbose=True)\n\u001b[0;32m---> 14\u001b[0;31m     \u001b[0minter_no_comp\u001b[0m\u001b[0;34m[\u001b[0m\u001b[0my\u001b[0m\u001b[0;34m.\u001b[0m\u001b[0mname\u001b[0m\u001b[0;34m]\u001b[0m \u001b[0;34m=\u001b[0m \u001b[0mexperiment\u001b[0m\u001b[0;34m.\u001b[0m\u001b[0mrun\u001b[0m\u001b[0;34m(\u001b[0m\u001b[0;34m)\u001b[0m\u001b[0;34m\u001b[0m\u001b[0;34m\u001b[0m\u001b[0m\n\u001b[0m\u001b[1;32m     15\u001b[0m     \u001b[0mprint\u001b[0m\u001b[0;34m(\u001b[0m\u001b[0;34m)\u001b[0m\u001b[0;34m\u001b[0m\u001b[0;34m\u001b[0m\u001b[0m\n",
      "\u001b[0;32m~/Documents/GitHub/PISA_ML_latest 2/PISA_ML-main/common_yiwen.py\u001b[0m in \u001b[0;36mrun\u001b[0;34m(self)\u001b[0m\n\u001b[1;32m    195\u001b[0m                     \u001b[0mprint\u001b[0m\u001b[0;34m(\u001b[0m\u001b[0;34m'-'\u001b[0m\u001b[0;34m*\u001b[0m\u001b[0mlen\u001b[0m\u001b[0;34m(\u001b[0m\u001b[0mname\u001b[0m\u001b[0;34m)\u001b[0m\u001b[0;34m,\u001b[0m \u001b[0mflush\u001b[0m\u001b[0;34m=\u001b[0m\u001b[0;32mTrue\u001b[0m\u001b[0;34m)\u001b[0m\u001b[0;34m\u001b[0m\u001b[0;34m\u001b[0m\u001b[0m\n\u001b[1;32m    196\u001b[0m                 \u001b[0m_est\u001b[0m \u001b[0;34m=\u001b[0m \u001b[0mest\u001b[0m\u001b[0;34m(\u001b[0m\u001b[0;34m)\u001b[0m \u001b[0;32mif\u001b[0m \u001b[0mcallable\u001b[0m\u001b[0;34m(\u001b[0m\u001b[0mest\u001b[0m\u001b[0;34m)\u001b[0m \u001b[0;32melse\u001b[0m \u001b[0mclone\u001b[0m\u001b[0;34m(\u001b[0m\u001b[0mest\u001b[0m\u001b[0;34m,\u001b[0m \u001b[0msafe\u001b[0m\u001b[0;34m=\u001b[0m\u001b[0;32mFalse\u001b[0m\u001b[0;34m)\u001b[0m\u001b[0;34m\u001b[0m\u001b[0;34m\u001b[0m\u001b[0m\n\u001b[0;32m--> 197\u001b[0;31m                 \u001b[0m_est\u001b[0m\u001b[0;34m.\u001b[0m\u001b[0mfit\u001b[0m\u001b[0;34m(\u001b[0m\u001b[0mx_train\u001b[0m\u001b[0;34m,\u001b[0m \u001b[0my_train\u001b[0m\u001b[0;34m)\u001b[0m\u001b[0;34m\u001b[0m\u001b[0;34m\u001b[0m\u001b[0m\n\u001b[0m\u001b[1;32m    198\u001b[0m \u001b[0;34m\u001b[0m\u001b[0m\n\u001b[1;32m    199\u001b[0m                 conf_results = {\n",
      "\u001b[0;32m/opt/anaconda3/lib/python3.8/site-packages/sklearn/multioutput.py\u001b[0m in \u001b[0;36mfit\u001b[0;34m(self, X, Y, sample_weight, **fit_params)\u001b[0m\n\u001b[1;32m    349\u001b[0m         \u001b[0mself\u001b[0m \u001b[0;34m:\u001b[0m \u001b[0mobject\u001b[0m\u001b[0;34m\u001b[0m\u001b[0;34m\u001b[0m\u001b[0m\n\u001b[1;32m    350\u001b[0m         \"\"\"\n\u001b[0;32m--> 351\u001b[0;31m         \u001b[0msuper\u001b[0m\u001b[0;34m(\u001b[0m\u001b[0;34m)\u001b[0m\u001b[0;34m.\u001b[0m\u001b[0mfit\u001b[0m\u001b[0;34m(\u001b[0m\u001b[0mX\u001b[0m\u001b[0;34m,\u001b[0m \u001b[0mY\u001b[0m\u001b[0;34m,\u001b[0m \u001b[0msample_weight\u001b[0m\u001b[0;34m,\u001b[0m \u001b[0;34m**\u001b[0m\u001b[0mfit_params\u001b[0m\u001b[0;34m)\u001b[0m\u001b[0;34m\u001b[0m\u001b[0;34m\u001b[0m\u001b[0m\n\u001b[0m\u001b[1;32m    352\u001b[0m         \u001b[0mself\u001b[0m\u001b[0;34m.\u001b[0m\u001b[0mclasses_\u001b[0m \u001b[0;34m=\u001b[0m \u001b[0;34m[\u001b[0m\u001b[0mestimator\u001b[0m\u001b[0;34m.\u001b[0m\u001b[0mclasses_\u001b[0m \u001b[0;32mfor\u001b[0m \u001b[0mestimator\u001b[0m \u001b[0;32min\u001b[0m \u001b[0mself\u001b[0m\u001b[0;34m.\u001b[0m\u001b[0mestimators_\u001b[0m\u001b[0;34m]\u001b[0m\u001b[0;34m\u001b[0m\u001b[0;34m\u001b[0m\u001b[0m\n\u001b[1;32m    353\u001b[0m         \u001b[0;32mreturn\u001b[0m \u001b[0mself\u001b[0m\u001b[0;34m\u001b[0m\u001b[0;34m\u001b[0m\u001b[0m\n",
      "\u001b[0;32m/opt/anaconda3/lib/python3.8/site-packages/sklearn/multioutput.py\u001b[0m in \u001b[0;36mfit\u001b[0;34m(self, X, y, sample_weight, **fit_params)\u001b[0m\n\u001b[1;32m    160\u001b[0m \u001b[0;34m\u001b[0m\u001b[0m\n\u001b[1;32m    161\u001b[0m         \u001b[0;32mif\u001b[0m \u001b[0my\u001b[0m\u001b[0;34m.\u001b[0m\u001b[0mndim\u001b[0m \u001b[0;34m==\u001b[0m \u001b[0;36m1\u001b[0m\u001b[0;34m:\u001b[0m\u001b[0;34m\u001b[0m\u001b[0;34m\u001b[0m\u001b[0m\n\u001b[0;32m--> 162\u001b[0;31m             raise ValueError(\"y must have at least two dimensions for \"\n\u001b[0m\u001b[1;32m    163\u001b[0m                              \"multi-output regression but has only one.\")\n\u001b[1;32m    164\u001b[0m \u001b[0;34m\u001b[0m\u001b[0m\n",
      "\u001b[0;31mValueError\u001b[0m: y must have at least two dimensions for multi-output regression but has only one."
     ]
    }
   ],
   "source": [
    "from sklearn.model_selection import KFold\n",
    "\n",
    "inter_no_comp = {}\n",
    "\n",
    "# This would raise some errors. Fix it by tomorrow.\n",
    "for y in [data.sphere, data.vesicle, data.worm]:\n",
    "    print('Target: ',y.name)\n",
    "    experiment = Experiment(indi_estimators, \n",
    "                        indi_names,\n",
    "                        Splitdata(data.x, points, rep=2, frac=0.5),\n",
    "                        x, y.replace(-1, 0),\n",
    "                        groups=data.comp_ids.array, \n",
    "                        evaluators=['accuracy', LogLikelihoodEvaluator()],\n",
    "                        verbose=True)\n",
    "    inter_no_comp[y.name] = experiment.run()\n",
    "    print()"
   ]
  },
  {
   "cell_type": "code",
   "execution_count": null,
   "metadata": {},
   "outputs": [],
   "source": [
    "inter_no_comp['sphere'].summary()"
   ]
  },
  {
   "cell_type": "code",
   "execution_count": null,
   "metadata": {},
   "outputs": [],
   "source": [
    "extrapolation.plot_summary('log likelihood')"
   ]
  },
  {
   "cell_type": "code",
   "execution_count": null,
   "metadata": {},
   "outputs": [],
   "source": [
    "extrapolation.plot_summary('accuracy')"
   ]
  },
  {
   "cell_type": "code",
   "execution_count": null,
   "metadata": {},
   "outputs": [],
   "source": []
  }
 ],
 "metadata": {
  "kernelspec": {
   "display_name": "Python 3",
   "language": "python",
   "name": "python3"
  },
  "language_info": {
   "codemirror_mode": {
    "name": "ipython",
    "version": 3
   },
   "file_extension": ".py",
   "mimetype": "text/x-python",
   "name": "python",
   "nbconvert_exporter": "python",
   "pygments_lexer": "ipython3",
   "version": "3.8.5"
  }
 },
 "nbformat": 4,
 "nbformat_minor": 5
}
