{
 "cells": [
  {
   "cell_type": "code",
   "execution_count": 4,
   "metadata": {},
   "outputs": [],
   "source": [
    "import data1 as data\n",
    "import random\n",
    "from common import *\n",
    "from rules import *\n",
    "from realkd.patch import RuleFit\n",
    "from sklearn.model_selection import cross_validate, KFold\n",
    "from sklearn.ensemble import RandomForestClassifier\n",
    "from sklearn.model_selection import LeaveOneOut\n",
    "import numpy as np\n",
    "import matplotlib.colors as mcolors\n"
   ]
  },
  {
   "cell_type": "code",
   "execution_count": 2,
   "metadata": {},
   "outputs": [],
   "source": [
    "import warnings\n",
    "warnings.filterwarnings(\"ignore\")"
   ]
  },
  {
   "cell_type": "markdown",
   "metadata": {},
   "source": [
    "## Individual phase prediction\n"
   ]
  },
  {
   "cell_type": "code",
   "execution_count": 3,
   "metadata": {},
   "outputs": [],
   "source": [
    "from sklearn.linear_model import LogisticRegressionCV\n",
    "from sklearn.multioutput import ClassifierChain\n",
    "from multilabel import BinaryRelevanceClassifier, ProbabilisticClassifierChain\n",
    "from gam import LogisticGAM\n",
    "\n",
    "STATE = np.random.RandomState(seed=1000)\n",
    "\n",
    "lr = LogisticRegressionCV(penalty='l1', solver='saga', random_state=STATE)\n",
    "lr_ind = BinaryRelevanceClassifier(lr)\n",
    "lr_chain = ClassifierChain(lr, order=[0, 1, 2])\n",
    "lr_pcc = ProbabilisticClassifierChain(lr) \n",
    "\n",
    "# gams not fixed, remove this part.\n",
    "# gam_ind = BinaryRelevanceClassifier(LogisticGAM(lam=20.0, max_iter=250))\n",
    "# gam_chain = ClassifierChain(LogisticGAM(lam=20.0, max_iter=250))\n",
    "# gam_pcc = ProbabilisticClassifierChain(LogisticGAM(lam=20.0, max_iter=250)) \n",
    "\n",
    "rf = RandomForestClassifier(random_state=STATE, min_samples_leaf=1, n_estimators=100)\n",
    "rf_ind = BinaryRelevanceClassifier(rf)\n",
    "rf_chain = ClassifierChain(rf, order=[0, 2, 1])\n",
    "rf_pcc = ProbabilisticClassifierChain(rf)\n",
    "\n",
    "# Rulefit\n",
    "rufit_pcc = RuleFitWrapper()\n",
    "\n",
    "indi_estimators = [lr, rf, rufit_pcc]\n",
    "indi_names = ['LR', 'RF', 'rufit_pcc']"
   ]
  },
  {
   "cell_type": "markdown",
   "metadata": {},
   "source": [
    "This following code under \"2.6 GHz 6-Core Intel Core i7\" runs ~5 hours. You can simply use saved result to re-run the result."
   ]
  },
  {
   "cell_type": "code",
   "execution_count": 4,
   "metadata": {},
   "outputs": [
    {
     "name": "stdout",
     "output_type": "stream",
     "text": [
      "Target:  sphere\n",
      "Running experiment with 30 repetitions\n",
      "======================================\n",
      "******************************\n",
      "\n",
      "Target:  vesicle\n",
      "Running experiment with 30 repetitions\n",
      "======================================\n",
      "******************************\n",
      "\n",
      "Target:  worm\n",
      "Running experiment with 30 repetitions\n",
      "======================================\n",
      "******************************\n",
      "\n"
     ]
    }
   ],
   "source": [
    "from common import Experiment, LogLikelihoodEvaluator\n",
    "from sklearn.model_selection import KFold\n",
    "\n",
    "inter_no_comp = {}\n",
    "\n",
    "for y in [data.sphere, data.vesicle, data.worm]:\n",
    "    print('Target: ',y.name)\n",
    "    experiment = Experiment(indi_estimators, \n",
    "                        indi_names,\n",
    "                        KFold(30, shuffle=True, random_state=STATE),\n",
    "                        data.x, y.replace(-1, 0),\n",
    "                        groups=data.comp_ids.array, \n",
    "                        evaluators=['accuracy', LogLikelihoodEvaluator()],\n",
    "                        verbose=True)\n",
    "    inter_no_comp[y.name] = experiment.run()\n",
    "    print()"
   ]
  },
  {
   "cell_type": "code",
   "execution_count": 10,
   "metadata": {},
   "outputs": [],
   "source": [
    "# import pickle\n",
    "# cur_save=open('./' + 'interpolation_30folder_indi' + '.p', 'rb')\n",
    "# inter_no_comp = pickle.load(cur_save)"
   ]
  },
  {
   "cell_type": "code",
   "execution_count": 11,
   "metadata": {},
   "outputs": [],
   "source": [
    "def plot_summary(metric, summ, num_reps=30, baseline=None, names=None, colors = list(mcolors.BASE_COLORS.keys())):\n",
    "    width = 0.35\n",
    "    ind = np.arange(len(summ))\n",
    "    plt.bar(ind-width/2, summ[f'mean_train_{metric}'], width=width, label='train', \n",
    "            yerr=summ[f'std_train_{metric}']/num_reps**0.5, capsize=3.0)\n",
    "    plt.bar(ind+width/2, summ[f'mean_test_{metric}'], width=width, label='test',\n",
    "            yerr=summ[f'std_test_{metric}']/num_reps**0.5, capsize=3.0)\n",
    "    if baseline:\n",
    "        for i in range(len(baseline)):\n",
    "            plt.axhline(y=baseline[i], color=colors[i], linestyle='-', label=names[i])\n",
    "    plt.ylabel(metric)\n",
    "    plt.legend()\n",
    "    plt.xticks(ind, summ.index)\n",
    "    \n",
    "for key in inter_no_comp:\n",
    "    df = inter_no_comp[key].summary()\n",
    "    df['mean_train_error'] = 1- df['mean_train_accuracy']\n",
    "    df['std_train_error'] = df['std_train_accuracy']\n",
    "    df['mean_test_error'] = 1- df['mean_test_accuracy']\n",
    "    df['std_test_error'] = df['std_test_accuracy']\n",
    "    inter_no_comp[key] = df"
   ]
  },
  {
   "cell_type": "code",
   "execution_count": 22,
   "metadata": {},
   "outputs": [
    {
     "name": "stdout",
     "output_type": "stream",
     "text": [
      "Informed error:  [0.46283783783783783, 0.2922297297297297, 0.33783783783783783]\n",
      "Uninformed error:  [0.5, 0.5, 0.5]\n"
     ]
    }
   ],
   "source": [
    "# get base line \n",
    "# error\n",
    "informed_error = []\n",
    "for each in [data.sphere, data.vesicle, data.worm]:\n",
    "    uniq, cnt = np.unique(each, return_counts=True)\n",
    "    prob = cnt/sum(cnt)\n",
    "    informed_error.append((1-max(prob)))\n",
    "print('Informed error: ', informed_error)\n",
    "\n",
    "uniformed_error = [0.5, 0.5, 0.5]\n",
    "print('Uninformed error: ', uniformed_error)"
   ]
  },
  {
   "cell_type": "code",
   "execution_count": 40,
   "metadata": {},
   "outputs": [
    {
     "data": {
      "text/html": [
       "<div>\n",
       "<style scoped>\n",
       "    .dataframe tbody tr th:only-of-type {\n",
       "        vertical-align: middle;\n",
       "    }\n",
       "\n",
       "    .dataframe tbody tr th {\n",
       "        vertical-align: top;\n",
       "    }\n",
       "\n",
       "    .dataframe thead th {\n",
       "        text-align: right;\n",
       "    }\n",
       "</style>\n",
       "<table border=\"1\" class=\"dataframe\">\n",
       "  <thead>\n",
       "    <tr style=\"text-align: right;\">\n",
       "      <th></th>\n",
       "      <th>mean_train_accuracy</th>\n",
       "      <th>std_train_accuracy</th>\n",
       "      <th>mean_test_accuracy</th>\n",
       "      <th>std_test_accuracy</th>\n",
       "      <th>mean_train_log likelihood</th>\n",
       "      <th>std_train_log likelihood</th>\n",
       "      <th>mean_test_log likelihood</th>\n",
       "      <th>std_test_log likelihood</th>\n",
       "      <th>mean_train_error</th>\n",
       "      <th>std_train_error</th>\n",
       "      <th>mean_test_error</th>\n",
       "      <th>std_test_error</th>\n",
       "    </tr>\n",
       "  </thead>\n",
       "  <tbody>\n",
       "    <tr>\n",
       "      <th>LR</th>\n",
       "      <td>0.537162</td>\n",
       "      <td>0.004921</td>\n",
       "      <td>0.537193</td>\n",
       "      <td>0.142011</td>\n",
       "      <td>-0.680825</td>\n",
       "      <td>0.001401</td>\n",
       "      <td>-0.685333</td>\n",
       "      <td>0.041018</td>\n",
       "      <td>0.462838</td>\n",
       "      <td>0.004921</td>\n",
       "      <td>0.462807</td>\n",
       "      <td>0.142011</td>\n",
       "    </tr>\n",
       "    <tr>\n",
       "      <th>RF</th>\n",
       "      <td>1.000000</td>\n",
       "      <td>0.000000</td>\n",
       "      <td>0.910789</td>\n",
       "      <td>0.079069</td>\n",
       "      <td>-0.059541</td>\n",
       "      <td>0.002032</td>\n",
       "      <td>-0.238839</td>\n",
       "      <td>0.142727</td>\n",
       "      <td>0.000000</td>\n",
       "      <td>0.000000</td>\n",
       "      <td>0.089211</td>\n",
       "      <td>0.079069</td>\n",
       "    </tr>\n",
       "    <tr>\n",
       "      <th>rufit_pcc</th>\n",
       "      <td>0.983690</td>\n",
       "      <td>0.004010</td>\n",
       "      <td>0.922456</td>\n",
       "      <td>0.049134</td>\n",
       "      <td>-0.077804</td>\n",
       "      <td>0.005103</td>\n",
       "      <td>-0.236979</td>\n",
       "      <td>0.147900</td>\n",
       "      <td>0.016310</td>\n",
       "      <td>0.004010</td>\n",
       "      <td>0.077544</td>\n",
       "      <td>0.049134</td>\n",
       "    </tr>\n",
       "  </tbody>\n",
       "</table>\n",
       "</div>"
      ],
      "text/plain": [
       "           mean_train_accuracy  std_train_accuracy  mean_test_accuracy  \\\n",
       "LR                    0.537162            0.004921            0.537193   \n",
       "RF                    1.000000            0.000000            0.910789   \n",
       "rufit_pcc             0.983690            0.004010            0.922456   \n",
       "\n",
       "           std_test_accuracy  mean_train_log likelihood  \\\n",
       "LR                  0.142011                  -0.680825   \n",
       "RF                  0.079069                  -0.059541   \n",
       "rufit_pcc           0.049134                  -0.077804   \n",
       "\n",
       "           std_train_log likelihood  mean_test_log likelihood  \\\n",
       "LR                         0.001401                 -0.685333   \n",
       "RF                         0.002032                 -0.238839   \n",
       "rufit_pcc                  0.005103                 -0.236979   \n",
       "\n",
       "           std_test_log likelihood  mean_train_error  std_train_error  \\\n",
       "LR                        0.041018          0.462838         0.004921   \n",
       "RF                        0.142727          0.000000         0.000000   \n",
       "rufit_pcc                 0.147900          0.016310         0.004010   \n",
       "\n",
       "           mean_test_error  std_test_error  \n",
       "LR                0.462807        0.142011  \n",
       "RF                0.089211        0.079069  \n",
       "rufit_pcc         0.077544        0.049134  "
      ]
     },
     "execution_count": 40,
     "metadata": {},
     "output_type": "execute_result"
    }
   ],
   "source": [
    "inter_no_comp[key] # name is wrong. Should be RuFit not Rufit pcc"
   ]
  },
  {
   "cell_type": "code",
   "execution_count": 25,
   "metadata": {},
   "outputs": [
    {
     "name": "stdout",
     "output_type": "stream",
     "text": [
      "sphere \n",
      "\n"
     ]
    },
    {
     "data": {
      "image/png": "[encoded data removed]",
      "text/plain": [
       "<Figure size 432x288 with 1 Axes>"
      ]
     },
     "metadata": {
      "needs_background": "light"
     },
     "output_type": "display_data"
    },
    {
     "name": "stdout",
     "output_type": "stream",
     "text": [
      "vesicle \n",
      "\n"
     ]
    },
    {
     "data": {
      "image/png": "[encoded data removed]",
      "text/plain": [
       "<Figure size 432x288 with 1 Axes>"
      ]
     },
     "metadata": {
      "needs_background": "light"
     },
     "output_type": "display_data"
    },
    {
     "name": "stdout",
     "output_type": "stream",
     "text": [
      "worm \n",
      "\n"
     ]
    },
    {
     "data": {
      "image/png": "[encoded data removed]",
      "text/plain": [
       "<Figure size 432x288 with 1 Axes>"
      ]
     },
     "metadata": {
      "needs_background": "light"
     },
     "output_type": "display_data"
    }
   ],
   "source": [
    "i = 0\n",
    "for key in inter_no_comp:\n",
    "    print(key, '\\n')\n",
    "    line = [informed_error[i], uniformed_error[i]]\n",
    "    plot_summary('error', summ=inter_no_comp[key], baseline=line, names=['Informed', 'Uniformed'])\n",
    "    i += 1\n",
    "    plt.show()"
   ]
  },
  {
   "cell_type": "markdown",
   "metadata": {},
   "source": [
    "__Log likelihood__\n",
    "\n",
    "All the estimators performs much better than random guessing and informed guessing."
   ]
  },
  {
   "cell_type": "code",
   "execution_count": 43,
   "metadata": {},
   "outputs": [
    {
     "name": "stdout",
     "output_type": "stream",
     "text": [
      "Informed loglikelihood:  [-0.9960115235485287, -0.8715841441742509, -0.9227346209530941]\n",
      "Uninformed loglikelihood:  [-1.0, -1.0, -1.0]\n"
     ]
    }
   ],
   "source": [
    "# get base line \n",
    "# log loss\n",
    "informed_loglikelihood = []\n",
    "for each in [data.sphere, data.vesicle, data.worm]:\n",
    "    uniq, cnt = np.unique(each, return_counts=True)\n",
    "    prob = cnt/sum(cnt)\n",
    "    informed_loglikelihood.append(sum(1*prob * np.log2(prob)))\n",
    "print('Informed loglikelihood: ', informed_loglikelihood)\n",
    "\n",
    "uniformed_loglikelihood = [1*0.5 * np.log2(0.5)*2] * 3\n",
    "print('Uninformed loglikelihood: ', uniformed_loglikelihood)"
   ]
  },
  {
   "cell_type": "code",
   "execution_count": 45,
   "metadata": {},
   "outputs": [
    {
     "name": "stdout",
     "output_type": "stream",
     "text": [
      "sphere \n",
      "\n"
     ]
    },
    {
     "data": {
      "image/png": "[encoded data removed]",
      "text/plain": [
       "<Figure size 432x288 with 1 Axes>"
      ]
     },
     "metadata": {
      "needs_background": "light"
     },
     "output_type": "display_data"
    },
    {
     "name": "stdout",
     "output_type": "stream",
     "text": [
      "vesicle \n",
      "\n"
     ]
    },
    {
     "data": {
      "image/png": "[encoded data removed]",
      "text/plain": [
       "<Figure size 432x288 with 1 Axes>"
      ]
     },
     "metadata": {
      "needs_background": "light"
     },
     "output_type": "display_data"
    },
    {
     "name": "stdout",
     "output_type": "stream",
     "text": [
      "worm \n",
      "\n"
     ]
    },
    {
     "data": {
      "image/png": "[encoded data removed]",
      "text/plain": [
       "<Figure size 432x288 with 1 Axes>"
      ]
     },
     "metadata": {
      "needs_background": "light"
     },
     "output_type": "display_data"
    }
   ],
   "source": [
    "i = 0\n",
    "for key in inter_no_comp:\n",
    "    print(key, '\\n')\n",
    "    line = [informed_loglikelihood[i], uniformed_loglikelihood[i]]\n",
    "    plot_summary('log likelihood', summ=inter_no_comp[key], baseline=line, names=['Informed', 'Uniformed'])\n",
    "    i += 1\n",
    "    plt.show()"
   ]
  },
  {
   "cell_type": "markdown",
   "metadata": {},
   "source": []
  },
  {
   "cell_type": "code",
   "execution_count": null,
   "metadata": {},
   "outputs": [],
   "source": []
  }
 ],
 "metadata": {
  "kernelspec": {
   "display_name": "Python 3",
   "language": "python",
   "name": "python3"
  },
  "language_info": {
   "codemirror_mode": {
    "name": "ipython",
    "version": 3
   },
   "file_extension": ".py",
   "mimetype": "text/x-python",
   "name": "python",
   "nbconvert_exporter": "python",
   "pygments_lexer": "ipython3",
   "version": "3.8.5"
  }
 },
 "nbformat": 4,
 "nbformat_minor": 5
}
