{
 "cells": [
  {
   "cell_type": "markdown",
   "metadata": {},
   "source": [
    "This notebook uses data.x2 (69 features) to do individual sphase prediction."
   ]
  },
  {
   "cell_type": "code",
   "execution_count": 1,
   "metadata": {},
   "outputs": [],
   "source": [
    "import data1 as data\n",
    "import random\n",
    "from common import *\n",
    "from rules import *\n",
    "from realkd.patch import RuleFit\n",
    "from sklearn.model_selection import cross_validate, KFold\n",
    "from sklearn.ensemble import RandomForestClassifier\n",
    "from sklearn.model_selection import LeaveOneOut\n",
    "import numpy as np\n",
    "import matplotlib.colors as mcolors\n"
   ]
  },
  {
   "cell_type": "code",
   "execution_count": 2,
   "metadata": {},
   "outputs": [],
   "source": [
    "import warnings\n",
    "warnings.filterwarnings(\"ignore\")"
   ]
  },
  {
   "cell_type": "markdown",
   "metadata": {},
   "source": [
    "## Individual phase prediction\n"
   ]
  },
  {
   "cell_type": "code",
   "execution_count": 3,
   "metadata": {},
   "outputs": [],
   "source": [
    "from sklearn.linear_model import LogisticRegressionCV\n",
    "from sklearn.multioutput import ClassifierChain\n",
    "from multilabel import BinaryRelevanceClassifier, ProbabilisticClassifierChain\n",
    "from gam import LogisticGAM\n",
    "\n",
    "STATE = np.random.RandomState(seed=1000)\n",
    "\n",
    "lr = LogisticRegressionCV(penalty='l1', solver='saga', random_state=STATE)\n",
    "\n",
    "# gams not fixed, remove this part.\n",
    "gam = LogisticGAM(lam=[12.0]*len(data.x2.columns), max_iter=250)\n",
    "\n",
    "rf = RandomForestClassifier(random_state=STATE, min_samples_leaf=1, n_estimators=100)\n",
    "\n",
    "# Rulefit\n",
    "rufit = RuleFitWrapper()\n",
    "\n",
    "indi_estimators = [lr, rf, rufit]\n",
    "indi_names = ['LR','RanF', 'RuFit']"
   ]
  },
  {
   "cell_type": "markdown",
   "metadata": {},
   "source": [
    "This following code under \"2.6 GHz 6-Core Intel Core i7\" runs ~5 hours. You can simply use saved result to re-run the result."
   ]
  },
  {
   "cell_type": "code",
   "execution_count": 4,
   "metadata": {},
   "outputs": [
    {
     "name": "stdout",
     "output_type": "stream",
     "text": [
      "\n",
      "Target:  sphere\n",
      "Running experiment with 30 repetitions\n",
      "======================================\n",
      "******************************\n",
      "\n",
      "Target:  vesicle\n",
      "Running experiment with 30 repetitions\n",
      "======================================\n",
      "******************************\n",
      "\n",
      "Target:  worm\n",
      "Running experiment with 30 repetitions\n",
      "======================================\n",
      "******************************\n",
      "\n",
      "Target:  other\n",
      "Running experiment with 30 repetitions\n",
      "======================================\n",
      "******************************\n",
      "\n"
     ]
    }
   ],
   "source": [
    "from common import Experiment, LogLikelihoodEvaluator\n",
    "from sklearn.model_selection import KFold\n",
    "\n",
    "inter_no_comp = {}\n",
    "\n",
    "print('')\n",
    "for y in [data.sphere, data.vesicle, data.worm, data.other]: # miss other\n",
    "    print('Target: ',y.name)\n",
    "    experiment = Experiment(indi_estimators, \n",
    "                        indi_names,\n",
    "                        KFold(30, shuffle=True, random_state=STATE),\n",
    "                        data.x2, y.replace(-1, 0),\n",
    "                        groups=data.comp_ids.array, \n",
    "                        evaluators=['accuracy', LogLikelihoodEvaluator()],\n",
    "                        verbose=True)\n",
    "    inter_no_comp[y.name] = experiment.run()\n",
    "    print()"
   ]
  },
  {
   "cell_type": "code",
   "execution_count": 23,
   "metadata": {},
   "outputs": [],
   "source": [
    "# import pickle\n",
    "# with open('interpolation_iid_69.pkl', 'wb') as f:   \n",
    "#     pickle.dump(inter_no_comp, f)"
   ]
  },
  {
   "cell_type": "code",
   "execution_count": 6,
   "metadata": {},
   "outputs": [],
   "source": [
    "def plot_summary(metric, summ, num_reps=30, baseline=None, names=None, colors = list(mcolors.BASE_COLORS.keys())):\n",
    "    width = 0.35\n",
    "    ind = np.arange(len(summ))\n",
    "    plt.bar(ind-width/2, summ[f'mean_train_{metric}'], width=width, label='train', \n",
    "            yerr=summ[f'std_train_{metric}']/num_reps**0.5, capsize=3.0)\n",
    "    plt.bar(ind+width/2, summ[f'mean_test_{metric}'], width=width, label='test',\n",
    "            yerr=summ[f'std_test_{metric}']/num_reps**0.5, capsize=3.0)\n",
    "    if baseline:\n",
    "        for i in range(len(baseline)):\n",
    "            plt.axhline(y=baseline[i], color=colors[i], linestyle='-', label=names[i])\n",
    "    plt.ylabel(metric)\n",
    "    plt.legend()\n",
    "    plt.xticks(ind, summ.index)\n",
    "    \n",
    "inter_no_comp_df = {}\n",
    "for key in inter_no_comp:\n",
    "    df = inter_no_comp[key].summary()\n",
    "    df['mean_train_error'] = 1- df['mean_train_accuracy']\n",
    "    df['std_train_error'] = df['std_train_accuracy']\n",
    "    df['mean_test_error'] = 1- df['mean_test_accuracy']\n",
    "    df['std_test_error'] = df['std_test_accuracy']\n",
    "    inter_no_comp_df[key] = df"
   ]
  },
  {
   "cell_type": "code",
   "execution_count": 7,
   "metadata": {},
   "outputs": [
    {
     "name": "stdout",
     "output_type": "stream",
     "text": [
      "Informed error:  [0.46283783783783783, 0.2922297297297297, 0.33783783783783783, 0.02533783783783783]\n",
      "Uninformed error:  [0.5, 0.5, 0.5, 0.5]\n"
     ]
    }
   ],
   "source": [
    "# get base line \n",
    "# error\n",
    "informed_error = []\n",
    "for each in [data.sphere, data.vesicle, data.worm, data.other]:\n",
    "    uniq, cnt = np.unique(each, return_counts=True)\n",
    "    prob = cnt/sum(cnt)\n",
    "    informed_error.append((1-max(prob)))\n",
    "print('Informed error: ', informed_error)\n",
    "\n",
    "uniformed_error = [0.5, 0.5, 0.5, 0.5]\n",
    "print('Uninformed error: ', uniformed_error)"
   ]
  },
  {
   "cell_type": "code",
   "execution_count": 24,
   "metadata": {},
   "outputs": [],
   "source": [
    "change_columns = {\"mean_train_log likelihood\": 'mean_train_log loss', \n",
    "                  'std_train_log likelihood': 'std_train_log loss',\n",
    "                  'mean_test_log likelihood': 'mean_test_log loss',\n",
    "                  'std_test_log likelihood': 'std_test_log loss'} # chang log likelihood to log loss\n",
    "\n",
    "for each in inter_no_comp_df:\n",
    "    inter_no_comp_df[each] = inter_no_comp_df[each].rename(change_columns, axis=1)\n",
    "    inter_no_comp_df[each]['mean_train_log loss'] = -1 * inter_no_comp_df[each]['mean_train_log loss']\n",
    "    inter_no_comp_df[each]['mean_test_log loss'] = -1 * inter_no_comp_df[each]['mean_test_log loss']"
   ]
  },
  {
   "cell_type": "code",
   "execution_count": 25,
   "metadata": {},
   "outputs": [
    {
     "data": {
      "text/html": [
       "<div>\n",
       "<style scoped>\n",
       "    .dataframe tbody tr th:only-of-type {\n",
       "        vertical-align: middle;\n",
       "    }\n",
       "\n",
       "    .dataframe tbody tr th {\n",
       "        vertical-align: top;\n",
       "    }\n",
       "\n",
       "    .dataframe thead th {\n",
       "        text-align: right;\n",
       "    }\n",
       "</style>\n",
       "<table border=\"1\" class=\"dataframe\">\n",
       "  <thead>\n",
       "    <tr style=\"text-align: right;\">\n",
       "      <th></th>\n",
       "      <th>mean_train_accuracy</th>\n",
       "      <th>std_train_accuracy</th>\n",
       "      <th>mean_test_accuracy</th>\n",
       "      <th>std_test_accuracy</th>\n",
       "      <th>mean_train_log loss</th>\n",
       "      <th>std_train_log loss</th>\n",
       "      <th>mean_test_log loss</th>\n",
       "      <th>std_test_log loss</th>\n",
       "      <th>mean_train_error</th>\n",
       "      <th>std_train_error</th>\n",
       "      <th>mean_test_error</th>\n",
       "      <th>std_test_error</th>\n",
       "    </tr>\n",
       "  </thead>\n",
       "  <tbody>\n",
       "    <tr>\n",
       "      <th>LR</th>\n",
       "      <td>0.537162</td>\n",
       "      <td>0.004921</td>\n",
       "      <td>0.537193</td>\n",
       "      <td>0.142011</td>\n",
       "      <td>0.680825</td>\n",
       "      <td>0.001401</td>\n",
       "      <td>0.685333</td>\n",
       "      <td>0.041018</td>\n",
       "      <td>0.462838</td>\n",
       "      <td>0.004921</td>\n",
       "      <td>0.462807</td>\n",
       "      <td>0.142011</td>\n",
       "    </tr>\n",
       "    <tr>\n",
       "      <th>RanF</th>\n",
       "      <td>1.000000</td>\n",
       "      <td>0.000000</td>\n",
       "      <td>0.912544</td>\n",
       "      <td>0.073394</td>\n",
       "      <td>0.056800</td>\n",
       "      <td>0.001796</td>\n",
       "      <td>0.283283</td>\n",
       "      <td>0.350926</td>\n",
       "      <td>0.000000</td>\n",
       "      <td>0.000000</td>\n",
       "      <td>0.087456</td>\n",
       "      <td>0.073394</td>\n",
       "    </tr>\n",
       "    <tr>\n",
       "      <th>RuFit</th>\n",
       "      <td>0.983166</td>\n",
       "      <td>0.003390</td>\n",
       "      <td>0.917193</td>\n",
       "      <td>0.060219</td>\n",
       "      <td>0.076944</td>\n",
       "      <td>0.004397</td>\n",
       "      <td>0.237952</td>\n",
       "      <td>0.156147</td>\n",
       "      <td>0.016834</td>\n",
       "      <td>0.003390</td>\n",
       "      <td>0.082807</td>\n",
       "      <td>0.060219</td>\n",
       "    </tr>\n",
       "  </tbody>\n",
       "</table>\n",
       "</div>"
      ],
      "text/plain": [
       "       mean_train_accuracy  std_train_accuracy  mean_test_accuracy  \\\n",
       "LR                0.537162            0.004921            0.537193   \n",
       "RanF              1.000000            0.000000            0.912544   \n",
       "RuFit             0.983166            0.003390            0.917193   \n",
       "\n",
       "       std_test_accuracy  mean_train_log loss  std_train_log loss  \\\n",
       "LR              0.142011             0.680825            0.001401   \n",
       "RanF            0.073394             0.056800            0.001796   \n",
       "RuFit           0.060219             0.076944            0.004397   \n",
       "\n",
       "       mean_test_log loss  std_test_log loss  mean_train_error  \\\n",
       "LR               0.685333           0.041018          0.462838   \n",
       "RanF             0.283283           0.350926          0.000000   \n",
       "RuFit            0.237952           0.156147          0.016834   \n",
       "\n",
       "       std_train_error  mean_test_error  std_test_error  \n",
       "LR            0.004921         0.462807        0.142011  \n",
       "RanF          0.000000         0.087456        0.073394  \n",
       "RuFit         0.003390         0.082807        0.060219  "
      ]
     },
     "execution_count": 25,
     "metadata": {},
     "output_type": "execute_result"
    }
   ],
   "source": [
    "inter_no_comp_df['sphere']"
   ]
  },
  {
   "cell_type": "code",
   "execution_count": 26,
   "metadata": {},
   "outputs": [
    {
     "data": {
      "text/html": [
       "<div>\n",
       "<style scoped>\n",
       "    .dataframe tbody tr th:only-of-type {\n",
       "        vertical-align: middle;\n",
       "    }\n",
       "\n",
       "    .dataframe tbody tr th {\n",
       "        vertical-align: top;\n",
       "    }\n",
       "\n",
       "    .dataframe thead th {\n",
       "        text-align: right;\n",
       "    }\n",
       "</style>\n",
       "<table border=\"1\" class=\"dataframe\">\n",
       "  <thead>\n",
       "    <tr style=\"text-align: right;\">\n",
       "      <th></th>\n",
       "      <th>mean_train_accuracy</th>\n",
       "      <th>std_train_accuracy</th>\n",
       "      <th>mean_test_accuracy</th>\n",
       "      <th>std_test_accuracy</th>\n",
       "      <th>mean_train_log loss</th>\n",
       "      <th>std_train_log loss</th>\n",
       "      <th>mean_test_log loss</th>\n",
       "      <th>std_test_log loss</th>\n",
       "      <th>mean_train_error</th>\n",
       "      <th>std_train_error</th>\n",
       "      <th>mean_test_error</th>\n",
       "      <th>std_test_error</th>\n",
       "    </tr>\n",
       "  </thead>\n",
       "  <tbody>\n",
       "    <tr>\n",
       "      <th>LR</th>\n",
       "      <td>0.707770</td>\n",
       "      <td>0.003560</td>\n",
       "      <td>0.707544</td>\n",
       "      <td>0.103307</td>\n",
       "      <td>0.596987</td>\n",
       "      <td>0.003042</td>\n",
       "      <td>0.599935</td>\n",
       "      <td>0.088084</td>\n",
       "      <td>0.292230</td>\n",
       "      <td>0.003560</td>\n",
       "      <td>0.292456</td>\n",
       "      <td>0.103307</td>\n",
       "    </tr>\n",
       "    <tr>\n",
       "      <th>RanF</th>\n",
       "      <td>1.000000</td>\n",
       "      <td>0.000000</td>\n",
       "      <td>0.925526</td>\n",
       "      <td>0.059458</td>\n",
       "      <td>0.049419</td>\n",
       "      <td>0.001104</td>\n",
       "      <td>0.188003</td>\n",
       "      <td>0.088390</td>\n",
       "      <td>0.000000</td>\n",
       "      <td>0.000000</td>\n",
       "      <td>0.074474</td>\n",
       "      <td>0.059458</td>\n",
       "    </tr>\n",
       "    <tr>\n",
       "      <th>RuFit</th>\n",
       "      <td>0.989574</td>\n",
       "      <td>0.002847</td>\n",
       "      <td>0.917105</td>\n",
       "      <td>0.050854</td>\n",
       "      <td>0.063493</td>\n",
       "      <td>0.002371</td>\n",
       "      <td>0.185677</td>\n",
       "      <td>0.095077</td>\n",
       "      <td>0.010426</td>\n",
       "      <td>0.002847</td>\n",
       "      <td>0.082895</td>\n",
       "      <td>0.050854</td>\n",
       "    </tr>\n",
       "  </tbody>\n",
       "</table>\n",
       "</div>"
      ],
      "text/plain": [
       "       mean_train_accuracy  std_train_accuracy  mean_test_accuracy  \\\n",
       "LR                0.707770            0.003560            0.707544   \n",
       "RanF              1.000000            0.000000            0.925526   \n",
       "RuFit             0.989574            0.002847            0.917105   \n",
       "\n",
       "       std_test_accuracy  mean_train_log loss  std_train_log loss  \\\n",
       "LR              0.103307             0.596987            0.003042   \n",
       "RanF            0.059458             0.049419            0.001104   \n",
       "RuFit           0.050854             0.063493            0.002371   \n",
       "\n",
       "       mean_test_log loss  std_test_log loss  mean_train_error  \\\n",
       "LR               0.599935           0.088084          0.292230   \n",
       "RanF             0.188003           0.088390          0.000000   \n",
       "RuFit            0.185677           0.095077          0.010426   \n",
       "\n",
       "       std_train_error  mean_test_error  std_test_error  \n",
       "LR            0.003560         0.292456        0.103307  \n",
       "RanF          0.000000         0.074474        0.059458  \n",
       "RuFit         0.002847         0.082895        0.050854  "
      ]
     },
     "execution_count": 26,
     "metadata": {},
     "output_type": "execute_result"
    }
   ],
   "source": [
    "inter_no_comp_df['vesicle']"
   ]
  },
  {
   "cell_type": "code",
   "execution_count": 27,
   "metadata": {},
   "outputs": [
    {
     "data": {
      "text/html": [
       "<div>\n",
       "<style scoped>\n",
       "    .dataframe tbody tr th:only-of-type {\n",
       "        vertical-align: middle;\n",
       "    }\n",
       "\n",
       "    .dataframe tbody tr th {\n",
       "        vertical-align: top;\n",
       "    }\n",
       "\n",
       "    .dataframe thead th {\n",
       "        text-align: right;\n",
       "    }\n",
       "</style>\n",
       "<table border=\"1\" class=\"dataframe\">\n",
       "  <thead>\n",
       "    <tr style=\"text-align: right;\">\n",
       "      <th></th>\n",
       "      <th>mean_train_accuracy</th>\n",
       "      <th>std_train_accuracy</th>\n",
       "      <th>mean_test_accuracy</th>\n",
       "      <th>std_test_accuracy</th>\n",
       "      <th>mean_train_log loss</th>\n",
       "      <th>std_train_log loss</th>\n",
       "      <th>mean_test_log loss</th>\n",
       "      <th>std_test_log loss</th>\n",
       "      <th>mean_train_error</th>\n",
       "      <th>std_train_error</th>\n",
       "      <th>mean_test_error</th>\n",
       "      <th>std_test_error</th>\n",
       "    </tr>\n",
       "  </thead>\n",
       "  <tbody>\n",
       "    <tr>\n",
       "      <th>LR</th>\n",
       "      <td>0.633911</td>\n",
       "      <td>0.009928</td>\n",
       "      <td>0.630263</td>\n",
       "      <td>0.106332</td>\n",
       "      <td>0.580561</td>\n",
       "      <td>0.002775</td>\n",
       "      <td>0.583295</td>\n",
       "      <td>0.079707</td>\n",
       "      <td>0.366089</td>\n",
       "      <td>0.009928</td>\n",
       "      <td>0.369737</td>\n",
       "      <td>0.106332</td>\n",
       "    </tr>\n",
       "    <tr>\n",
       "      <th>RanF</th>\n",
       "      <td>1.000000</td>\n",
       "      <td>0.000000</td>\n",
       "      <td>0.917281</td>\n",
       "      <td>0.056844</td>\n",
       "      <td>0.053729</td>\n",
       "      <td>0.001619</td>\n",
       "      <td>0.253760</td>\n",
       "      <td>0.336384</td>\n",
       "      <td>0.000000</td>\n",
       "      <td>0.000000</td>\n",
       "      <td>0.082719</td>\n",
       "      <td>0.056844</td>\n",
       "    </tr>\n",
       "    <tr>\n",
       "      <th>RuFit</th>\n",
       "      <td>0.988875</td>\n",
       "      <td>0.003387</td>\n",
       "      <td>0.905351</td>\n",
       "      <td>0.063164</td>\n",
       "      <td>0.071262</td>\n",
       "      <td>0.003421</td>\n",
       "      <td>0.223164</td>\n",
       "      <td>0.132311</td>\n",
       "      <td>0.011125</td>\n",
       "      <td>0.003387</td>\n",
       "      <td>0.094649</td>\n",
       "      <td>0.063164</td>\n",
       "    </tr>\n",
       "  </tbody>\n",
       "</table>\n",
       "</div>"
      ],
      "text/plain": [
       "       mean_train_accuracy  std_train_accuracy  mean_test_accuracy  \\\n",
       "LR                0.633911            0.009928            0.630263   \n",
       "RanF              1.000000            0.000000            0.917281   \n",
       "RuFit             0.988875            0.003387            0.905351   \n",
       "\n",
       "       std_test_accuracy  mean_train_log loss  std_train_log loss  \\\n",
       "LR              0.106332             0.580561            0.002775   \n",
       "RanF            0.056844             0.053729            0.001619   \n",
       "RuFit           0.063164             0.071262            0.003421   \n",
       "\n",
       "       mean_test_log loss  std_test_log loss  mean_train_error  \\\n",
       "LR               0.583295           0.079707          0.366089   \n",
       "RanF             0.253760           0.336384          0.000000   \n",
       "RuFit            0.223164           0.132311          0.011125   \n",
       "\n",
       "       std_train_error  mean_test_error  std_test_error  \n",
       "LR            0.009928         0.369737        0.106332  \n",
       "RanF          0.000000         0.082719        0.056844  \n",
       "RuFit         0.003387         0.094649        0.063164  "
      ]
     },
     "execution_count": 27,
     "metadata": {},
     "output_type": "execute_result"
    }
   ],
   "source": [
    "inter_no_comp_df['worm']"
   ]
  },
  {
   "cell_type": "code",
   "execution_count": 28,
   "metadata": {},
   "outputs": [
    {
     "data": {
      "text/html": [
       "<div>\n",
       "<style scoped>\n",
       "    .dataframe tbody tr th:only-of-type {\n",
       "        vertical-align: middle;\n",
       "    }\n",
       "\n",
       "    .dataframe tbody tr th {\n",
       "        vertical-align: top;\n",
       "    }\n",
       "\n",
       "    .dataframe thead th {\n",
       "        text-align: right;\n",
       "    }\n",
       "</style>\n",
       "<table border=\"1\" class=\"dataframe\">\n",
       "  <thead>\n",
       "    <tr style=\"text-align: right;\">\n",
       "      <th></th>\n",
       "      <th>mean_train_accuracy</th>\n",
       "      <th>std_train_accuracy</th>\n",
       "      <th>mean_test_accuracy</th>\n",
       "      <th>std_test_accuracy</th>\n",
       "      <th>mean_train_log loss</th>\n",
       "      <th>std_train_log loss</th>\n",
       "      <th>mean_test_log loss</th>\n",
       "      <th>std_test_log loss</th>\n",
       "      <th>mean_train_error</th>\n",
       "      <th>std_train_error</th>\n",
       "      <th>mean_test_error</th>\n",
       "      <th>std_test_error</th>\n",
       "    </tr>\n",
       "  </thead>\n",
       "  <tbody>\n",
       "    <tr>\n",
       "      <th>LR</th>\n",
       "      <td>0.974662</td>\n",
       "      <td>0.001276</td>\n",
       "      <td>0.974737</td>\n",
       "      <td>0.036749</td>\n",
       "      <td>0.157774</td>\n",
       "      <td>0.005536</td>\n",
       "      <td>0.162524</td>\n",
       "      <td>0.166690</td>\n",
       "      <td>0.025338</td>\n",
       "      <td>0.001276</td>\n",
       "      <td>0.025263</td>\n",
       "      <td>0.036749</td>\n",
       "    </tr>\n",
       "    <tr>\n",
       "      <th>RanF</th>\n",
       "      <td>1.000000</td>\n",
       "      <td>0.000000</td>\n",
       "      <td>0.981579</td>\n",
       "      <td>0.030844</td>\n",
       "      <td>0.010783</td>\n",
       "      <td>0.000781</td>\n",
       "      <td>0.150334</td>\n",
       "      <td>0.456164</td>\n",
       "      <td>0.000000</td>\n",
       "      <td>0.000000</td>\n",
       "      <td>0.018421</td>\n",
       "      <td>0.030844</td>\n",
       "    </tr>\n",
       "    <tr>\n",
       "      <th>RuFit</th>\n",
       "      <td>0.995399</td>\n",
       "      <td>0.001804</td>\n",
       "      <td>0.979912</td>\n",
       "      <td>0.036277</td>\n",
       "      <td>0.022120</td>\n",
       "      <td>0.001515</td>\n",
       "      <td>0.067360</td>\n",
       "      <td>0.131713</td>\n",
       "      <td>0.004601</td>\n",
       "      <td>0.001804</td>\n",
       "      <td>0.020088</td>\n",
       "      <td>0.036277</td>\n",
       "    </tr>\n",
       "  </tbody>\n",
       "</table>\n",
       "</div>"
      ],
      "text/plain": [
       "       mean_train_accuracy  std_train_accuracy  mean_test_accuracy  \\\n",
       "LR                0.974662            0.001276            0.974737   \n",
       "RanF              1.000000            0.000000            0.981579   \n",
       "RuFit             0.995399            0.001804            0.979912   \n",
       "\n",
       "       std_test_accuracy  mean_train_log loss  std_train_log loss  \\\n",
       "LR              0.036749             0.157774            0.005536   \n",
       "RanF            0.030844             0.010783            0.000781   \n",
       "RuFit           0.036277             0.022120            0.001515   \n",
       "\n",
       "       mean_test_log loss  std_test_log loss  mean_train_error  \\\n",
       "LR               0.162524           0.166690          0.025338   \n",
       "RanF             0.150334           0.456164          0.000000   \n",
       "RuFit            0.067360           0.131713          0.004601   \n",
       "\n",
       "       std_train_error  mean_test_error  std_test_error  \n",
       "LR            0.001276         0.025263        0.036749  \n",
       "RanF          0.000000         0.018421        0.030844  \n",
       "RuFit         0.001804         0.020088        0.036277  "
      ]
     },
     "execution_count": 28,
     "metadata": {},
     "output_type": "execute_result"
    }
   ],
   "source": [
    "inter_no_comp_df['other']"
   ]
  },
  {
   "cell_type": "code",
   "execution_count": 29,
   "metadata": {},
   "outputs": [
    {
     "name": "stdout",
     "output_type": "stream",
     "text": [
      "sphere \n",
      "\n"
     ]
    },
    {
     "data": {
      "image/png": "[encoded data removed]",
      "text/plain": [
       "<Figure size 432x288 with 1 Axes>"
      ]
     },
     "metadata": {
      "needs_background": "light"
     },
     "output_type": "display_data"
    },
    {
     "name": "stdout",
     "output_type": "stream",
     "text": [
      "vesicle \n",
      "\n"
     ]
    },
    {
     "data": {
      "image/png": "[encoded data removed]",
      "text/plain": [
       "<Figure size 432x288 with 1 Axes>"
      ]
     },
     "metadata": {
      "needs_background": "light"
     },
     "output_type": "display_data"
    },
    {
     "name": "stdout",
     "output_type": "stream",
     "text": [
      "worm \n",
      "\n"
     ]
    },
    {
     "data": {
      "image/png": "[encoded data removed]",
      "text/plain": [
       "<Figure size 432x288 with 1 Axes>"
      ]
     },
     "metadata": {
      "needs_background": "light"
     },
     "output_type": "display_data"
    },
    {
     "name": "stdout",
     "output_type": "stream",
     "text": [
      "other \n",
      "\n"
     ]
    },
    {
     "data": {
      "image/png": "[encoded data removed]",
      "text/plain": [
       "<Figure size 432x288 with 1 Axes>"
      ]
     },
     "metadata": {
      "needs_background": "light"
     },
     "output_type": "display_data"
    }
   ],
   "source": [
    "i = 0\n",
    "for key in inter_no_comp_df:\n",
    "    print(key, '\\n')\n",
    "    line = [informed_error[i], uniformed_error[i]]\n",
    "    plot_summary('error', summ=inter_no_comp_df[key], baseline=line, names=['Informed', 'Uniformed'])\n",
    "    i += 1\n",
    "    plt.show()"
   ]
  },
  {
   "cell_type": "markdown",
   "metadata": {},
   "source": [
    "__Log likelihood__\n",
    "\n",
    "All the estimators performs much better than random guessing and informed guessing."
   ]
  },
  {
   "cell_type": "code",
   "execution_count": 32,
   "metadata": {},
   "outputs": [
    {
     "name": "stdout",
     "output_type": "stream",
     "text": [
      "Informed loglikelihood:  [0.9960115235485287, 0.8715841441742509, 0.9227346209530941, 0.17044317741514714]\n",
      "Uninformed loglikelihood:  [1.0, 1.0, 1.0, 1.0]\n"
     ]
    }
   ],
   "source": [
    "# get base line \n",
    "# log loss\n",
    "informed_loglikelihood = []\n",
    "for each in [data.sphere, data.vesicle, data.worm, data.other]:\n",
    "    uniq, cnt = np.unique(each, return_counts=True)\n",
    "    prob = cnt/sum(cnt)\n",
    "    informed_loglikelihood.append(sum(-1*prob * np.log2(prob)))\n",
    "print('Informed loglikelihood: ', informed_loglikelihood)\n",
    "\n",
    "uniformed_loglikelihood = [-1*0.5 * np.log2(0.5)*2] * 4\n",
    "print('Uninformed loglikelihood: ', uniformed_loglikelihood)"
   ]
  },
  {
   "cell_type": "code",
   "execution_count": 34,
   "metadata": {},
   "outputs": [
    {
     "name": "stdout",
     "output_type": "stream",
     "text": [
      "sphere \n",
      "\n"
     ]
    },
    {
     "data": {
      "image/png": "[encoded data removed]",
      "text/plain": [
       "<Figure size 432x288 with 1 Axes>"
      ]
     },
     "metadata": {
      "needs_background": "light"
     },
     "output_type": "display_data"
    },
    {
     "name": "stdout",
     "output_type": "stream",
     "text": [
      "vesicle \n",
      "\n"
     ]
    },
    {
     "data": {
      "image/png": "[encoded data removed]",
      "text/plain": [
       "<Figure size 432x288 with 1 Axes>"
      ]
     },
     "metadata": {
      "needs_background": "light"
     },
     "output_type": "display_data"
    },
    {
     "name": "stdout",
     "output_type": "stream",
     "text": [
      "worm \n",
      "\n"
     ]
    },
    {
     "data": {
      "image/png": "[encoded data removed]",
      "text/plain": [
       "<Figure size 432x288 with 1 Axes>"
      ]
     },
     "metadata": {
      "needs_background": "light"
     },
     "output_type": "display_data"
    },
    {
     "name": "stdout",
     "output_type": "stream",
     "text": [
      "other \n",
      "\n"
     ]
    },
    {
     "data": {
      "image/png": "[encoded data removed]",
      "text/plain": [
       "<Figure size 432x288 with 1 Axes>"
      ]
     },
     "metadata": {
      "needs_background": "light"
     },
     "output_type": "display_data"
    }
   ],
   "source": [
    "i = 0\n",
    "for key in inter_no_comp_df:\n",
    "    print(key, '\\n')\n",
    "    line = [informed_loglikelihood[i], uniformed_loglikelihood[i]]\n",
    "    plot_summary('log loss', summ=inter_no_comp_df[key], baseline=line, names=['Informed', 'Uniformed'])\n",
    "    i += 1\n",
    "    plt.show()"
   ]
  },
  {
   "cell_type": "code",
   "execution_count": null,
   "metadata": {},
   "outputs": [],
   "source": [
    "import pickle\n",
    "with open('interpolation_iid_69.pkl', 'wb') as f:   \n",
    "    pickle.dump(inter_no_comp, f)"
   ]
  },
  {
   "cell_type": "markdown",
   "metadata": {},
   "source": []
  },
  {
   "cell_type": "code",
   "execution_count": 16,
   "metadata": {},
   "outputs": [],
   "source": [
    "def loss(y_test, y_pred):\n",
    "    y_test = y_test.astype(np.float16)\n",
    "    y_pred = y_pred.astype(np.float16)\n",
    "    if len(y_test.shape) == 1:\n",
    "        N = y_test.shape[0]\n",
    "        loss = 0\n",
    "        for i in range(N):\n",
    "            loss -= ((y_test[i]*np.log(y_pred[i]))+((1.0-y_test[i])*np.log(1.0-y_pred[i])))\n",
    "            loss = loss/N\n",
    "    else:\n",
    "        N,M = y_test.shape\n",
    "        a=[]\n",
    "        for m in range(M):\n",
    "            loss=0\n",
    "            for i in range(N):\n",
    "                subloss = ((y_test[i,m]*np.log(y_pred[i,m]))+((1.0-y_test[i,m])*np.log(1.0-y_pred[i,m])))\n",
    "                if np.isnan(subloss):\n",
    "                    continue\n",
    "                loss -= subloss\n",
    "            loss = loss/N\n",
    "            a.append(round(loss,8))\n",
    "        loss = np.mean(a)\n",
    "    return loss"
   ]
  },
  {
   "cell_type": "code",
   "execution_count": 20,
   "metadata": {},
   "outputs": [],
   "source": [
    "# choose the best RuleFit\n",
    "best_rf = {}\n",
    "for phase in inter_no_comp:\n",
    "    lst = []\n",
    "    for each in inter_no_comp[phase].fitted_['RuFit']:\n",
    "        pred = each.predict_proba(data.x2)\n",
    "        res = log_loss(data.y[phase].values, pred)\n",
    "        lst.append((res, each))\n",
    "    lst.sort()\n",
    "    best_rf[phase] = lst[0][1]"
   ]
  },
  {
   "cell_type": "code",
   "execution_count": 22,
   "metadata": {},
   "outputs": [],
   "source": [
    "for each in best_rf:\n",
    "    dic = best_rf[each].get_rules(data.x, data.y[each])\n",
    "    for key, values in dic.items():\n",
    "        name = 'Rules/Individual_Phase/Interpolation/69p'+ \"_\" + key + '.csv'\n",
    "        values.to_csv(name, index=False)"
   ]
  },
  {
   "cell_type": "code",
   "execution_count": null,
   "metadata": {},
   "outputs": [],
   "source": []
  }
 ],
 "metadata": {
  "kernelspec": {
   "display_name": "Python 3",
   "language": "python",
   "name": "python3"
  },
  "language_info": {
   "codemirror_mode": {
    "name": "ipython",
    "version": 3
   },
   "file_extension": ".py",
   "mimetype": "text/x-python",
   "name": "python",
   "nbconvert_exporter": "python",
   "pygments_lexer": "ipython3",
   "version": "3.8.5"
  }
 },
 "nbformat": 4,
 "nbformat_minor": 5
}
