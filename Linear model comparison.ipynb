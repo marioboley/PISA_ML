{
 "cells": [
  {
   "cell_type": "code",
   "execution_count": 1,
   "metadata": {},
   "outputs": [],
   "source": [
    "import data1 as data\n",
    "import random\n",
    "from multilabel import *\n",
    "from common import *\n",
    "from sklearn.model_selection import cross_validate, KFold\n",
    "import numpy as np\n",
    "import matplotlib.colors as mcolorss\n",
    "import statsmodels.api as sm\n",
    "from linear_models import *"
   ]
  },
  {
   "cell_type": "code",
   "execution_count": 2,
   "metadata": {},
   "outputs": [],
   "source": [
    "from sklearn.linear_model import LogisticRegressionCV\n",
    "from sklearn.multioutput import ClassifierChain\n",
    "from multilabel import BinaryRelevanceClassifier, ProbabilisticClassifierChain\n",
    "\n",
    "STATE = np.random.RandomState(seed=1000)\n",
    "MAX_ITER = 10000\n",
    "\n",
    "l1_ratios = [0.5 for _ in data.x1.columns]\n",
    "lr_sklearn_l1 = LogisticRegressionCV(penalty='l1', solver='saga', random_state=STATE, max_iter=MAX_ITER)\n",
    "lr_sklearn_l2 = LogisticRegressionCV(penalty='l2', solver='lbfgs', random_state=STATE, max_iter=MAX_ITER)\n",
    "lr_sklearn_net = LogisticRegressionCV(penalty='elasticnet', solver='saga', random_state=STATE, max_iter=MAX_ITER, \\\n",
    "                                     l1_ratios = l1_ratios)\n",
    "\n",
    "lr_sklearn_l1 = ProbabilisticClassifierChain(lr_sklearn_l1)\n",
    "lr_sklearn_l2 = ProbabilisticClassifierChain(lr_sklearn_l2)\n",
    "\n",
    "# elasticnet\n",
    "lr_sklearn_net = ProbabilisticClassifierChain(lr_sklearn_net)\n",
    "glm_net = ProbabilisticClassifierChain(GlmWrapper(max_iter=2*MAX_ITER, L1_wt=0.5, alpha=0.8))\n",
    "\n",
    "full_estimators = [lr_sklearn_l1, lr_sklearn_l2, lr_sklearn_net, glm_net]\n",
    "full_names = ['l1_pcc', 'l2_pcc', 'Sknet_pcc', 'Glmnet_pcc']"
   ]
  },
  {
   "cell_type": "code",
   "execution_count": 3,
   "metadata": {
    "scrolled": true
   },
   "outputs": [
    {
     "name": "stdout",
     "output_type": "stream",
     "text": [
      "Current Prediction Order is: ['sphere', 'worm', 'vesicle', 'other']\n",
      "Num of predictors:,  23\n",
      "Running experiment with 30 repetitions\n",
      "======================================\n",
      "******************************\n"
     ]
    }
   ],
   "source": [
    "from common import Experiment, NegLogLikelihoodEvaluator\n",
    "from sklearn.model_selection import KFold\n",
    "\n",
    "print(\"Current Prediction Order is:\", data.y.columns.tolist())\n",
    "print('Num of predictors:, ', data.x1.shape[1])\n",
    "\n",
    "interpolation = Experiment(full_estimators, \n",
    "                            full_names,\n",
    "                            KFold(30, shuffle=True, random_state=STATE),\n",
    "                            data.x1, data.y.replace(-1.0, 0.0),\n",
    "                            groups=data.comp_ids.array, \n",
    "                            evaluators=['accuracy', NegLogLikelihoodEvaluator(base=2)],\n",
    "                            verbose=True).run()"
   ]
  },
  {
   "cell_type": "code",
   "execution_count": 27,
   "metadata": {},
   "outputs": [
    {
     "data": {
      "text/html": [
       "<div>\n",
       "<style scoped>\n",
       "    .dataframe tbody tr th:only-of-type {\n",
       "        vertical-align: middle;\n",
       "    }\n",
       "\n",
       "    .dataframe tbody tr th {\n",
       "        vertical-align: top;\n",
       "    }\n",
       "\n",
       "    .dataframe thead th {\n",
       "        text-align: right;\n",
       "    }\n",
       "</style>\n",
       "<table border=\"1\" class=\"dataframe\">\n",
       "  <thead>\n",
       "    <tr style=\"text-align: right;\">\n",
       "      <th></th>\n",
       "      <th>mean_train_error</th>\n",
       "      <th>std_train_error</th>\n",
       "      <th>mean_test_error</th>\n",
       "      <th>std_test_error</th>\n",
       "      <th>mean_train_log loss</th>\n",
       "      <th>std_train_log loss</th>\n",
       "      <th>mean_test_log loss</th>\n",
       "      <th>std_test_log loss</th>\n",
       "    </tr>\n",
       "  </thead>\n",
       "  <tbody>\n",
       "    <tr>\n",
       "      <th>l1_pcc</th>\n",
       "      <td>0.617078</td>\n",
       "      <td>0.011528</td>\n",
       "      <td>0.621491</td>\n",
       "      <td>0.149020</td>\n",
       "      <td>2.899577</td>\n",
       "      <td>0.012349</td>\n",
       "      <td>2.922320</td>\n",
       "      <td>0.350100</td>\n",
       "    </tr>\n",
       "    <tr>\n",
       "      <th>l2_pcc</th>\n",
       "      <td>0.556380</td>\n",
       "      <td>0.043451</td>\n",
       "      <td>0.588246</td>\n",
       "      <td>0.146107</td>\n",
       "      <td>2.251545</td>\n",
       "      <td>0.100844</td>\n",
       "      <td>2.359290</td>\n",
       "      <td>0.414337</td>\n",
       "    </tr>\n",
       "    <tr>\n",
       "      <th>Sknet_pcc</th>\n",
       "      <td>0.623951</td>\n",
       "      <td>0.014037</td>\n",
       "      <td>0.624912</td>\n",
       "      <td>0.146423</td>\n",
       "      <td>2.898544</td>\n",
       "      <td>0.011547</td>\n",
       "      <td>2.922387</td>\n",
       "      <td>0.352078</td>\n",
       "    </tr>\n",
       "    <tr>\n",
       "      <th>Glmnet_pcc</th>\n",
       "      <td>0.672822</td>\n",
       "      <td>0.010615</td>\n",
       "      <td>0.684298</td>\n",
       "      <td>0.117877</td>\n",
       "      <td>2.603225</td>\n",
       "      <td>0.018814</td>\n",
       "      <td>2.660096</td>\n",
       "      <td>0.314455</td>\n",
       "    </tr>\n",
       "  </tbody>\n",
       "</table>\n",
       "</div>"
      ],
      "text/plain": [
       "            mean_train_error  std_train_error  mean_test_error  \\\n",
       "l1_pcc              0.617078         0.011528         0.621491   \n",
       "l2_pcc              0.556380         0.043451         0.588246   \n",
       "Sknet_pcc           0.623951         0.014037         0.624912   \n",
       "Glmnet_pcc          0.672822         0.010615         0.684298   \n",
       "\n",
       "            std_test_error  mean_train_log loss  std_train_log loss  \\\n",
       "l1_pcc            0.149020             2.899577            0.012349   \n",
       "l2_pcc            0.146107             2.251545            0.100844   \n",
       "Sknet_pcc         0.146423             2.898544            0.011547   \n",
       "Glmnet_pcc        0.117877             2.603225            0.018814   \n",
       "\n",
       "            mean_test_log loss  std_test_log loss  \n",
       "l1_pcc                2.922320           0.350100  \n",
       "l2_pcc                2.359290           0.414337  \n",
       "Sknet_pcc             2.922387           0.352078  \n",
       "Glmnet_pcc            2.660096           0.314455  "
      ]
     },
     "execution_count": 27,
     "metadata": {},
     "output_type": "execute_result"
    }
   ],
   "source": [
    "df = interpolation.summary()\n",
    "df"
   ]
  },
  {
   "cell_type": "code",
   "execution_count": 34,
   "metadata": {},
   "outputs": [],
   "source": [
    "import matplotlib.colors as mcolors\n",
    "import matplotlib.pyplot as plt\n",
    "import math"
   ]
  },
  {
   "cell_type": "code",
   "execution_count": 39,
   "metadata": {},
   "outputs": [
    {
     "data": {
      "image/png": "[encoded data removed]",
      "text/plain": [
       "<Figure size 1417.32x425.197 with 2 Axes>"
      ]
     },
     "metadata": {
      "needs_background": "light"
     },
     "output_type": "display_data"
    }
   ],
   "source": [
    "def cm2inch(*tupl):\n",
    "    \"\"\"This function is for the actual size (cm) of plots\n",
    "    Input: \n",
    "        tuple: for example (12, 13) means 12cm, 13 cm\n",
    "    Output:\n",
    "        tuple: for python figsize\n",
    "    \"\"\"\n",
    "    inch = 2.54\n",
    "    if isinstance(tupl[0], tuple):\n",
    "        return tuple(i/inch for i in tupl[0])\n",
    "    else:\n",
    "        return tuple(i/inch for i in tupl)\n",
    "    \n",
    "colors = ['r', 'c', 'm', 'y', 'b']\n",
    "fig, (ax1, ax2) = plt.subplots(1, 2, sharey=False, sharex=True)\n",
    "fig.set_size_inches(cm2inch(50, 15))\n",
    "\n",
    "width = 0.25\n",
    "fontsize = 15\n",
    "ind = np.arange(len(df))\n",
    "\n",
    "ax1.bar(ind-width/2, df[f'mean_train_error'], width=width, label='training', \n",
    "        yerr=df[f'std_train_error']/30**0.5, capsize=3.0)\n",
    "ax1.bar(ind+width/2, df[f'mean_test_error'], width=width, label='extrapolation',\n",
    "        yerr=df[f'std_test_error']/30**0.5, capsize=3.0)\n",
    "\n",
    "ax1.set_title('Full morphology error rate', fontsize=fontsize)\n",
    "ax1.set_xticks(ind)\n",
    "ax1.set_ylabel('Error rate', fontsize=fontsize)\n",
    "ax1.set_xticklabels(df.index, fontsize=fontsize)\n",
    "\n",
    "# add base line\n",
    "uniq, cnts = np.unique(data.y.values, return_counts=True, axis=0)\n",
    "unreal_inter_full_info_error = 1 - max(cnts)/sum(cnts)\n",
    "inter_full_uninfo_error = 1 - (1/2)**4\n",
    "\n",
    "inter_error_base = [inter_full_uninfo_error, unreal_inter_full_info_error]\n",
    "inter_error_name = ['uninformed', 'informed']\n",
    "for i in range(len(inter_error_base)):\n",
    "    ax1.axhline(y=inter_error_base[i], color=colors[i], linestyle='-', label=inter_error_name[i])\n",
    "\n",
    "ax1.legend(fontsize=fontsize)\n",
    "\n",
    "ax2.bar(ind-width/2, df[f'mean_train_log loss'], width=width, label='training', \n",
    "        yerr=df[f'std_train_log loss']/30**0.5, capsize=3.0)\n",
    "ax2.bar(ind+width/2, df[f'mean_test_log loss'], width=width, label='interpolation',\n",
    "        yerr=df[f'std_test_log loss']/30**0.5, capsize=3.0)\n",
    "\n",
    "# add baseline\n",
    "uniq, cnt = np.unique(data.y.values, axis=0, return_counts=True)\n",
    "prob = cnt/sum(cnt)\n",
    "unreal_inter_full_info_loss = 0\n",
    "for each in cnt:\n",
    "    unreal_inter_full_info_loss += -each * math.log2(each/sum(cnt))\n",
    "unreal_inter_full_info_loss = unreal_inter_full_info_loss/sum(cnt)\n",
    "inter_full_uninfo_loss=-math.log2(0.5**4)\n",
    "full_loss_base = [inter_full_uninfo_loss, unreal_inter_full_info_loss]\n",
    "full_loss_name = ['uninformed', 'informed']\n",
    "for i in range(len(full_loss_base)):\n",
    "    ax2.axhline(y=full_loss_base[i], color=colors[i], linestyle='-', label=full_loss_name[i])\n",
    "\n",
    "ax2.set_title('log loss', fontsize=fontsize)\n",
    "ax2.set_xticks(ind)\n",
    "ax2.set_xticklabels(df.index, fontsize=fontsize)\n",
    "ax2.set_ylabel('logloss', fontsize=fontsize)\n",
    "\n",
    "plt.savefig('overall_performance.pdf', bbox_inches='tight', pad_inches=0)\n",
    "plt.show()"
   ]
  },
  {
   "cell_type": "code",
   "execution_count": null,
   "metadata": {},
   "outputs": [],
   "source": []
  },
  {
   "cell_type": "code",
   "execution_count": null,
   "metadata": {},
   "outputs": [],
   "source": []
  }
 ],
 "metadata": {
  "kernelspec": {
   "display_name": "Python 3",
   "language": "python",
   "name": "python3"
  },
  "language_info": {
   "codemirror_mode": {
    "name": "ipython",
    "version": 3
   },
   "file_extension": ".py",
   "mimetype": "text/x-python",
   "name": "python",
   "nbconvert_exporter": "python",
   "pygments_lexer": "ipython3",
   "version": "3.8.5"
  }
 },
 "nbformat": 4,
 "nbformat_minor": 4
}
