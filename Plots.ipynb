{
 "cells": [
  {
   "cell_type": "code",
   "execution_count": 1,
   "metadata": {},
   "outputs": [],
   "source": [
    "import pandas as pd\n",
    "import numpy as np\n",
    "import matplotlib.colors as mcolors\n",
    "import matplotlib.pyplot as plt\n",
    "import data1 as data\n",
    "import math"
   ]
  },
  {
   "cell_type": "markdown",
   "metadata": {},
   "source": [
    "### Read data & format"
   ]
  },
  {
   "cell_type": "code",
   "execution_count": 2,
   "metadata": {},
   "outputs": [],
   "source": [
    "df_extrafull = pd.read_csv('extra_full_performance.csv')\n",
    "df_extra_average = pd.read_csv('extra_average_performance.csv')\n",
    "df_inter_average = pd.read_csv('inter_average_performance.csv')\n",
    "df_interfull = pd.read_csv('inter_full_performance.csv')"
   ]
  },
  {
   "cell_type": "code",
   "execution_count": 3,
   "metadata": {},
   "outputs": [],
   "source": [
    "df_extrafull['mean_train_error'] = 1-df_extrafull['mean_train_accuracy']\n",
    "df_extrafull['std_train_error'] = df_extrafull['std_train_accuracy']\n",
    "df_extrafull['mean_test_error'] = 1-df_extrafull['mean_test_accuracy']\n",
    "df_extrafull['std_test_error'] = df_extrafull['std_test_accuracy']"
   ]
  },
  {
   "cell_type": "code",
   "execution_count": 4,
   "metadata": {},
   "outputs": [],
   "source": [
    "df_extrafull.set_index('Unnamed: 0', inplace=True)\n",
    "df_extrafull.index.name = None\n",
    "df_extra_average.set_index('Unnamed: 0', inplace=True)\n",
    "df_extra_average.index.name = None\n",
    "df_inter_average.set_index('Unnamed: 0', inplace=True)\n",
    "df_inter_average.index.name = None\n",
    "df_interfull.set_index('Unnamed: 0', inplace=True)\n",
    "df_interfull.index.name = None"
   ]
  },
  {
   "cell_type": "code",
   "execution_count": 5,
   "metadata": {},
   "outputs": [],
   "source": [
    "def plot_summary(metric, summ, num_reps=30, baseline=None, names=None, colors = list(mcolors.BASE_COLORS.keys())):\n",
    "    width = 0.35\n",
    "    ind = np.arange(len(summ))\n",
    "    plt.bar(ind-width/2, summ[f'mean_train_{metric}'], width=width, label='train', \n",
    "            yerr=summ[f'std_train_{metric}']/num_reps**0.5, capsize=3.0)\n",
    "    plt.bar(ind+width/2, summ[f'mean_test_{metric}'], width=width, label='test',\n",
    "            yerr=summ[f'std_test_{metric}']/num_reps**0.5, capsize=3.0)\n",
    "    if baseline:\n",
    "        for i in range(len(baseline)):\n",
    "            plt.axhline(y=baseline[i], color=colors[i], linestyle='-', label=names[i])\n",
    "    plt.ylabel(metric)\n",
    "    plt.legend()\n",
    "    plt.xticks(ind, summ.index)"
   ]
  },
  {
   "cell_type": "markdown",
   "metadata": {},
   "source": [
    "### Data Overview"
   ]
  },
  {
   "cell_type": "code",
   "execution_count": 6,
   "metadata": {},
   "outputs": [
    {
     "data": {
      "text/html": [
       "<div>\n",
       "<style scoped>\n",
       "    .dataframe tbody tr th:only-of-type {\n",
       "        vertical-align: middle;\n",
       "    }\n",
       "\n",
       "    .dataframe tbody tr th {\n",
       "        vertical-align: top;\n",
       "    }\n",
       "\n",
       "    .dataframe thead th {\n",
       "        text-align: right;\n",
       "    }\n",
       "</style>\n",
       "<table border=\"1\" class=\"dataframe\">\n",
       "  <thead>\n",
       "    <tr style=\"text-align: right;\">\n",
       "      <th></th>\n",
       "      <th>mean_train_accuracy</th>\n",
       "      <th>std_train_accuracy</th>\n",
       "      <th>mean_test_accuracy</th>\n",
       "      <th>std_test_accuracy</th>\n",
       "      <th>mean_train_log loss</th>\n",
       "      <th>std_train_log loss</th>\n",
       "      <th>mean_test_log loss</th>\n",
       "      <th>std_test_log loss</th>\n",
       "      <th>mean_train_error</th>\n",
       "      <th>std_train_error</th>\n",
       "      <th>mean_test_error</th>\n",
       "      <th>std_test_error</th>\n",
       "    </tr>\n",
       "  </thead>\n",
       "  <tbody>\n",
       "    <tr>\n",
       "      <th>LR</th>\n",
       "      <td>0.383107</td>\n",
       "      <td>0.022709</td>\n",
       "      <td>0.400911</td>\n",
       "      <td>0.400362</td>\n",
       "      <td>2.907224</td>\n",
       "      <td>0.018351</td>\n",
       "      <td>3.477735</td>\n",
       "      <td>2.683668</td>\n",
       "      <td>0.616893</td>\n",
       "      <td>0.022709</td>\n",
       "      <td>0.599089</td>\n",
       "      <td>0.400362</td>\n",
       "    </tr>\n",
       "    <tr>\n",
       "      <th>GAM</th>\n",
       "      <td>0.409767</td>\n",
       "      <td>0.001607</td>\n",
       "      <td>0.452309</td>\n",
       "      <td>0.001641</td>\n",
       "      <td>2.051423</td>\n",
       "      <td>0.004233</td>\n",
       "      <td>2.140645</td>\n",
       "      <td>0.004091</td>\n",
       "      <td>0.590233</td>\n",
       "      <td>0.001607</td>\n",
       "      <td>0.547691</td>\n",
       "      <td>0.001641</td>\n",
       "    </tr>\n",
       "    <tr>\n",
       "      <th>RuleFit</th>\n",
       "      <td>0.957413</td>\n",
       "      <td>0.006143</td>\n",
       "      <td>0.560884</td>\n",
       "      <td>0.413363</td>\n",
       "      <td>0.371222</td>\n",
       "      <td>0.011933</td>\n",
       "      <td>2.925191</td>\n",
       "      <td>2.931685</td>\n",
       "      <td>0.042587</td>\n",
       "      <td>0.006143</td>\n",
       "      <td>0.439116</td>\n",
       "      <td>0.413363</td>\n",
       "    </tr>\n",
       "    <tr>\n",
       "      <th>RF</th>\n",
       "      <td>0.999476</td>\n",
       "      <td>0.000929</td>\n",
       "      <td>0.665978</td>\n",
       "      <td>0.392974</td>\n",
       "      <td>0.241109</td>\n",
       "      <td>0.005626</td>\n",
       "      <td>2.591146</td>\n",
       "      <td>3.969736</td>\n",
       "      <td>0.000524</td>\n",
       "      <td>0.000929</td>\n",
       "      <td>0.334022</td>\n",
       "      <td>0.392974</td>\n",
       "    </tr>\n",
       "  </tbody>\n",
       "</table>\n",
       "</div>"
      ],
      "text/plain": [
       "         mean_train_accuracy  std_train_accuracy  mean_test_accuracy  \\\n",
       "LR                  0.383107            0.022709            0.400911   \n",
       "GAM                 0.409767            0.001607            0.452309   \n",
       "RuleFit             0.957413            0.006143            0.560884   \n",
       "RF                  0.999476            0.000929            0.665978   \n",
       "\n",
       "         std_test_accuracy  mean_train_log loss  std_train_log loss  \\\n",
       "LR                0.400362             2.907224            0.018351   \n",
       "GAM               0.001641             2.051423            0.004233   \n",
       "RuleFit           0.413363             0.371222            0.011933   \n",
       "RF                0.392974             0.241109            0.005626   \n",
       "\n",
       "         mean_test_log loss  std_test_log loss  mean_train_error  \\\n",
       "LR                 3.477735           2.683668          0.616893   \n",
       "GAM                2.140645           0.004091          0.590233   \n",
       "RuleFit            2.925191           2.931685          0.042587   \n",
       "RF                 2.591146           3.969736          0.000524   \n",
       "\n",
       "         std_train_error  mean_test_error  std_test_error  \n",
       "LR              0.022709         0.599089        0.400362  \n",
       "GAM             0.001607         0.547691        0.001641  \n",
       "RuleFit         0.006143         0.439116        0.413363  \n",
       "RF              0.000929         0.334022        0.392974  "
      ]
     },
     "execution_count": 6,
     "metadata": {},
     "output_type": "execute_result"
    }
   ],
   "source": [
    "df_extrafull = df_extrafull.reindex([\"LR\", \"Gam\", \"Rufit\", 'Rf'])\n",
    "df_extrafull.index = ['LR', 'GAM', 'RuleFit', 'RF']\n",
    "df_extrafull # full phase extrapolation"
   ]
  },
  {
   "cell_type": "code",
   "execution_count": 7,
   "metadata": {},
   "outputs": [
    {
     "data": {
      "text/html": [
       "<div>\n",
       "<style scoped>\n",
       "    .dataframe tbody tr th:only-of-type {\n",
       "        vertical-align: middle;\n",
       "    }\n",
       "\n",
       "    .dataframe tbody tr th {\n",
       "        vertical-align: top;\n",
       "    }\n",
       "\n",
       "    .dataframe thead th {\n",
       "        text-align: right;\n",
       "    }\n",
       "</style>\n",
       "<table border=\"1\" class=\"dataframe\">\n",
       "  <thead>\n",
       "    <tr style=\"text-align: right;\">\n",
       "      <th></th>\n",
       "      <th>mean_train_accuracy</th>\n",
       "      <th>std_train_accuracy</th>\n",
       "      <th>mean_test_accuracy</th>\n",
       "      <th>std_test_accuracy</th>\n",
       "      <th>mean_train_log loss</th>\n",
       "      <th>std_train_log loss</th>\n",
       "      <th>mean_test_log loss</th>\n",
       "      <th>std_test_log loss</th>\n",
       "      <th>mean_train_error</th>\n",
       "      <th>std_train_error</th>\n",
       "      <th>mean_test_error</th>\n",
       "      <th>std_test_error</th>\n",
       "    </tr>\n",
       "  </thead>\n",
       "  <tbody>\n",
       "    <tr>\n",
       "      <th>LR</th>\n",
       "      <td>0.713494</td>\n",
       "      <td>0.010429</td>\n",
       "      <td>0.764923</td>\n",
       "      <td>0.252724</td>\n",
       "      <td>0.503709</td>\n",
       "      <td>0.008109</td>\n",
       "      <td>0.541819</td>\n",
       "      <td>0.468606</td>\n",
       "      <td>0.286506</td>\n",
       "      <td>0.010429</td>\n",
       "      <td>0.235077</td>\n",
       "      <td>0.252724</td>\n",
       "    </tr>\n",
       "    <tr>\n",
       "      <th>GAM</th>\n",
       "      <td>0.720937</td>\n",
       "      <td>0.001402</td>\n",
       "      <td>0.738259</td>\n",
       "      <td>0.001511</td>\n",
       "      <td>0.512856</td>\n",
       "      <td>0.001160</td>\n",
       "      <td>0.535161</td>\n",
       "      <td>0.001474</td>\n",
       "      <td>0.279063</td>\n",
       "      <td>0.001402</td>\n",
       "      <td>0.261741</td>\n",
       "      <td>0.001511</td>\n",
       "    </tr>\n",
       "    <tr>\n",
       "      <th>RuleFit</th>\n",
       "      <td>0.989547</td>\n",
       "      <td>0.002971</td>\n",
       "      <td>0.800351</td>\n",
       "      <td>0.206882</td>\n",
       "      <td>0.058578</td>\n",
       "      <td>0.003765</td>\n",
       "      <td>0.612193</td>\n",
       "      <td>0.664327</td>\n",
       "      <td>0.010453</td>\n",
       "      <td>0.002971</td>\n",
       "      <td>0.199649</td>\n",
       "      <td>0.206882</td>\n",
       "    </tr>\n",
       "    <tr>\n",
       "      <th>RF</th>\n",
       "      <td>1.000000</td>\n",
       "      <td>0.000000</td>\n",
       "      <td>0.819865</td>\n",
       "      <td>0.212184</td>\n",
       "      <td>0.044277</td>\n",
       "      <td>0.001863</td>\n",
       "      <td>0.608658</td>\n",
       "      <td>1.445836</td>\n",
       "      <td>0.000000</td>\n",
       "      <td>0.000000</td>\n",
       "      <td>0.180135</td>\n",
       "      <td>0.212184</td>\n",
       "    </tr>\n",
       "  </tbody>\n",
       "</table>\n",
       "</div>"
      ],
      "text/plain": [
       "         mean_train_accuracy  std_train_accuracy  mean_test_accuracy  \\\n",
       "LR                  0.713494            0.010429            0.764923   \n",
       "GAM                 0.720937            0.001402            0.738259   \n",
       "RuleFit             0.989547            0.002971            0.800351   \n",
       "RF                  1.000000            0.000000            0.819865   \n",
       "\n",
       "         std_test_accuracy  mean_train_log loss  std_train_log loss  \\\n",
       "LR                0.252724             0.503709            0.008109   \n",
       "GAM               0.001511             0.512856            0.001160   \n",
       "RuleFit           0.206882             0.058578            0.003765   \n",
       "RF                0.212184             0.044277            0.001863   \n",
       "\n",
       "         mean_test_log loss  std_test_log loss  mean_train_error  \\\n",
       "LR                 0.541819           0.468606          0.286506   \n",
       "GAM                0.535161           0.001474          0.279063   \n",
       "RuleFit            0.612193           0.664327          0.010453   \n",
       "RF                 0.608658           1.445836          0.000000   \n",
       "\n",
       "         std_train_error  mean_test_error  std_test_error  \n",
       "LR              0.010429         0.235077        0.252724  \n",
       "GAM             0.001402         0.261741        0.001511  \n",
       "RuleFit         0.002971         0.199649        0.206882  \n",
       "RF              0.000000         0.180135        0.212184  "
      ]
     },
     "execution_count": 7,
     "metadata": {},
     "output_type": "execute_result"
    }
   ],
   "source": [
    "df_extra_average = df_extra_average.reindex([\"LR\", \"Gam\", \"Rufit\", 'Rf'])\n",
    "df_extra_average.index = ['LR', 'GAM', 'RuleFit', 'RF']\n",
    "df_extra_average # average phases extrapolation"
   ]
  },
  {
   "cell_type": "code",
   "execution_count": 8,
   "metadata": {},
   "outputs": [
    {
     "data": {
      "text/html": [
       "<div>\n",
       "<style scoped>\n",
       "    .dataframe tbody tr th:only-of-type {\n",
       "        vertical-align: middle;\n",
       "    }\n",
       "\n",
       "    .dataframe tbody tr th {\n",
       "        vertical-align: top;\n",
       "    }\n",
       "\n",
       "    .dataframe thead th {\n",
       "        text-align: right;\n",
       "    }\n",
       "</style>\n",
       "<table border=\"1\" class=\"dataframe\">\n",
       "  <thead>\n",
       "    <tr style=\"text-align: right;\">\n",
       "      <th></th>\n",
       "      <th>mean_train_accuracy</th>\n",
       "      <th>std_train_accuracy</th>\n",
       "      <th>mean_test_accuracy</th>\n",
       "      <th>std_test_accuracy</th>\n",
       "      <th>mean_train_log loss</th>\n",
       "      <th>std_train_log loss</th>\n",
       "      <th>mean_test_log loss</th>\n",
       "      <th>std_test_log loss</th>\n",
       "      <th>mean_train_error</th>\n",
       "      <th>std_train_error</th>\n",
       "      <th>mean_test_error</th>\n",
       "      <th>std_test_error</th>\n",
       "    </tr>\n",
       "  </thead>\n",
       "  <tbody>\n",
       "    <tr>\n",
       "      <th>LR</th>\n",
       "      <td>0.382689</td>\n",
       "      <td>0.011744</td>\n",
       "      <td>0.378509</td>\n",
       "      <td>0.149020</td>\n",
       "      <td>2.908712</td>\n",
       "      <td>0.011742</td>\n",
       "      <td>2.929920</td>\n",
       "      <td>0.345263</td>\n",
       "      <td>0.617311</td>\n",
       "      <td>0.011744</td>\n",
       "      <td>0.621491</td>\n",
       "      <td>0.149020</td>\n",
       "    </tr>\n",
       "    <tr>\n",
       "      <th>GAM</th>\n",
       "      <td>0.642335</td>\n",
       "      <td>0.479694</td>\n",
       "      <td>0.581140</td>\n",
       "      <td>0.494128</td>\n",
       "      <td>1.049974</td>\n",
       "      <td>1.196417</td>\n",
       "      <td>1.699951</td>\n",
       "      <td>2.909032</td>\n",
       "      <td>0.357665</td>\n",
       "      <td>0.479694</td>\n",
       "      <td>0.418860</td>\n",
       "      <td>0.494128</td>\n",
       "    </tr>\n",
       "    <tr>\n",
       "      <th>RuleFit</th>\n",
       "      <td>0.956312</td>\n",
       "      <td>0.007063</td>\n",
       "      <td>0.800614</td>\n",
       "      <td>0.084637</td>\n",
       "      <td>0.376371</td>\n",
       "      <td>0.012553</td>\n",
       "      <td>1.011095</td>\n",
       "      <td>0.438260</td>\n",
       "      <td>0.043688</td>\n",
       "      <td>0.007063</td>\n",
       "      <td>0.199386</td>\n",
       "      <td>0.084637</td>\n",
       "    </tr>\n",
       "    <tr>\n",
       "      <th>RF</th>\n",
       "      <td>0.999185</td>\n",
       "      <td>0.001356</td>\n",
       "      <td>0.809035</td>\n",
       "      <td>0.057175</td>\n",
       "      <td>0.246824</td>\n",
       "      <td>0.004042</td>\n",
       "      <td>1.005908</td>\n",
       "      <td>0.519007</td>\n",
       "      <td>0.000815</td>\n",
       "      <td>0.001356</td>\n",
       "      <td>0.190965</td>\n",
       "      <td>0.057175</td>\n",
       "    </tr>\n",
       "  </tbody>\n",
       "</table>\n",
       "</div>"
      ],
      "text/plain": [
       "         mean_train_accuracy  std_train_accuracy  mean_test_accuracy  \\\n",
       "LR                  0.382689            0.011744            0.378509   \n",
       "GAM                 0.642335            0.479694            0.581140   \n",
       "RuleFit             0.956312            0.007063            0.800614   \n",
       "RF                  0.999185            0.001356            0.809035   \n",
       "\n",
       "         std_test_accuracy  mean_train_log loss  std_train_log loss  \\\n",
       "LR                0.149020             2.908712            0.011742   \n",
       "GAM               0.494128             1.049974            1.196417   \n",
       "RuleFit           0.084637             0.376371            0.012553   \n",
       "RF                0.057175             0.246824            0.004042   \n",
       "\n",
       "         mean_test_log loss  std_test_log loss  mean_train_error  \\\n",
       "LR                 2.929920           0.345263          0.617311   \n",
       "GAM                1.699951           2.909032          0.357665   \n",
       "RuleFit            1.011095           0.438260          0.043688   \n",
       "RF                 1.005908           0.519007          0.000815   \n",
       "\n",
       "         std_train_error  mean_test_error  std_test_error  \n",
       "LR              0.011744         0.621491        0.149020  \n",
       "GAM             0.479694         0.418860        0.494128  \n",
       "RuleFit         0.007063         0.199386        0.084637  \n",
       "RF              0.001356         0.190965        0.057175  "
      ]
     },
     "execution_count": 8,
     "metadata": {},
     "output_type": "execute_result"
    }
   ],
   "source": [
    "df_interfull = df_interfull.reindex([\"LR\", \"Gam\", \"Rufit\", 'Rf'])\n",
    "df_interfull.index = ['LR', 'GAM', 'RuleFit', 'RF']\n",
    "df_interfull # full phase interpolation"
   ]
  },
  {
   "cell_type": "code",
   "execution_count": 9,
   "metadata": {},
   "outputs": [
    {
     "data": {
      "text/html": [
       "<div>\n",
       "<style scoped>\n",
       "    .dataframe tbody tr th:only-of-type {\n",
       "        vertical-align: middle;\n",
       "    }\n",
       "\n",
       "    .dataframe tbody tr th {\n",
       "        vertical-align: top;\n",
       "    }\n",
       "\n",
       "    .dataframe thead th {\n",
       "        text-align: right;\n",
       "    }\n",
       "</style>\n",
       "<table border=\"1\" class=\"dataframe\">\n",
       "  <thead>\n",
       "    <tr style=\"text-align: right;\">\n",
       "      <th></th>\n",
       "      <th>mean_train_accuracy</th>\n",
       "      <th>std_train_accuracy</th>\n",
       "      <th>mean_test_accuracy</th>\n",
       "      <th>std_test_accuracy</th>\n",
       "      <th>mean_train_log loss</th>\n",
       "      <th>std_train_log loss</th>\n",
       "      <th>mean_test_log loss</th>\n",
       "      <th>std_test_log loss</th>\n",
       "      <th>mean_train_error</th>\n",
       "      <th>std_train_error</th>\n",
       "      <th>mean_test_error</th>\n",
       "      <th>std_test_error</th>\n",
       "    </tr>\n",
       "  </thead>\n",
       "  <tbody>\n",
       "    <tr>\n",
       "      <th>LR</th>\n",
       "      <td>0.713376</td>\n",
       "      <td>0.004852</td>\n",
       "      <td>0.712434</td>\n",
       "      <td>0.095129</td>\n",
       "      <td>0.504037</td>\n",
       "      <td>0.003005</td>\n",
       "      <td>0.507281</td>\n",
       "      <td>0.086280</td>\n",
       "      <td>0.286624</td>\n",
       "      <td>0.004852</td>\n",
       "      <td>0.287566</td>\n",
       "      <td>0.095129</td>\n",
       "    </tr>\n",
       "    <tr>\n",
       "      <th>GAM</th>\n",
       "      <td>0.887055</td>\n",
       "      <td>0.292179</td>\n",
       "      <td>0.865132</td>\n",
       "      <td>0.301677</td>\n",
       "      <td>0.262494</td>\n",
       "      <td>0.508492</td>\n",
       "      <td>0.424988</td>\n",
       "      <td>0.949807</td>\n",
       "      <td>0.112945</td>\n",
       "      <td>0.292179</td>\n",
       "      <td>0.134868</td>\n",
       "      <td>0.301677</td>\n",
       "    </tr>\n",
       "    <tr>\n",
       "      <th>RuleFit</th>\n",
       "      <td>0.989370</td>\n",
       "      <td>0.002744</td>\n",
       "      <td>0.930241</td>\n",
       "      <td>0.048868</td>\n",
       "      <td>0.059503</td>\n",
       "      <td>0.003065</td>\n",
       "      <td>0.187712</td>\n",
       "      <td>0.122474</td>\n",
       "      <td>0.010630</td>\n",
       "      <td>0.002744</td>\n",
       "      <td>0.069759</td>\n",
       "      <td>0.048868</td>\n",
       "    </tr>\n",
       "    <tr>\n",
       "      <th>RF</th>\n",
       "      <td>1.000000</td>\n",
       "      <td>0.000000</td>\n",
       "      <td>0.933728</td>\n",
       "      <td>0.052051</td>\n",
       "      <td>0.044982</td>\n",
       "      <td>0.001479</td>\n",
       "      <td>0.198928</td>\n",
       "      <td>0.221424</td>\n",
       "      <td>0.000000</td>\n",
       "      <td>0.000000</td>\n",
       "      <td>0.066272</td>\n",
       "      <td>0.052051</td>\n",
       "    </tr>\n",
       "  </tbody>\n",
       "</table>\n",
       "</div>"
      ],
      "text/plain": [
       "         mean_train_accuracy  std_train_accuracy  mean_test_accuracy  \\\n",
       "LR                  0.713376            0.004852            0.712434   \n",
       "GAM                 0.887055            0.292179            0.865132   \n",
       "RuleFit             0.989370            0.002744            0.930241   \n",
       "RF                  1.000000            0.000000            0.933728   \n",
       "\n",
       "         std_test_accuracy  mean_train_log loss  std_train_log loss  \\\n",
       "LR                0.095129             0.504037            0.003005   \n",
       "GAM               0.301677             0.262494            0.508492   \n",
       "RuleFit           0.048868             0.059503            0.003065   \n",
       "RF                0.052051             0.044982            0.001479   \n",
       "\n",
       "         mean_test_log loss  std_test_log loss  mean_train_error  \\\n",
       "LR                 0.507281           0.086280          0.286624   \n",
       "GAM                0.424988           0.949807          0.112945   \n",
       "RuleFit            0.187712           0.122474          0.010630   \n",
       "RF                 0.198928           0.221424          0.000000   \n",
       "\n",
       "         std_train_error  mean_test_error  std_test_error  \n",
       "LR              0.004852         0.287566        0.095129  \n",
       "GAM             0.292179         0.134868        0.301677  \n",
       "RuleFit         0.002744         0.069759        0.048868  \n",
       "RF              0.000000         0.066272        0.052051  "
      ]
     },
     "execution_count": 9,
     "metadata": {},
     "output_type": "execute_result"
    }
   ],
   "source": [
    "df_inter_average = df_inter_average.reindex([\"LR\", \"Gam\", \"Rufit\", 'Rf'])\n",
    "df_inter_average.index = ['LR', 'GAM', 'RuleFit', 'RF']\n",
    "df_inter_average # average phase interpolation"
   ]
  },
  {
   "cell_type": "markdown",
   "metadata": {},
   "source": [
    "### Calculate the base line\n",
    "__Notice__:\n",
    "We think only for the uninformed baseline, interpolation and extrapolation are the same.\n",
    "\n",
    "1. Informed baseline: \n",
    "    * based on the most frequent observations\n",
    "2. Uninformed baseline: \n",
    "    * uninform guessing"
   ]
  },
  {
   "cell_type": "markdown",
   "metadata": {},
   "source": [
    "__Interpolation Error baseline__\n",
    "1. Informed full sphase:\n",
    "    $$ E_{error} = \\sum_{i=1}^{n} p(y \\neq y_i)\n",
    "    $$\n",
    "where $y$ is the most frequency full sphase in all data, $n$ is the sample size\n",
    "2. Informed average sphase:\n",
    "$$ E_{error} = \\sum_{i=1}^{n} \\sum_{j \\in \\{s,w,v,o\\}} p(y_j \\neq y_{ji})\n",
    "    $$\n",
    "where $y_j$ is the most frequency $j$ sphase in all data, $n$ is the sample size"
   ]
  },
  {
   "cell_type": "code",
   "execution_count": 10,
   "metadata": {},
   "outputs": [
    {
     "name": "stdout",
     "output_type": "stream",
     "text": [
      "Interpolation full sphase error base line:\n",
      "Inform error:0.5912162162162162 \n",
      "Uninform error:0.9375\n"
     ]
    }
   ],
   "source": [
    "# interpolation full sphase\n",
    "uniq, cnts = np.unique(data.y.values, return_counts=True, axis=0)\n",
    "inter_full_info_error = 1 - max(cnts)/sum(cnts)\n",
    "inter_full_uinfo_error = 1 - (1/2)**4\n",
    "print('Interpolation full sphase error base line:\\nInform error:{} \\nUninform error:{}'.format(inter_full_info_error, inter_full_uinfo_error))\n"
   ]
  },
  {
   "cell_type": "code",
   "execution_count": 11,
   "metadata": {},
   "outputs": [
    {
     "data": {
      "text/plain": [
       "0.40878378378378377"
      ]
     },
     "execution_count": 11,
     "metadata": {},
     "output_type": "execute_result"
    }
   ],
   "source": [
    "p_inter_full = max(cnts)/sum(cnts)\n",
    "p_inter_full"
   ]
  },
  {
   "cell_type": "code",
   "execution_count": 12,
   "metadata": {},
   "outputs": [
    {
     "data": {
      "text/plain": [
       "array([1, 0, 0, 0])"
      ]
     },
     "execution_count": 12,
     "metadata": {},
     "output_type": "execute_result"
    }
   ],
   "source": [
    "inter_full_most = uniq[(list(cnts).index(max(cnts)))] # most frequency\n",
    "inter_full_most"
   ]
  },
  {
   "cell_type": "code",
   "execution_count": 13,
   "metadata": {},
   "outputs": [
    {
     "name": "stdout",
     "output_type": "stream",
     "text": [
      "Interpolation average sphases error base line:\n",
      "Inform error:0.7204391891891893 \n",
      "Uninform error:0.5\n"
     ]
    }
   ],
   "source": [
    "# interpolation average\n",
    "inter_avg_info_error = []\n",
    "for each in [data.sphere, data.vesicle, data.worm, data.other]:\n",
    "    uniq, cnt = np.unique(each, return_counts=True)\n",
    "    prob = 1-max(cnt)/sum(cnt)\n",
    "    inter_avg_info_error.append((1-prob))\n",
    "\n",
    "inter_avg_uninfo_error = [0.5, 0.5, 0.5, 0.5]\n",
    "\n",
    "inter_avg_info_error = np.mean(inter_avg_info_error)\n",
    "inter_avg_uninfo_error = np.mean([0.5, 0.5, 0.5, 0.5])\n",
    "print('Interpolation average sphases error base line:\\nInform error:{} \\nUninform error:{}'.format(inter_avg_info_error, inter_avg_uninfo_error))\n"
   ]
  },
  {
   "cell_type": "markdown",
   "metadata": {},
   "source": [
    "__Extrapolation Error baseline__\n",
    "1. Full sphase Informed: \n",
    "    \n",
    "    $$ E_{error} = \\sum_{k=1}^k \\sum_{i=1}^{n_k} p(K=k)p(y_k \\neq y_i|K=k)\n",
    "    $$\n",
    "    where $k$ is class number, $y_k$ is the most frequency full sphase in $K=k$ class, $n_k$ is sample size in $K=k$ class\n",
    "2. Average sphase Informed: \n",
    "    $$ E_{error} = \\sum_{k=1}^k \\sum_{i=1}^{n_k}\\sum_{j \\in \\{s,w,v,o\\}} p(K=k)p(y_{jk} \\neq y_{ji}|K=k)\n",
    "    $$\n",
    "    where $k$ is class number, $y_{jk}$ is the most frequency $j$ sphase in $K=k$ class., $n_k$ is sample size in $K=k$ class, $\\{s,w,v,o\\}$ refers to sphere, worm, vesicle, other\n",
    "    \n",
    "3. Uninformed:\n",
    "    * Same with interpolation, random guessing"
   ]
  },
  {
   "cell_type": "code",
   "execution_count": 14,
   "metadata": {},
   "outputs": [
    {
     "data": {
      "text/html": [
       "<div>\n",
       "<style scoped>\n",
       "    .dataframe tbody tr th:only-of-type {\n",
       "        vertical-align: middle;\n",
       "    }\n",
       "\n",
       "    .dataframe tbody tr th {\n",
       "        vertical-align: top;\n",
       "    }\n",
       "\n",
       "    .dataframe thead th {\n",
       "        text-align: right;\n",
       "    }\n",
       "</style>\n",
       "<table border=\"1\" class=\"dataframe\">\n",
       "  <thead>\n",
       "    <tr style=\"text-align: right;\">\n",
       "      <th></th>\n",
       "      <th>num</th>\n",
       "      <th>train</th>\n",
       "      <th>test</th>\n",
       "    </tr>\n",
       "  </thead>\n",
       "  <tbody>\n",
       "    <tr>\n",
       "      <th>0</th>\n",
       "      <td>1</td>\n",
       "      <td>0, 1, 2, 3, 4, 5, 6, 7, 8, 9, 10, 11, 12, 13, ...</td>\n",
       "      <td>66, 67, 68, 69, 70, 71, 279, 280, 289, 290, 29...</td>\n",
       "    </tr>\n",
       "    <tr>\n",
       "      <th>1</th>\n",
       "      <td>2</td>\n",
       "      <td>0, 1, 2, 3, 4, 5, 6, 7, 8, 9, 10, 11, 12, 13, ...</td>\n",
       "      <td>111, 112, 113, 114, 115, 116, 117, 118, 119, 1...</td>\n",
       "    </tr>\n",
       "    <tr>\n",
       "      <th>2</th>\n",
       "      <td>3</td>\n",
       "      <td>0, 1, 2, 3, 4, 5, 6, 7, 8, 9, 10, 11, 12, 13, ...</td>\n",
       "      <td>232, 233, 234, 235, 236, 237, 238, 239, 240, 2...</td>\n",
       "    </tr>\n",
       "    <tr>\n",
       "      <th>3</th>\n",
       "      <td>4</td>\n",
       "      <td>0, 1, 2, 3, 4, 5, 6, 7, 8, 9, 10, 11, 12, 13, ...</td>\n",
       "      <td>168, 169, 170, 171, 172, 173, 174, 175, 176, 1...</td>\n",
       "    </tr>\n",
       "    <tr>\n",
       "      <th>4</th>\n",
       "      <td>5</td>\n",
       "      <td>0, 1, 2, 3, 4, 5, 6, 7, 8, 9, 10, 11, 12, 13, ...</td>\n",
       "      <td>180, 181, 182, 183, 184, 185, 345, 346, 347, 3...</td>\n",
       "    </tr>\n",
       "  </tbody>\n",
       "</table>\n",
       "</div>"
      ],
      "text/plain": [
       "   num                                              train  \\\n",
       "0    1  0, 1, 2, 3, 4, 5, 6, 7, 8, 9, 10, 11, 12, 13, ...   \n",
       "1    2  0, 1, 2, 3, 4, 5, 6, 7, 8, 9, 10, 11, 12, 13, ...   \n",
       "2    3  0, 1, 2, 3, 4, 5, 6, 7, 8, 9, 10, 11, 12, 13, ...   \n",
       "3    4  0, 1, 2, 3, 4, 5, 6, 7, 8, 9, 10, 11, 12, 13, ...   \n",
       "4    5  0, 1, 2, 3, 4, 5, 6, 7, 8, 9, 10, 11, 12, 13, ...   \n",
       "\n",
       "                                                test  \n",
       "0  66, 67, 68, 69, 70, 71, 279, 280, 289, 290, 29...  \n",
       "1  111, 112, 113, 114, 115, 116, 117, 118, 119, 1...  \n",
       "2  232, 233, 234, 235, 236, 237, 238, 239, 240, 2...  \n",
       "3  168, 169, 170, 171, 172, 173, 174, 175, 176, 1...  \n",
       "4  180, 181, 182, 183, 184, 185, 345, 346, 347, 3...  "
      ]
     },
     "execution_count": 14,
     "metadata": {},
     "output_type": "execute_result"
    }
   ],
   "source": [
    "df_extra = pd.read_csv('Extrapolation_index.csv')\n",
    "df_extra.head()"
   ]
  },
  {
   "cell_type": "code",
   "execution_count": 15,
   "metadata": {},
   "outputs": [],
   "source": [
    "num_dict = {}\n",
    "for i in range(df_extra.shape[0]):\n",
    "    num_dict[i] = [int(each) for each in df_extra.test.values[i].split(',')]\n",
    "    \n",
    "data_dict = dict(zip(num_dict.keys(), [[] for each in num_dict.keys()]))\n",
    "for key in data_dict:\n",
    "    for i in range(len(num_dict[key])):\n",
    "        data_dict[key].append(list(data.y.iloc[i].values))\n",
    "    data_dict[key] = np.array(data_dict[key])"
   ]
  },
  {
   "cell_type": "code",
   "execution_count": 16,
   "metadata": {},
   "outputs": [],
   "source": [
    "# extrapolation all test cases\n",
    "# num_dict = {}\n",
    "# for i in range(df_extra.shape[0]):\n",
    "#     num_dict[i] = [int(each) for each in df_extra.test.values[i].split(',')]\n",
    "# sphere_extra = []\n",
    "# worm_extra = []\n",
    "# vesicle_extra = []\n",
    "# other_extra = []\n",
    "# for each in all_data:\n",
    "#     sphere_extra.append(each[0])\n",
    "#     worm_extra.append(each[1])\n",
    "#     vesicle_extra.append(each[2])\n",
    "#     other_extra.append(each[3])"
   ]
  },
  {
   "cell_type": "code",
   "execution_count": 17,
   "metadata": {},
   "outputs": [
    {
     "name": "stdout",
     "output_type": "stream",
     "text": [
      "Extrapolation full sphase error base line:\n",
      "Inform error:0.643581081081081 \n",
      "Uninform error:0.5\n"
     ]
    }
   ],
   "source": [
    "# extrapolation full sphase\n",
    "extra_full_info_error = []\n",
    "weight = []\n",
    "for key in data_dict:\n",
    "    uniq, cnts = np.unique(data_dict[key], return_counts=True, axis=0)\n",
    "    error = (1 - max(cnts)/sum(cnts))\n",
    "    weight.append(sum(cnts))\n",
    "    extra_full_info_error.append(error)\n",
    "    \n",
    "extra_full_info_error = sum(np.array(extra_full_info_error) * np.array(weight)/sum(weight))\n",
    "\n",
    "extra_full_uinfo_error = [0.5, 0.5, 0.5, 0.5]\n",
    "extra_full_uinfo_error = np.mean(extra_full_uinfo_error)\n",
    "extra_full_uinfo_error = np.mean([0.5, 0.5, 0.5, 0.5])\n",
    "print('Extrapolation full sphase error base line:\\nInform error:{} \\nUninform error:{}'.format(extra_full_info_error, extra_full_uinfo_error))\n"
   ]
  },
  {
   "cell_type": "code",
   "execution_count": 18,
   "metadata": {},
   "outputs": [
    {
     "name": "stdout",
     "output_type": "stream",
     "text": [
      "Extrapolation average sphases error base line:\n",
      "Inform error:0.27069256756756743 \n",
      "Uninform error:0.5\n"
     ]
    }
   ],
   "source": [
    "# extrapolation average sphase\n",
    "extra_avg_info_error = []\n",
    "\n",
    "for key in data_dict:\n",
    "    sphere_extra = []\n",
    "    worm_extra = []\n",
    "    vesicle_extra = []\n",
    "    other_extra = []\n",
    "    for each in data_dict[key]:\n",
    "        sphere_extra.append(each[0])\n",
    "        worm_extra.append(each[1])\n",
    "        vesicle_extra.append(each[2])\n",
    "        other_extra.append(each[3])\n",
    "    temp = []\n",
    "    for each in [sphere_extra, worm_extra, vesicle_extra, other_extra]:\n",
    "        uniq, cnt = np.unique(each, return_counts=True)\n",
    "        acc = max(cnt)/sum(cnt)\n",
    "        temp.append((1-acc))\n",
    "    extra_avg_info_error.append(np.mean(temp))\n",
    "\n",
    "extra_avg_info_error = sum(np.array(extra_avg_info_error) * np.array(weight)/sum(weight))\n",
    "extra_avg_uninfo_error = [0.5, 0.5, 0.5, 0.5]\n",
    "\n",
    "extra_avg_info_error = np.mean(extra_avg_info_error)\n",
    "extra_avg_uninfo_error = np.mean([0.5, 0.5, 0.5, 0.5])\n",
    "\n",
    "print('Extrapolation average sphases error base line:\\nInform error:{} \\nUninform error:{}'.format(extra_avg_info_error, extra_avg_uninfo_error))\n"
   ]
  },
  {
   "cell_type": "markdown",
   "metadata": {},
   "source": [
    "### Negative loglikelihood baseline\n"
   ]
  },
  {
   "cell_type": "markdown",
   "metadata": {},
   "source": [
    "__Interpolation negative loglikelihood baseline__\n",
    "\n",
    "1. Full interpolation informed:\n",
    "    $$L_{loss} =\\frac{1}{n} \\sum_i^n y_i\\log(p) + (1-y_i)\\log(1-p)\\\\\n",
    "    =\\frac{1}{4n}\\sum_i^n \\sum_{j=\\{s, w, v, o\\}} y_{ji}\\log(p) + (1-y_{ji})\\log(1-p)$$, where $p$ is the probability to select the specific full sphere.\n",
    "    \n",
    "2. Average interpolation informed:\n",
    "    $$L_{loss} = \\frac{1}{4}\\sum_{j=\\{s, w, v, o\\}} \\sum_i^n y_{ji}\\log(p_{ji}) + (1-y_{ji})\\log(1-p_{ji})$$, where $j$ is sphase, $p_{ji}$"
   ]
  },
  {
   "cell_type": "code",
   "execution_count": 19,
   "metadata": {},
   "outputs": [],
   "source": [
    "def neglikehood(p, y):\n",
    "    result = (-math.log(p)*y - (1-y)*math.log(1-p))\n",
    "    return (result)"
   ]
  },
  {
   "cell_type": "code",
   "execution_count": 20,
   "metadata": {},
   "outputs": [
    {
     "data": {
      "text/plain": [
       "0.40878378378378377"
      ]
     },
     "execution_count": 20,
     "metadata": {},
     "output_type": "execute_result"
    }
   ],
   "source": [
    "p_inter_full"
   ]
  },
  {
   "cell_type": "code",
   "execution_count": 21,
   "metadata": {},
   "outputs": [
    {
     "data": {
      "text/plain": [
       "array([1, 0, 0, 0])"
      ]
     },
     "execution_count": 21,
     "metadata": {},
     "output_type": "execute_result"
    }
   ],
   "source": [
    "inter_full_most"
   ]
  },
  {
   "cell_type": "code",
   "execution_count": 22,
   "metadata": {},
   "outputs": [],
   "source": [
    "inter_full_info_loss = []\n",
    "for indx in range(len(data.y.values)):\n",
    "    for sphere_indx in range(len(data.y.values[indx])):\n",
    "        temp = p_inter_full\n",
    "        if inter_full_most[sphere_indx] == 0:\n",
    "            temp =  1-p_inter_full\n",
    "        inter_full_info_loss.append(neglikehood(temp, data.y.values[indx][sphere_indx]))\n",
    "inter_full_info_loss = np.mean(inter_full_info_loss)"
   ]
  },
  {
   "cell_type": "code",
   "execution_count": 23,
   "metadata": {},
   "outputs": [
    {
     "name": "stdout",
     "output_type": "stream",
     "text": [
      "Interpolation full sphase logloss base line:\n",
      "Inform error:0.7914122475988044 \n",
      "Uninform error:2.772588722239781\n"
     ]
    }
   ],
   "source": [
    "# interpolation full sphase informed\n",
    "\n",
    "inter_full_uninfo_loss = -math.log(0.5**4)\n",
    "print('Interpolation full sphase logloss base line:\\nInform error:{} \\nUninform error:{}'.format(inter_full_info_loss, inter_full_uninfo_loss))\n"
   ]
  },
  {
   "cell_type": "code",
   "execution_count": 24,
   "metadata": {},
   "outputs": [
    {
     "data": {
      "text/plain": [
       "1.5257297498358442"
      ]
     },
     "execution_count": 24,
     "metadata": {},
     "output_type": "execute_result"
    }
   ],
   "source": [
    "# interpolation average sphase informed\n",
    "inter_avg_info_loss = []\n",
    "\n",
    "for each in [data.sphere, data.vesicle, data.worm, data.other]:\n",
    "    uniq, cnt = np.unique(each, return_counts=True)\n",
    "    prob = max(cnt)/sum(cnt)\n",
    "    for indx in range(len(each)):\n",
    "        inter_avg_info_loss.append(neglikehood(prob, each[indx]))\n",
    "inter_avg_info_loss = np.mean(inter_avg_info_loss)\n",
    "inter_avg_info_loss"
   ]
  },
  {
   "cell_type": "code",
   "execution_count": 25,
   "metadata": {},
   "outputs": [
    {
     "name": "stdout",
     "output_type": "stream",
     "text": [
      "Interpolation average sphase logloss base line:\n",
      "Inform logloss:1.5257297498358442 \n",
      "Uninform logloss:0.6931471805599453\n"
     ]
    }
   ],
   "source": [
    "# interpolation average sphase informed\n",
    "inter_avg_uninfo_loss = -math.log(0.5)\n",
    "print('Interpolation average sphase logloss base line:\\nInform logloss:{} \\nUninform logloss:{}'.format(inter_avg_info_loss, inter_avg_uninfo_loss))\n"
   ]
  },
  {
   "cell_type": "markdown",
   "metadata": {},
   "source": [
    "__Extrapolation negative loglikelihood baseline__"
   ]
  },
  {
   "cell_type": "code",
   "execution_count": 26,
   "metadata": {},
   "outputs": [],
   "source": [
    "extra_full_info_loss = []\n",
    "weight = []\n",
    "for key in data_dict:\n",
    "    uniq, cnts = np.unique(data_dict[key], return_counts=True, axis=0)\n",
    "    p_extra_full = max(cnts)/sum(cnts)\n",
    "    extra_full = uniq[(list(cnts).index(max(cnts)))]\n",
    "    \n",
    "    for indx in range(len(data_dict[key])):\n",
    "        for sphere_indx in range(len(data_dict[key][indx])):\n",
    "            temp = p_extra_full\n",
    "            if extra_full[sphere_indx] == 0:\n",
    "                temp = 1 - p_extra_full\n",
    "            try:\n",
    "                neg = neglikehood(temp, data_dict[key][indx][sphere_indx])\n",
    "            except:\n",
    "                neg = 0\n",
    "            extra_full_info_loss.append(neg)\n",
    "extra_full_info_loss = np.mean(extra_full_info_loss)"
   ]
  },
  {
   "cell_type": "code",
   "execution_count": 27,
   "metadata": {},
   "outputs": [
    {
     "name": "stdout",
     "output_type": "stream",
     "text": [
      "Extrapolation full sphase error base line:\n",
      "Inform logloss:0.8835927291522646 \n",
      "Uninform logloss:2.772588722239781\n"
     ]
    }
   ],
   "source": [
    "extra_full_uinfo_logloss = -math.log(0.5**4)\n",
    "print('Extrapolation full sphase error base line:\\nInform logloss:{} \\nUninform logloss:{}'.format(extra_full_info_loss, extra_full_uinfo_logloss))\n"
   ]
  },
  {
   "cell_type": "code",
   "execution_count": 28,
   "metadata": {},
   "outputs": [
    {
     "name": "stdout",
     "output_type": "stream",
     "text": [
      "extrapolation average sphase logloss base line:\n",
      "Inform error:0.5181237254329272 \n",
      "Uninform error:1.0\n"
     ]
    }
   ],
   "source": [
    "# extrapolation average sphase informed\n",
    "extra_avg_info_loss = []\n",
    "for key in data_dict:\n",
    "    for indx in range(len(data_dict[key])):\n",
    "#         uniq, cnts = np.unique(data_dict[key], return_counts=True, axis=0)\n",
    "#         p_extra_full = max(cnts)/sum(cnts)\n",
    "#         extra_full = uniq[(list(cnts).index(max(cnts)))]\n",
    "    \n",
    "        sphere = [each[0] for each in data_dict[key]]\n",
    "        uniq, cnt = np.unique(sphere, return_counts=True)\n",
    "        p_sphere = max(cnt)/sum(cnt)\n",
    "        sphere_most = uniq[(list(cnt).index(max(cnt)))]\n",
    "        \n",
    "        worm = [each[1] for each in data_dict[key]]\n",
    "        uniq, cnt = np.unique(worm, return_counts=True)\n",
    "        p_worm = max(cnt)/sum(cnt)\n",
    "        worm_most = uniq[(list(cnt).index(max(cnt)))]\n",
    "        \n",
    "        vesicle = [each[2] for each in data_dict[key]]\n",
    "        uniq, cnt = np.unique(vesicle, return_counts=True)\n",
    "        p_vesicle = max(cnt)/sum(cnt)\n",
    "        vesicle_most = uniq[(list(cnt).index(max(cnt)))]\n",
    "        \n",
    "        other = [each[3] for each in data_dict[key]]\n",
    "        uniq, cnt = np.unique(other, return_counts=True)\n",
    "        p_other = max(cnt)/sum(cnt)\n",
    "        other_most = uniq[(list(cnt).index(max(cnt)))]\n",
    "        \n",
    "        temp_lst = [p_sphere, p_worm, p_vesicle, p_other]\n",
    "        data_most = [sphere_most, worm_most, vesicle_most, other_most]\n",
    "        \n",
    "        for sphere_indx in range(len(data_dict[key][indx])):\n",
    "            \n",
    "            temp = temp_lst[sphere_indx]\n",
    "            if data_most[sphere_indx] == 0:\n",
    "                temp = 1 - temp\n",
    "            try:\n",
    "                neg = neglikehood(temp, data_dict[key][indx][sphere_indx])\n",
    "            except:\n",
    "                neg = 0\n",
    "            extra_avg_info_loss.append(neg)\n",
    "extra_avg_info_loss = np.mean(extra_avg_info_loss)\n",
    "extra_avg_uninfo_loss = -math.log2(0.5)\n",
    "print('extrapolation average sphase logloss base line:\\nInform error:{} \\nUninform error:{}'.format(extra_avg_info_loss, extra_avg_uninfo_loss))\n"
   ]
  },
  {
   "cell_type": "markdown",
   "metadata": {},
   "source": [
    "### Plot"
   ]
  },
  {
   "cell_type": "code",
   "execution_count": 29,
   "metadata": {},
   "outputs": [],
   "source": [
    "def cm2inch(*tupl):\n",
    "    \"\"\"This function is for the actual size (cm) of plots\n",
    "    Input: \n",
    "        tuple: for example (12, 13) means 12cm, 13 cm\n",
    "    Output:\n",
    "        tuple: for python figsize\n",
    "    \"\"\"\n",
    "    inch = 2.54\n",
    "    if isinstance(tupl[0], tuple):\n",
    "        return tuple(i/inch for i in tupl[0])\n",
    "    else:\n",
    "        return tuple(i/inch for i in tupl)"
   ]
  },
  {
   "cell_type": "code",
   "execution_count": 30,
   "metadata": {
    "scrolled": false
   },
   "outputs": [
    {
     "data": {
      "image/png": "[encoded data removed]",
      "text/plain": [
       "<Figure size 2834.65x1700.79 with 4 Axes>"
      ]
     },
     "metadata": {
      "needs_background": "light"
     },
     "output_type": "display_data"
    }
   ],
   "source": [
    "colors = ['r', 'c', 'm', 'y']\n",
    "fig, ((ax2, ax1), (ax4, ax3)) = plt.subplots(2,2, sharey=False, sharex=True)\n",
    "fig.set_size_inches(cm2inch(100, 60))\n",
    "\n",
    "width = 0.25\n",
    "fontsize = 25\n",
    "ind = np.arange(len(df_extrafull))\n",
    "ax1.bar(ind-width, df_interfull[f'mean_train_error'], width=width, label='inter_train', \n",
    "        yerr=df_interfull[f'std_train_error']/30**0.5, capsize=3.0)\n",
    "ax1.bar(ind, df_interfull[f'mean_test_error'], width=width, label='inter_test',\n",
    "        yerr=df_interfull[f'std_test_error']/30**0.5, capsize=3.0)\n",
    "ax1.bar(ind+width, df_extrafull[f'mean_test_error'], width=width, label='extra_test',\n",
    "        yerr=df_extrafull[f'std_test_error']/30**0.5, capsize=3.0)\n",
    "\n",
    "# add base line\n",
    "inter_error_base = [inter_full_info_error, inter_full_uinfo_error, extra_full_info_error]\n",
    "inter_error_name = ['inter_info', 'uninfo', 'extra_info']\n",
    "for i in range(len(inter_error_base)):\n",
    "    ax1.axhline(y=inter_error_base[i], color=colors[i], linestyle='-', label=inter_error_name[i])\n",
    "\n",
    "ax1.set_title('Full phase error rate', fontsize=fontsize)\n",
    "ax1.set_xticks(ind)\n",
    "ax1.set_xticklabels(df_extrafull.index, fontsize=fontsize)\n",
    "ax1.set_ylabel('Error rate', fontsize=fontsize)\n",
    "\n",
    "\n",
    "ax2.bar(ind-width, df_inter_average[f'mean_train_error'], width=width, label='inter_train', \n",
    "        yerr=df_inter_average[f'std_train_error']/30**0.5, capsize=3.0)\n",
    "ax2.bar(ind, df_inter_average[f'mean_test_error'], width=width, label='inter_test',\n",
    "        yerr=df_inter_average[f'std_test_error']/30**0.5, capsize=3.0)\n",
    "ax2.bar(ind+width, df_extra_average[f'mean_test_error'], width=width, label='extra_test',\n",
    "        yerr=df_extra_average[f'std_test_error']/30**0.5, capsize=3.0)\n",
    "\n",
    "ax2.set_title('Individual phase average error rate', fontsize=fontsize)\n",
    "ax2.set_xticks(ind)\n",
    "ax2.set_ylabel('Error rate', fontsize=fontsize)\n",
    "ax2.set_xticklabels(df_extrafull.index, fontsize=fontsize)\n",
    "\n",
    "# add base line\n",
    "avg_error_base = [inter_avg_info_error, inter_avg_uninfo_error, extra_avg_info_error]\n",
    "avg_error_name = ['inter_info', 'uninfo', 'extra_info']\n",
    "for i in range(len(avg_error_base)):\n",
    "    ax2.axhline(y=avg_error_base[i], color=colors[i], linestyle='-', label=avg_error_name[i])\n",
    "\n",
    "ax2.legend(fontsize=fontsize)\n",
    "\n",
    "\n",
    "ax3.bar(ind-width, df_interfull[f'mean_train_log loss'], width=width, label='inter_train', \n",
    "        yerr=df_interfull[f'std_train_log loss']/30**0.5, capsize=3.0)\n",
    "ax3.bar(ind, df_interfull[f'mean_test_log loss'], width=width, label='inter_test',\n",
    "        yerr=df_interfull[f'std_test_log loss']/30**0.5, capsize=3.0)\n",
    "ax3.bar(ind+width, df_extrafull[f'mean_test_log loss'], width=width, label='extra_test',\n",
    "        yerr=df_extrafull[f'std_test_log loss']/30**0.5, capsize=3.0)\n",
    "\n",
    "full_loss_base = [inter_full_info_loss, inter_full_uninfo_loss, extra_full_info_loss]\n",
    "full_loss_name = ['inter_info', 'uninfo', 'extra_info']\n",
    "for i in range(len(full_loss_base)):\n",
    "    ax3.axhline(y=full_loss_base[i], color=colors[i], linestyle='-', label=full_loss_name[i])\n",
    "\n",
    "ax3.set_title('Full sphase logloss', fontsize=fontsize)\n",
    "ax3.set_xticks(ind)\n",
    "ax3.set_xticklabels(df_extrafull.index, fontsize=fontsize)\n",
    "ax3.set_ylabel('logloss', fontsize=fontsize)\n",
    "\n",
    "\n",
    "ax4.bar(ind-width, df_inter_average[f'mean_train_log loss'], width=width, label='inter_train', \n",
    "        yerr=df_inter_average[f'std_train_log loss']/30**0.5, capsize=3.0)\n",
    "ax4.bar(ind, df_inter_average[f'mean_test_log loss'], width=width, label='inter_test',\n",
    "        yerr=df_inter_average[f'std_test_log loss']/30**0.5, capsize=3.0)\n",
    "ax4.bar(ind+width, df_extra_average[f'mean_test_log loss'], width=width, label='extra_test',\n",
    "        yerr=df_extra_average[f'std_test_log loss']/30**0.5, capsize=3.0)\n",
    "\n",
    "avg_loss_base = [inter_avg_info_loss, inter_avg_uninfo_loss, extra_avg_info_loss]\n",
    "avg_loss_name = ['inter_info', 'uninfo', 'extra_info']\n",
    "for i in range(len(avg_loss_base)):\n",
    "    ax4.axhline(y=avg_loss_base[i], color=colors[i], linestyle='-', label=avg_loss_name[i])\n",
    "\n",
    "ax4.set_title('Individual sphase average logloss', fontsize=fontsize)\n",
    "ax4.set_xticks(ind)\n",
    "ax4.set_xticklabels(df_extrafull.index, fontsize=fontsize)\n",
    "ax4.set_ylabel('logloss', fontsize=fontsize)\n",
    "\n",
    "plt.show()"
   ]
  },
  {
   "cell_type": "markdown",
   "metadata": {},
   "source": []
  },
  {
   "cell_type": "code",
   "execution_count": null,
   "metadata": {},
   "outputs": [],
   "source": []
  }
 ],
 "metadata": {
  "kernelspec": {
   "display_name": "Python 3",
   "language": "python",
   "name": "python3"
  },
  "language_info": {
   "codemirror_mode": {
    "name": "ipython",
    "version": 3
   },
   "file_extension": ".py",
   "mimetype": "text/x-python",
   "name": "python",
   "nbconvert_exporter": "python",
   "pygments_lexer": "ipython3",
   "version": "3.8.5"
  }
 },
 "nbformat": 4,
 "nbformat_minor": 4
}
