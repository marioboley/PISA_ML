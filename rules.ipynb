{
 "cells": [
  {
   "cell_type": "code",
   "execution_count": 1,
   "metadata": {},
   "outputs": [],
   "source": [
    "from models import *\n",
    "from common import *"
   ]
  },
  {
   "cell_type": "code",
   "execution_count": 2,
   "metadata": {},
   "outputs": [],
   "source": [
    "# estimators here\n",
    "STATE = np.random.RandomState(seed=1000)\n",
    "full_estimators = [rule_fit_pcc]\n",
    "full_names = ['RuleFit_pcc']"
   ]
  },
  {
   "cell_type": "code",
   "execution_count": 3,
   "metadata": {},
   "outputs": [
    {
     "name": "stdout",
     "output_type": "stream",
     "text": [
      "Full Phase Interpolation\n",
      "Current Prediction Order is: ['sphere', 'worm', 'vesicle', 'other']\n",
      "Num of predictors:,  23\n",
      "Running experiment with 30 repetitions\n",
      "======================================\n"
     ]
    },
    {
     "name": "stderr",
     "output_type": "stream",
     "text": [
      "/opt/anaconda3/lib/python3.8/site-packages/sklearn/utils/validation.py:67: FutureWarning: Pass shuffle=True, random_state=RandomState(MT19937) as keyword args. From version 0.25 passing these as positional arguments will result in an error\n",
      "  warnings.warn(\"Pass {} as keyword args. From version 0.25 \"\n",
      "/opt/anaconda3/lib/python3.8/site-packages/sklearn/svm/_base.py:976: ConvergenceWarning: Liblinear failed to converge, increase the number of iterations.\n",
      "  warnings.warn(\"Liblinear failed to converge, increase \"\n"
     ]
    },
    {
     "name": "stdout",
     "output_type": "stream",
     "text": [
      "********************"
     ]
    },
    {
     "name": "stderr",
     "output_type": "stream",
     "text": [
      "/opt/anaconda3/lib/python3.8/site-packages/sklearn/svm/_base.py:976: ConvergenceWarning: Liblinear failed to converge, increase the number of iterations.\n",
      "  warnings.warn(\"Liblinear failed to converge, increase \"\n"
     ]
    },
    {
     "name": "stdout",
     "output_type": "stream",
     "text": [
      "**********\n"
     ]
    }
   ],
   "source": [
    "# run 95min(2.6 GHz 6-Core Intel Core i7)\n",
    "print('Full Phase Interpolation')\n",
    "print(\"Current Prediction Order is:\", data.y.columns.tolist())\n",
    "print('Num of predictors:, ', data.x1.shape[1])\n",
    "interpolation = Experiment(full_estimators,\n",
    "                            full_names,\n",
    "                            KFoldSpecial(30, shuffle=True, random_state=STATE),\n",
    "                            data.x1, data.y.replace(-1.0, 0.0),\n",
    "                            groups=data.comp_ids.array,\n",
    "                            evaluators=[hamming_loss, error, NegLogLikelihoodEvaluator(base=2)],\n",
    "                            verbose=True).run()\n"
   ]
  },
  {
   "cell_type": "code",
   "execution_count": 4,
   "metadata": {},
   "outputs": [
    {
     "data": {
      "text/html": [
       "<div>\n",
       "<style scoped>\n",
       "    .dataframe tbody tr th:only-of-type {\n",
       "        vertical-align: middle;\n",
       "    }\n",
       "\n",
       "    .dataframe tbody tr th {\n",
       "        vertical-align: top;\n",
       "    }\n",
       "\n",
       "    .dataframe thead th {\n",
       "        text-align: right;\n",
       "    }\n",
       "</style>\n",
       "<table border=\"1\" class=\"dataframe\">\n",
       "  <thead>\n",
       "    <tr style=\"text-align: right;\">\n",
       "      <th></th>\n",
       "      <th>mean_train_hamming loss</th>\n",
       "      <th>std_train_hamming loss</th>\n",
       "      <th>mean_test_hamming loss</th>\n",
       "      <th>std_test_hamming loss</th>\n",
       "      <th>mean_train_error</th>\n",
       "      <th>std_train_error</th>\n",
       "      <th>mean_test_error</th>\n",
       "      <th>std_test_error</th>\n",
       "      <th>mean_train_log loss</th>\n",
       "      <th>std_train_log loss</th>\n",
       "      <th>mean_test_log loss</th>\n",
       "      <th>std_test_log loss</th>\n",
       "    </tr>\n",
       "  </thead>\n",
       "  <tbody>\n",
       "    <tr>\n",
       "      <th>RuleFit_pcc</th>\n",
       "      <td>0.005766</td>\n",
       "      <td>0.003065</td>\n",
       "      <td>0.068355</td>\n",
       "      <td>0.028796</td>\n",
       "      <td>0.018639</td>\n",
       "      <td>0.009939</td>\n",
       "      <td>0.215965</td>\n",
       "      <td>0.08196</td>\n",
       "      <td>0.168415</td>\n",
       "      <td>0.0555</td>\n",
       "      <td>1.307291</td>\n",
       "      <td>0.606756</td>\n",
       "    </tr>\n",
       "  </tbody>\n",
       "</table>\n",
       "</div>"
      ],
      "text/plain": [
       "             mean_train_hamming loss  std_train_hamming loss  \\\n",
       "RuleFit_pcc                 0.005766                0.003065   \n",
       "\n",
       "             mean_test_hamming loss  std_test_hamming loss  mean_train_error  \\\n",
       "RuleFit_pcc                0.068355               0.028796          0.018639   \n",
       "\n",
       "             std_train_error  mean_test_error  std_test_error  \\\n",
       "RuleFit_pcc         0.009939         0.215965         0.08196   \n",
       "\n",
       "             mean_train_log loss  std_train_log loss  mean_test_log loss  \\\n",
       "RuleFit_pcc             0.168415              0.0555            1.307291   \n",
       "\n",
       "             std_test_log loss  \n",
       "RuleFit_pcc           0.606756  "
      ]
     },
     "execution_count": 4,
     "metadata": {},
     "output_type": "execute_result"
    }
   ],
   "source": [
    "df_inter = interpolation.summary()\n",
    "df_inter"
   ]
  },
  {
   "cell_type": "code",
   "execution_count": 60,
   "metadata": {},
   "outputs": [
    {
     "name": "stdout",
     "output_type": "stream",
     "text": [
      "Full Phase Extrapolation\n",
      "Current Prediction Order is: ['sphere', 'worm', 'vesicle', 'other']\n",
      "Num of predictors:,  23\n",
      "Running experiment with 28 repetitions\n",
      "======================================\n"
     ]
    }
   ],
   "source": [
    "# run 101min(2.6 GHz 6-Core Intel Core i7)\n",
    "print('Full Phase Extrapolation')\n",
    "print(\"Current Prediction Order is:\", data.y.columns.tolist())\n",
    "print('Num of predictors:, ', data.x1.shape[1])\n",
    "extrapolation = ExtrapolationExperiment(full_estimators, \n",
    "                            full_names,\n",
    "                            GroupKFoldSpecial(len(set(data.comp_ids)), size=20),\n",
    "                            data.x1, data.y.replace(-1.0, 0.0), groups=data.comp_ids.array,\n",
    "                            evaluators=[hamming_loss, error, NegLogLikelihoodEvaluator(base=2),\n",
    "                            GroupDescription(data.comp_descr, 'composition')],\n",
    "                            verbose=True).run()"
   ]
  },
  {
   "cell_type": "code",
   "execution_count": 6,
   "metadata": {},
   "outputs": [
    {
     "data": {
      "text/html": [
       "<div>\n",
       "<style scoped>\n",
       "    .dataframe tbody tr th:only-of-type {\n",
       "        vertical-align: middle;\n",
       "    }\n",
       "\n",
       "    .dataframe tbody tr th {\n",
       "        vertical-align: top;\n",
       "    }\n",
       "\n",
       "    .dataframe thead th {\n",
       "        text-align: right;\n",
       "    }\n",
       "</style>\n",
       "<table border=\"1\" class=\"dataframe\">\n",
       "  <thead>\n",
       "    <tr style=\"text-align: right;\">\n",
       "      <th></th>\n",
       "      <th>mean_train_hamming loss</th>\n",
       "      <th>std_train_hamming loss</th>\n",
       "      <th>mean_test_hamming loss</th>\n",
       "      <th>std_test_hamming loss</th>\n",
       "      <th>mean_train_error</th>\n",
       "      <th>std_train_error</th>\n",
       "      <th>mean_test_error</th>\n",
       "      <th>std_test_error</th>\n",
       "      <th>mean_train_log loss</th>\n",
       "      <th>std_train_log loss</th>\n",
       "      <th>mean_test_log loss</th>\n",
       "      <th>std_test_log loss</th>\n",
       "    </tr>\n",
       "  </thead>\n",
       "  <tbody>\n",
       "    <tr>\n",
       "      <th>RuleFit_pcc</th>\n",
       "      <td>0.005819</td>\n",
       "      <td>0.003071</td>\n",
       "      <td>0.11877</td>\n",
       "      <td>0.16098</td>\n",
       "      <td>0.019194</td>\n",
       "      <td>0.010264</td>\n",
       "      <td>0.322405</td>\n",
       "      <td>0.415679</td>\n",
       "      <td>0.168316</td>\n",
       "      <td>0.066692</td>\n",
       "      <td>2.828737</td>\n",
       "      <td>3.892979</td>\n",
       "    </tr>\n",
       "  </tbody>\n",
       "</table>\n",
       "</div>"
      ],
      "text/plain": [
       "             mean_train_hamming loss  std_train_hamming loss  \\\n",
       "RuleFit_pcc                 0.005819                0.003071   \n",
       "\n",
       "             mean_test_hamming loss  std_test_hamming loss  mean_train_error  \\\n",
       "RuleFit_pcc                 0.11877                0.16098          0.019194   \n",
       "\n",
       "             std_train_error  mean_test_error  std_test_error  \\\n",
       "RuleFit_pcc         0.010264         0.322405        0.415679   \n",
       "\n",
       "             mean_train_log loss  std_train_log loss  mean_test_log loss  \\\n",
       "RuleFit_pcc             0.168316            0.066692            2.828737   \n",
       "\n",
       "             std_test_log loss  \n",
       "RuleFit_pcc           3.892979  "
      ]
     },
     "execution_count": 6,
     "metadata": {},
     "output_type": "execute_result"
    }
   ],
   "source": [
    "df_extra = extrapolation.summary()\n",
    "df_extra"
   ]
  },
  {
   "cell_type": "code",
   "execution_count": 7,
   "metadata": {},
   "outputs": [
    {
     "data": {
      "text/html": [
       "<div>\n",
       "<style scoped>\n",
       "    .dataframe tbody tr th:only-of-type {\n",
       "        vertical-align: middle;\n",
       "    }\n",
       "\n",
       "    .dataframe tbody tr th {\n",
       "        vertical-align: top;\n",
       "    }\n",
       "\n",
       "    .dataframe thead th {\n",
       "        text-align: right;\n",
       "    }\n",
       "</style>\n",
       "<table border=\"1\" class=\"dataframe\">\n",
       "  <thead>\n",
       "    <tr style=\"text-align: right;\">\n",
       "      <th></th>\n",
       "      <th>mean_train_hamming loss</th>\n",
       "      <th>std_train_hamming loss</th>\n",
       "      <th>mean_test_hamming loss</th>\n",
       "      <th>std_test_hamming loss</th>\n",
       "      <th>mean_train_error</th>\n",
       "      <th>std_train_error</th>\n",
       "      <th>mean_test_error</th>\n",
       "      <th>std_test_error</th>\n",
       "      <th>mean_train_log loss</th>\n",
       "      <th>std_train_log loss</th>\n",
       "      <th>mean_test_log loss</th>\n",
       "      <th>std_test_log loss</th>\n",
       "    </tr>\n",
       "  </thead>\n",
       "  <tbody>\n",
       "    <tr>\n",
       "      <th>RuFit_inter_pcc</th>\n",
       "      <td>0.005766</td>\n",
       "      <td>0.003065</td>\n",
       "      <td>0.068355</td>\n",
       "      <td>0.028796</td>\n",
       "      <td>0.018639</td>\n",
       "      <td>0.009939</td>\n",
       "      <td>0.215965</td>\n",
       "      <td>0.081960</td>\n",
       "      <td>0.168415</td>\n",
       "      <td>0.055500</td>\n",
       "      <td>1.307291</td>\n",
       "      <td>0.606756</td>\n",
       "    </tr>\n",
       "    <tr>\n",
       "      <th>RuFit_extra_pcc</th>\n",
       "      <td>0.005819</td>\n",
       "      <td>0.003071</td>\n",
       "      <td>0.118770</td>\n",
       "      <td>0.160980</td>\n",
       "      <td>0.019194</td>\n",
       "      <td>0.010264</td>\n",
       "      <td>0.322405</td>\n",
       "      <td>0.415679</td>\n",
       "      <td>0.168316</td>\n",
       "      <td>0.066692</td>\n",
       "      <td>2.828737</td>\n",
       "      <td>3.892979</td>\n",
       "    </tr>\n",
       "  </tbody>\n",
       "</table>\n",
       "</div>"
      ],
      "text/plain": [
       "                 mean_train_hamming loss  std_train_hamming loss  \\\n",
       "RuFit_inter_pcc                 0.005766                0.003065   \n",
       "RuFit_extra_pcc                 0.005819                0.003071   \n",
       "\n",
       "                 mean_test_hamming loss  std_test_hamming loss  \\\n",
       "RuFit_inter_pcc                0.068355               0.028796   \n",
       "RuFit_extra_pcc                0.118770               0.160980   \n",
       "\n",
       "                 mean_train_error  std_train_error  mean_test_error  \\\n",
       "RuFit_inter_pcc          0.018639         0.009939         0.215965   \n",
       "RuFit_extra_pcc          0.019194         0.010264         0.322405   \n",
       "\n",
       "                 std_test_error  mean_train_log loss  std_train_log loss  \\\n",
       "RuFit_inter_pcc        0.081960             0.168415            0.055500   \n",
       "RuFit_extra_pcc        0.415679             0.168316            0.066692   \n",
       "\n",
       "                 mean_test_log loss  std_test_log loss  \n",
       "RuFit_inter_pcc            1.307291           0.606756  \n",
       "RuFit_extra_pcc            2.828737           3.892979  "
      ]
     },
     "execution_count": 7,
     "metadata": {},
     "output_type": "execute_result"
    }
   ],
   "source": [
    "import pandas as pd\n",
    "\n",
    "df = pd.concat([df_inter, df_extra])\n",
    "df.index = ['RuFit_inter_pcc', 'RuFit_extra_pcc']\n",
    "df"
   ]
  }
 ],
 "metadata": {
  "interpreter": {
   "hash": "40d3a090f54c6569ab1632332b64b2c03c39dcf918b08424e98f38b5ae0af88f"
  },
  "kernelspec": {
   "display_name": "Python 3.8.5 ('base')",
   "language": "python",
   "name": "python3"
  },
  "language_info": {
   "codemirror_mode": {
    "name": "ipython",
    "version": 3
   },
   "file_extension": ".py",
   "mimetype": "text/x-python",
   "name": "python",
   "nbconvert_exporter": "python",
   "pygments_lexer": "ipython3",
   "version": "3.8.5"
  },
  "orig_nbformat": 4
 },
 "nbformat": 4,
 "nbformat_minor": 2
}
