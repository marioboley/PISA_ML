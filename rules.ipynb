{
 "cells": [
  {
   "cell_type": "markdown",
   "metadata": {},
   "source": [
    "# Rule-based Models\n",
    "\n",
    "## RuleFit\n",
    "\n",
    "The following code fits a RuleFit model for spheres to the complete data and extracts the rules from the model. The model usually contains a mix of linear and rule terms (there is some randomisation). \n",
    "\n",
    "Note how the RuleFit package (here imported through the patch in realkd) requires that:\n",
    "\n",
    "- the negative class is encoded with 0\n",
    "- the covariates have to be given as a numpy array (i.e., pandas dataframe is not allowed)\n",
    "\n",
    "These two aspects make the estimator tricky to handle with our standard experiment class (and potentially for the probabilistic chain wrapper). Moreover, the model does not provide the attribute `classes_` after fitting. This means that also the sklearn functions cannot evaluate the log loss for this model. This all can be fixed by further patching RuleFit are potentially adapting the `Experiment` class from `common`."
   ]
  },
  {
   "cell_type": "code",
   "execution_count": 190,
   "metadata": {},
   "outputs": [
    {
     "data": {
      "text/html": [
       "<div>\n",
       "<style scoped>\n",
       "    .dataframe tbody tr th:only-of-type {\n",
       "        vertical-align: middle;\n",
       "    }\n",
       "\n",
       "    .dataframe tbody tr th {\n",
       "        vertical-align: top;\n",
       "    }\n",
       "\n",
       "    .dataframe thead th {\n",
       "        text-align: right;\n",
       "    }\n",
       "</style>\n",
       "<table border=\"1\" class=\"dataframe\">\n",
       "  <thead>\n",
       "    <tr style=\"text-align: right;\">\n",
       "      <th></th>\n",
       "      <th>rule</th>\n",
       "      <th>type</th>\n",
       "      <th>coef</th>\n",
       "      <th>support</th>\n",
       "      <th>importance</th>\n",
       "    </tr>\n",
       "  </thead>\n",
       "  <tbody>\n",
       "    <tr>\n",
       "      <th>119</th>\n",
       "      <td>core_mv_total &gt; 140.68274688720703 &amp; corona_mv...</td>\n",
       "      <td>rule</td>\n",
       "      <td>1.734672</td>\n",
       "      <td>0.314286</td>\n",
       "      <td>0.805288</td>\n",
       "    </tr>\n",
       "    <tr>\n",
       "      <th>814</th>\n",
       "      <td>dp_corona &gt; 29.5 &amp; mon_corona_psa &lt;= 128.88999...</td>\n",
       "      <td>rule</td>\n",
       "      <td>1.416737</td>\n",
       "      <td>0.530612</td>\n",
       "      <td>0.707040</td>\n",
       "    </tr>\n",
       "    <tr>\n",
       "      <th>1027</th>\n",
       "      <td>ratio_mass &lt;= 0.608882874250412 &amp; clogp_core &gt;...</td>\n",
       "      <td>rule</td>\n",
       "      <td>1.406349</td>\n",
       "      <td>0.746939</td>\n",
       "      <td>0.611432</td>\n",
       "    </tr>\n",
       "    <tr>\n",
       "      <th>1368</th>\n",
       "      <td>dp_core &gt; 104.0 &amp; mon_corona_mv &lt;= 2.335800051...</td>\n",
       "      <td>rule</td>\n",
       "      <td>2.173758</td>\n",
       "      <td>0.073469</td>\n",
       "      <td>0.567145</td>\n",
       "    </tr>\n",
       "    <tr>\n",
       "      <th>925</th>\n",
       "      <td>clogp_core &lt;= 1.4000000357627869 &amp; dp_corona &lt;...</td>\n",
       "      <td>rule</td>\n",
       "      <td>0.891819</td>\n",
       "      <td>0.293878</td>\n",
       "      <td>0.406256</td>\n",
       "    </tr>\n",
       "    <tr>\n",
       "      <th>638</th>\n",
       "      <td>corona_mw_total &lt;= 9204.02490234375 &amp; mon_core...</td>\n",
       "      <td>rule</td>\n",
       "      <td>1.267164</td>\n",
       "      <td>0.106122</td>\n",
       "      <td>0.390279</td>\n",
       "    </tr>\n",
       "    <tr>\n",
       "      <th>353</th>\n",
       "      <td>mon_corona_mw &lt;= 315.11000061035156 &amp; corona_m...</td>\n",
       "      <td>rule</td>\n",
       "      <td>0.723118</td>\n",
       "      <td>0.412245</td>\n",
       "      <td>0.355947</td>\n",
       "    </tr>\n",
       "    <tr>\n",
       "      <th>196</th>\n",
       "      <td>ratio_mass &lt;= 0.6467368900775909 &amp; mon_core_mw...</td>\n",
       "      <td>rule</td>\n",
       "      <td>1.370526</td>\n",
       "      <td>0.946939</td>\n",
       "      <td>0.307211</td>\n",
       "    </tr>\n",
       "    <tr>\n",
       "      <th>953</th>\n",
       "      <td>core_mv_total &lt;= 134.4324951171875 &amp; conc &gt; 16...</td>\n",
       "      <td>rule</td>\n",
       "      <td>1.041371</td>\n",
       "      <td>0.077551</td>\n",
       "      <td>0.278529</td>\n",
       "    </tr>\n",
       "    <tr>\n",
       "      <th>1004</th>\n",
       "      <td>clogp_core &gt; 1.1022250056266785 &amp; conc &lt;= 14.5...</td>\n",
       "      <td>rule</td>\n",
       "      <td>0.933098</td>\n",
       "      <td>0.081633</td>\n",
       "      <td>0.255486</td>\n",
       "    </tr>\n",
       "    <tr>\n",
       "      <th>128</th>\n",
       "      <td>corona_mv_total &lt;= 75.16975021362305 &amp; conc &lt;=...</td>\n",
       "      <td>rule</td>\n",
       "      <td>0.853682</td>\n",
       "      <td>0.089796</td>\n",
       "      <td>0.244059</td>\n",
       "    </tr>\n",
       "    <tr>\n",
       "      <th>940</th>\n",
       "      <td>mon_core_psa &lt;= 47.144775390625 &amp; mon_corona_m...</td>\n",
       "      <td>rule</td>\n",
       "      <td>0.788326</td>\n",
       "      <td>0.106122</td>\n",
       "      <td>0.242800</td>\n",
       "    </tr>\n",
       "    <tr>\n",
       "      <th>943</th>\n",
       "      <td>clogp_core &lt;= 1.3700000047683716 &amp; clogp_core ...</td>\n",
       "      <td>rule</td>\n",
       "      <td>0.474405</td>\n",
       "      <td>0.163265</td>\n",
       "      <td>0.175344</td>\n",
       "    </tr>\n",
       "    <tr>\n",
       "      <th>513</th>\n",
       "      <td>clogp_core &lt;= 1.4000000357627869 &amp; core_mv_tot...</td>\n",
       "      <td>rule</td>\n",
       "      <td>0.638791</td>\n",
       "      <td>0.077551</td>\n",
       "      <td>0.170853</td>\n",
       "    </tr>\n",
       "    <tr>\n",
       "      <th>73</th>\n",
       "      <td>core_mw_total &lt;= 43296.0390625 &amp; dp_corona &lt;= ...</td>\n",
       "      <td>rule</td>\n",
       "      <td>0.681112</td>\n",
       "      <td>0.053061</td>\n",
       "      <td>0.152675</td>\n",
       "    </tr>\n",
       "    <tr>\n",
       "      <th>445</th>\n",
       "      <td>dp_corona &gt; 64.5 &amp; dp_core &lt;= 190.0 &amp; dp_coron...</td>\n",
       "      <td>rule</td>\n",
       "      <td>0.552131</td>\n",
       "      <td>0.081633</td>\n",
       "      <td>0.151176</td>\n",
       "    </tr>\n",
       "    <tr>\n",
       "      <th>152</th>\n",
       "      <td>dp_corona &lt;= 29.5 &amp; conc &lt;= 21.25 &amp; dp_core &gt; ...</td>\n",
       "      <td>rule</td>\n",
       "      <td>0.495750</td>\n",
       "      <td>0.069388</td>\n",
       "      <td>0.125976</td>\n",
       "    </tr>\n",
       "    <tr>\n",
       "      <th>396</th>\n",
       "      <td>clogp_core &lt;= 1.3700000047683716 &amp; ratio_vol &gt;...</td>\n",
       "      <td>rule</td>\n",
       "      <td>0.318374</td>\n",
       "      <td>0.102041</td>\n",
       "      <td>0.096372</td>\n",
       "    </tr>\n",
       "    <tr>\n",
       "      <th>423</th>\n",
       "      <td>clogp_core &lt;= 1.3700000047683716 &amp; corona_mw_t...</td>\n",
       "      <td>rule</td>\n",
       "      <td>0.168893</td>\n",
       "      <td>0.400000</td>\n",
       "      <td>0.082740</td>\n",
       "    </tr>\n",
       "    <tr>\n",
       "      <th>54</th>\n",
       "      <td>mon_core_mw &lt;= 145.30955505371094 &amp; core_mw_to...</td>\n",
       "      <td>rule</td>\n",
       "      <td>0.319122</td>\n",
       "      <td>0.065306</td>\n",
       "      <td>0.078844</td>\n",
       "    </tr>\n",
       "    <tr>\n",
       "      <th>1179</th>\n",
       "      <td>mon_core_psa &lt;= 46.349998474121094 &amp; conc &gt; 16.5</td>\n",
       "      <td>rule</td>\n",
       "      <td>0.188538</td>\n",
       "      <td>0.208163</td>\n",
       "      <td>0.076545</td>\n",
       "    </tr>\n",
       "    <tr>\n",
       "      <th>90</th>\n",
       "      <td>dp_corona &gt; 61.0 &amp; ratio_mass &gt; 0.154338642954...</td>\n",
       "      <td>rule</td>\n",
       "      <td>0.199109</td>\n",
       "      <td>0.175510</td>\n",
       "      <td>0.075742</td>\n",
       "    </tr>\n",
       "    <tr>\n",
       "      <th>500</th>\n",
       "      <td>dp_core &lt;= 104.5 &amp; core_mv_total &gt; 93.61500167...</td>\n",
       "      <td>rule</td>\n",
       "      <td>0.208159</td>\n",
       "      <td>0.126531</td>\n",
       "      <td>0.069202</td>\n",
       "    </tr>\n",
       "    <tr>\n",
       "      <th>91</th>\n",
       "      <td>ratio_mass &lt;= 0.43092384934425354 &amp; core_mw_to...</td>\n",
       "      <td>rule</td>\n",
       "      <td>0.182564</td>\n",
       "      <td>0.151020</td>\n",
       "      <td>0.065370</td>\n",
       "    </tr>\n",
       "    <tr>\n",
       "      <th>9</th>\n",
       "      <td>mon_core_mw</td>\n",
       "      <td>linear</td>\n",
       "      <td>0.006454</td>\n",
       "      <td>1.000000</td>\n",
       "      <td>0.065083</td>\n",
       "    </tr>\n",
       "    <tr>\n",
       "      <th>10</th>\n",
       "      <td>mon_core_apol</td>\n",
       "      <td>linear</td>\n",
       "      <td>0.027139</td>\n",
       "      <td>1.000000</td>\n",
       "      <td>0.064072</td>\n",
       "    </tr>\n",
       "    <tr>\n",
       "      <th>11</th>\n",
       "      <td>mon_core_mv</td>\n",
       "      <td>linear</td>\n",
       "      <td>0.543637</td>\n",
       "      <td>1.000000</td>\n",
       "      <td>0.058646</td>\n",
       "    </tr>\n",
       "    <tr>\n",
       "      <th>961</th>\n",
       "      <td>conc &lt;= 21.5 &amp; dp_corona &lt;= 28.5</td>\n",
       "      <td>rule</td>\n",
       "      <td>0.183678</td>\n",
       "      <td>0.081633</td>\n",
       "      <td>0.050292</td>\n",
       "    </tr>\n",
       "    <tr>\n",
       "      <th>1493</th>\n",
       "      <td>dp_corona &lt;= 29.5 &amp; ph &gt; 3.8499999046325684 &amp; ...</td>\n",
       "      <td>rule</td>\n",
       "      <td>0.111732</td>\n",
       "      <td>0.097959</td>\n",
       "      <td>0.033213</td>\n",
       "    </tr>\n",
       "    <tr>\n",
       "      <th>1064</th>\n",
       "      <td>clogp_core &lt;= 1.3700000047683716 &amp; dp_corona &gt;...</td>\n",
       "      <td>rule</td>\n",
       "      <td>0.108638</td>\n",
       "      <td>0.097959</td>\n",
       "      <td>0.032294</td>\n",
       "    </tr>\n",
       "    <tr>\n",
       "      <th>180</th>\n",
       "      <td>mon_corona_apol &lt;= 27.579115867614746 &amp; clogp_...</td>\n",
       "      <td>rule</td>\n",
       "      <td>0.051232</td>\n",
       "      <td>0.089796</td>\n",
       "      <td>0.014647</td>\n",
       "    </tr>\n",
       "    <tr>\n",
       "      <th>1464</th>\n",
       "      <td>conc &lt;= 21.25 &amp; mon_core_mw &gt; 143.97650146484375</td>\n",
       "      <td>rule</td>\n",
       "      <td>0.017913</td>\n",
       "      <td>0.853061</td>\n",
       "      <td>0.006342</td>\n",
       "    </tr>\n",
       "    <tr>\n",
       "      <th>22</th>\n",
       "      <td>temp</td>\n",
       "      <td>linear</td>\n",
       "      <td>0.000224</td>\n",
       "      <td>1.000000</td>\n",
       "      <td>0.001720</td>\n",
       "    </tr>\n",
       "  </tbody>\n",
       "</table>\n",
       "</div>"
      ],
      "text/plain": [
       "                                                   rule    type      coef  \\\n",
       "119   core_mv_total > 140.68274688720703 & corona_mv...    rule  1.734672   \n",
       "814   dp_corona > 29.5 & mon_corona_psa <= 128.88999...    rule  1.416737   \n",
       "1027  ratio_mass <= 0.608882874250412 & clogp_core >...    rule  1.406349   \n",
       "1368  dp_core > 104.0 & mon_corona_mv <= 2.335800051...    rule  2.173758   \n",
       "925   clogp_core <= 1.4000000357627869 & dp_corona <...    rule  0.891819   \n",
       "638   corona_mw_total <= 9204.02490234375 & mon_core...    rule  1.267164   \n",
       "353   mon_corona_mw <= 315.11000061035156 & corona_m...    rule  0.723118   \n",
       "196   ratio_mass <= 0.6467368900775909 & mon_core_mw...    rule  1.370526   \n",
       "953   core_mv_total <= 134.4324951171875 & conc > 16...    rule  1.041371   \n",
       "1004  clogp_core > 1.1022250056266785 & conc <= 14.5...    rule  0.933098   \n",
       "128   corona_mv_total <= 75.16975021362305 & conc <=...    rule  0.853682   \n",
       "940   mon_core_psa <= 47.144775390625 & mon_corona_m...    rule  0.788326   \n",
       "943   clogp_core <= 1.3700000047683716 & clogp_core ...    rule  0.474405   \n",
       "513   clogp_core <= 1.4000000357627869 & core_mv_tot...    rule  0.638791   \n",
       "73    core_mw_total <= 43296.0390625 & dp_corona <= ...    rule  0.681112   \n",
       "445   dp_corona > 64.5 & dp_core <= 190.0 & dp_coron...    rule  0.552131   \n",
       "152   dp_corona <= 29.5 & conc <= 21.25 & dp_core > ...    rule  0.495750   \n",
       "396   clogp_core <= 1.3700000047683716 & ratio_vol >...    rule  0.318374   \n",
       "423   clogp_core <= 1.3700000047683716 & corona_mw_t...    rule  0.168893   \n",
       "54    mon_core_mw <= 145.30955505371094 & core_mw_to...    rule  0.319122   \n",
       "1179   mon_core_psa <= 46.349998474121094 & conc > 16.5    rule  0.188538   \n",
       "90    dp_corona > 61.0 & ratio_mass > 0.154338642954...    rule  0.199109   \n",
       "500   dp_core <= 104.5 & core_mv_total > 93.61500167...    rule  0.208159   \n",
       "91    ratio_mass <= 0.43092384934425354 & core_mw_to...    rule  0.182564   \n",
       "9                                           mon_core_mw  linear  0.006454   \n",
       "10                                        mon_core_apol  linear  0.027139   \n",
       "11                                          mon_core_mv  linear  0.543637   \n",
       "961                    conc <= 21.5 & dp_corona <= 28.5    rule  0.183678   \n",
       "1493  dp_corona <= 29.5 & ph > 3.8499999046325684 & ...    rule  0.111732   \n",
       "1064  clogp_core <= 1.3700000047683716 & dp_corona >...    rule  0.108638   \n",
       "180   mon_corona_apol <= 27.579115867614746 & clogp_...    rule  0.051232   \n",
       "1464   conc <= 21.25 & mon_core_mw > 143.97650146484375    rule  0.017913   \n",
       "22                                                 temp  linear  0.000224   \n",
       "\n",
       "       support  importance  \n",
       "119   0.314286    0.805288  \n",
       "814   0.530612    0.707040  \n",
       "1027  0.746939    0.611432  \n",
       "1368  0.073469    0.567145  \n",
       "925   0.293878    0.406256  \n",
       "638   0.106122    0.390279  \n",
       "353   0.412245    0.355947  \n",
       "196   0.946939    0.307211  \n",
       "953   0.077551    0.278529  \n",
       "1004  0.081633    0.255486  \n",
       "128   0.089796    0.244059  \n",
       "940   0.106122    0.242800  \n",
       "943   0.163265    0.175344  \n",
       "513   0.077551    0.170853  \n",
       "73    0.053061    0.152675  \n",
       "445   0.081633    0.151176  \n",
       "152   0.069388    0.125976  \n",
       "396   0.102041    0.096372  \n",
       "423   0.400000    0.082740  \n",
       "54    0.065306    0.078844  \n",
       "1179  0.208163    0.076545  \n",
       "90    0.175510    0.075742  \n",
       "500   0.126531    0.069202  \n",
       "91    0.151020    0.065370  \n",
       "9     1.000000    0.065083  \n",
       "10    1.000000    0.064072  \n",
       "11    1.000000    0.058646  \n",
       "961   0.081633    0.050292  \n",
       "1493  0.097959    0.033213  \n",
       "1064  0.097959    0.032294  \n",
       "180   0.089796    0.014647  \n",
       "1464  0.853061    0.006342  \n",
       "22    1.000000    0.001720  "
      ]
     },
     "execution_count": 190,
     "metadata": {},
     "output_type": "execute_result"
    }
   ],
   "source": [
    "import data1 as data\n",
    "from realkd.patch import RuleFit\n",
    "\n",
    "x = data.x.filter(data.predictors, axis=1)\n",
    "y = data.sphere\n",
    "\n",
    "rf = RuleFit(rfmode='classify', model_type='rl', Cs=[1])\n",
    "rf.fit(x.values, y.replace(-1, 0), feature_names=x.columns)\n",
    "rules = rf.get_rules()\n",
    "rules = rules[rules['coef'] > 0]\n",
    "rules.iloc[np.argsort(rules['importance'])][::-1]"
   ]
  },
  {
   "cell_type": "markdown",
   "metadata": {},
   "source": [
    "There are not too many rules and they can be ordered by importance, which is nice for interpretability. One thing that is confusing is that there are only positive coefficients.\n",
    "\n",
    "Let us ignore this for now and investigate how well these models fit the data (as a function of the number of rules). Note that the parameter `Cs` can be used to give different options for regularisation. Generally, higher C-values lead to more rules. Presumably, when more than one C-value is provided, the best is determined via internal cross-validation.\n",
    "\n",
    "First we produce a baseline accuracy with a random forest. Then we try out various C-values (not leaving the choice to RuleFit but providing one at a time to be able to see the effect of the different choices).\n",
    "\n",
    "We use cross validation to get unbiased results of relatively low variance."
   ]
  },
  {
   "cell_type": "code",
   "execution_count": 163,
   "metadata": {},
   "outputs": [
    {
     "data": {
      "text/plain": [
       "0.920175438596491"
      ]
     },
     "execution_count": 163,
     "metadata": {},
     "output_type": "execute_result"
    }
   ],
   "source": [
    "from sklearn.model_selection import cross_validate, KFold\n",
    "from sklearn.ensemble import RandomForestClassifier\n",
    "\n",
    "K = 30\n",
    "cv = KFold(K, shuffle=True, random_state=0)\n",
    "\n",
    "forest = RandomForestClassifier()\n",
    "forest_results = cross_validate(forest, x, y, cv=cv, scoring=['accuracy', 'neg_log_loss'], return_estimator=True, return_train_score=True)\n",
    "\n",
    "forest_results['test_accuracy'].mean()"
   ]
  },
  {
   "cell_type": "code",
   "execution_count": 145,
   "metadata": {},
   "outputs": [],
   "source": [
    "import numpy as np\n",
    "\n",
    "Cs = [0.1, 0.5, 1, 2, 10]\n",
    "\n",
    "rulefits = [RuleFit(rfmode='classify', model_type='rl', Cs=[C]) for C in Cs]\n",
    "rulefit_results = []\n",
    "for i in range(len(Cs)):\n",
    "    rulefit_results.append(cross_validate(rulefits[i], x.values, y.replace(-1, 0), cv=cv, scoring=['accuracy'], return_estimator=True, return_train_score=True))\n",
    "    rulefit_results[-1]['num_rules'] = np.array([(est.get_rules()['coef'] > 0).sum() for est in rulefit_results[-1]['estimator']])"
   ]
  },
  {
   "cell_type": "code",
   "execution_count": 173,
   "metadata": {},
   "outputs": [
    {
     "data": {
      "image/png": "[encoded data removed]",
      "text/plain": [
       "<Figure size 432x288 with 1 Axes>"
      ]
     },
     "metadata": {
      "needs_background": "light"
     },
     "output_type": "display_data"
    }
   ],
   "source": [
    "from matplotlib import pyplot as plt\n",
    "\n",
    "k = [res['num_rules'].mean() for res in rulefit_results]\n",
    "err = [1-res['test_accuracy'].mean() for res in rulefit_results]\n",
    "plt.plot(k, err, marker='o', label='RuleFit')\n",
    "k_min = min(k) // 1\n",
    "k_max = round(max(k) + 0.5)\n",
    "plt.plot([k_min, k_max], [1-forest_results['test_accuracy'].mean(), 1-forest_results['test_accuracy'].mean()], label='Random Forest')\n",
    "# plt.plot([k_min, k_max], [1-forest_results['train_accuracy'].mean(), 1-forest_results['train_accuracy'].mean()])\n",
    "plt.xlim(k_min, k_max)\n",
    "plt.xlabel('num. rules')\n",
    "plt.ylabel('test error')\n",
    "plt.legend()\n",
    "plt.show()"
   ]
  },
  {
   "cell_type": "markdown",
   "metadata": {},
   "source": [
    "## Rule Boosting\n",
    "\n",
    "An alternative approach to fitting a rule-based model is rule boosting."
   ]
  },
  {
   "cell_type": "code",
   "execution_count": 176,
   "metadata": {},
   "outputs": [
    {
     "name": "stdout",
     "output_type": "stream",
     "text": [
      "   +1.4059 if conc<=20.0 & corona_mv_total>=82.15284000000001 & mon_core_psa<=46.53\n",
      "   +1.6639 if mon_core_mw>=158.09 & mon_corona_apol>=23.529516\n",
      "   -1.3778 if clogp_core<=1.12 & conc>=10.0 & corona_mv_total<=82.15284000000001 & dp_core>=104.2 & mon_core_psa<=46.53 & mon_corona_mw<=160.07\n",
      "   +1.5082 if corona_mv_total>=46.200880000000005 & dp_corona<=78.0 & ratio_mass>=0.315052864 & ratio_vol>=0.300180918\n",
      "   +2.8912 if core_mw_total>=16606.602 & corona_mv_total>=58.4539 & mon_corona_mw<=108.02 & mon_corona_psa<=26.3\n"
     ]
    },
    {
     "data": {
      "text/plain": [
       "RuleBoostingEstimator(max_rules=5, base_learner=XGBRuleEstimator(reg=1, loss=logistic))"
      ]
     },
     "execution_count": 176,
     "metadata": {},
     "output_type": "execute_result"
    }
   ],
   "source": [
    "from realkd.rules import RuleBoostingEstimator, XGBRuleEstimator\n",
    "\n",
    "re = RuleBoostingEstimator(num_rules=5, base_learner=XGBRuleEstimator(loss='logistic', reg=1, search='greedy', search_params={'max_col_attributes': 20}), verbose=True)\n",
    "re.fit(x, y)"
   ]
  },
  {
   "cell_type": "code",
   "execution_count": 179,
   "metadata": {},
   "outputs": [],
   "source": [
    "re.num_rules += 10"
   ]
  },
  {
   "cell_type": "code",
   "execution_count": 177,
   "metadata": {},
   "outputs": [
    {
     "data": {
      "text/plain": [
       "0.7584459459459459"
      ]
     },
     "execution_count": 177,
     "metadata": {},
     "output_type": "execute_result"
    }
   ],
   "source": [
    "from sklearn.metrics import accuracy_score\n",
    "\n",
    "accuracy_score(y, re.predict(x))"
   ]
  },
  {
   "cell_type": "code",
   "execution_count": 180,
   "metadata": {},
   "outputs": [
    {
     "name": "stdout",
     "output_type": "stream",
     "text": [
      "   +1.4288 if charged>=1 & mon_corona_psa<=26.3\n",
      "   -1.1338 if conc>=13.0 & corona_mw_total>=7523.29 & dp_corona<=78.0 & mon_core_mw<=144.08 & mon_corona_psa>=66.76 & ratio_mass<=0.315052864\n",
      "   +1.5289 if charged>=1 & clogp_core>=1.1 & conc<=20.0 & core_mw_total<=52805.856 & corona_mw_total<=9604.2 & ratio_vol<=0.300180918 & salt<=0.1 & temp>=70.0\n",
      "   +1.7034 if core_mw_total<=26467.308 & dp_corona>=78.0\n",
      "   +1.3769 if core_mv_total<=136.8531 & mon_core_mw>=158.09\n",
      "   -0.8054 if conc<=20.0 & conc>=10.0 & corona_mw_total<=9604.2 & mon_core_mw<=144.08 & mon_corona_apol<=23.529516 & ph<=7.0\n",
      "   +1.2593 if conc<=13.0 & conc>=10.0 & dp_corona>=78.0 & ratio_mass<=0.315052864 & ratio_mass>=0.1361396068\n",
      "   +1.0785 if corona_mv_total>=46.200880000000005 & corona_mw_total<=10606.18 & dp_core<=104.2\n",
      "   +0.7182 if core_mw_total>=52805.856 & dp_core>=353.6 & mon_core_mw>=144.08 & mon_corona_mw<=279.11\n",
      "   -0.8743 if clogp_corona<=0.09 & conc>=20.0 & dp_core>=104.2 & dp_corona<=78.0 & mon_core_psa>=46.17 & ratio_vol<=0.300180918\n"
     ]
    },
    {
     "data": {
      "text/plain": [
       "RuleBoostingEstimator(max_rules=15, base_learner=XGBRuleEstimator(reg=1, loss=logistic))"
      ]
     },
     "execution_count": 180,
     "metadata": {},
     "output_type": "execute_result"
    }
   ],
   "source": [
    "re.fit(x, y)"
   ]
  },
  {
   "cell_type": "code",
   "execution_count": 181,
   "metadata": {},
   "outputs": [
    {
     "data": {
      "text/plain": [
       "0.875"
      ]
     },
     "execution_count": 181,
     "metadata": {},
     "output_type": "execute_result"
    }
   ],
   "source": [
    "accuracy_score(y, re.predict(x))"
   ]
  }
 ],
 "metadata": {
  "interpreter": {
   "hash": "aee8b7b246df8f9039afb4144a1f6fd8d2ca17a180786b69acc140d282b71a49"
  },
  "kernelspec": {
   "display_name": "Python 3.7.7 64-bit",
   "name": "python3"
  },
  "language_info": {
   "codemirror_mode": {
    "name": "ipython",
    "version": 3
   },
   "file_extension": ".py",
   "mimetype": "text/x-python",
   "name": "python",
   "nbconvert_exporter": "python",
   "pygments_lexer": "ipython3",
   "version": "3.7.7"
  },
  "metadata": {
   "interpreter": {
    "hash": "aee8b7b246df8f9039afb4144a1f6fd8d2ca17a180786b69acc140d282b71a49"
   }
  },
  "orig_nbformat": 2
 },
 "nbformat": 4,
 "nbformat_minor": 2
}
