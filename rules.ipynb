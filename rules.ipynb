{
 "cells": [
  {
   "cell_type": "markdown",
   "metadata": {},
   "source": [
    "# Rule-based Models\n",
    "\n",
    "## RuleFit\n",
    "\n",
    "The following code fits a RuleFit model for spheres to the complete data and extracts the rules from the model. The model usually contains a mix of linear and rule terms (there is some randomisation). \n",
    "\n",
    "Note how the RuleFit package (here imported through the patch in realkd) requires that:\n",
    "\n",
    "- the negative class is encoded with 0\n",
    "- the covariates have to be given as a numpy array (i.e., pandas dataframe is not allowed)\n",
    "\n",
    "These two aspects make the estimator tricky to handle with our standard experiment class (and potentially for the probabilistic chain wrapper). Moreover, the model does not provide the attribute `classes_` after fitting. This means that also the sklearn functions cannot evaluate the log loss for this model. This all can be fixed by further patching RuleFit are potentially adapting the `Experiment` class from `common`."
   ]
  },
  {
   "cell_type": "code",
   "execution_count": 175,
   "metadata": {},
   "outputs": [
    {
     "data": {
      "text/html": [
       "<div>\n",
       "<style scoped>\n",
       "    .dataframe tbody tr th:only-of-type {\n",
       "        vertical-align: middle;\n",
       "    }\n",
       "\n",
       "    .dataframe tbody tr th {\n",
       "        vertical-align: top;\n",
       "    }\n",
       "\n",
       "    .dataframe thead th {\n",
       "        text-align: right;\n",
       "    }\n",
       "</style>\n",
       "<table border=\"1\" class=\"dataframe\">\n",
       "  <thead>\n",
       "    <tr style=\"text-align: right;\">\n",
       "      <th></th>\n",
       "      <th>rule</th>\n",
       "      <th>type</th>\n",
       "      <th>coef</th>\n",
       "      <th>support</th>\n",
       "      <th>importance</th>\n",
       "    </tr>\n",
       "  </thead>\n",
       "  <tbody>\n",
       "    <tr>\n",
       "      <th>9</th>\n",
       "      <td>mon_core_mw</td>\n",
       "      <td>linear</td>\n",
       "      <td>0.026805</td>\n",
       "      <td>1.000000</td>\n",
       "      <td>0.270298</td>\n",
       "    </tr>\n",
       "    <tr>\n",
       "      <th>10</th>\n",
       "      <td>mon_core_apol</td>\n",
       "      <td>linear</td>\n",
       "      <td>0.007982</td>\n",
       "      <td>1.000000</td>\n",
       "      <td>0.018844</td>\n",
       "    </tr>\n",
       "    <tr>\n",
       "      <th>11</th>\n",
       "      <td>mon_core_mv</td>\n",
       "      <td>linear</td>\n",
       "      <td>0.944255</td>\n",
       "      <td>1.000000</td>\n",
       "      <td>0.101864</td>\n",
       "    </tr>\n",
       "    <tr>\n",
       "      <th>127</th>\n",
       "      <td>core_mw_total &lt;= 66026.0 &amp; ratio_vol &gt; 0.27323...</td>\n",
       "      <td>rule</td>\n",
       "      <td>0.170072</td>\n",
       "      <td>0.024490</td>\n",
       "      <td>0.026287</td>\n",
       "    </tr>\n",
       "    <tr>\n",
       "      <th>269</th>\n",
       "      <td>ratio_mass &lt;= 0.26498904824256897 &amp; core_mw_to...</td>\n",
       "      <td>rule</td>\n",
       "      <td>0.891693</td>\n",
       "      <td>0.028571</td>\n",
       "      <td>0.148555</td>\n",
       "    </tr>\n",
       "    <tr>\n",
       "      <th>383</th>\n",
       "      <td>core_mw_total &lt;= 43223.25 &amp; dp_core &gt; 106.0 &amp; ...</td>\n",
       "      <td>rule</td>\n",
       "      <td>0.887803</td>\n",
       "      <td>0.024490</td>\n",
       "      <td>0.137222</td>\n",
       "    </tr>\n",
       "    <tr>\n",
       "      <th>417</th>\n",
       "      <td>conc &gt; 14.25 &amp; core_mw_total &lt;= 15828.89990234...</td>\n",
       "      <td>rule</td>\n",
       "      <td>0.589513</td>\n",
       "      <td>0.085714</td>\n",
       "      <td>0.165029</td>\n",
       "    </tr>\n",
       "    <tr>\n",
       "      <th>422</th>\n",
       "      <td>dp_corona &lt;= 28.5 &amp; core_mw_total &lt;= 43151.960...</td>\n",
       "      <td>rule</td>\n",
       "      <td>0.410419</td>\n",
       "      <td>0.036735</td>\n",
       "      <td>0.077204</td>\n",
       "    </tr>\n",
       "    <tr>\n",
       "      <th>460</th>\n",
       "      <td>clogp_core &lt;= 1.3700000047683716 &amp; mon_core_mv...</td>\n",
       "      <td>rule</td>\n",
       "      <td>2.844037</td>\n",
       "      <td>0.118367</td>\n",
       "      <td>0.918745</td>\n",
       "    </tr>\n",
       "    <tr>\n",
       "      <th>504</th>\n",
       "      <td>dp_core &lt;= 104.5 &amp; core_mv_total &gt; 93.61500167...</td>\n",
       "      <td>rule</td>\n",
       "      <td>0.247197</td>\n",
       "      <td>0.126531</td>\n",
       "      <td>0.082180</td>\n",
       "    </tr>\n",
       "    <tr>\n",
       "      <th>521</th>\n",
       "      <td>clogp_core &lt;= 1.4000000357627869 &amp; core_mv_tot...</td>\n",
       "      <td>rule</td>\n",
       "      <td>0.523035</td>\n",
       "      <td>0.077551</td>\n",
       "      <td>0.139893</td>\n",
       "    </tr>\n",
       "    <tr>\n",
       "      <th>562</th>\n",
       "      <td>corona_mv_total &gt; 46.47684860229492 &amp; ratio_ma...</td>\n",
       "      <td>rule</td>\n",
       "      <td>0.962439</td>\n",
       "      <td>0.759184</td>\n",
       "      <td>0.411519</td>\n",
       "    </tr>\n",
       "    <tr>\n",
       "      <th>573</th>\n",
       "      <td>corona_mv_total &lt;= 57.2101993560791 &amp; corona_m...</td>\n",
       "      <td>rule</td>\n",
       "      <td>1.119143</td>\n",
       "      <td>0.093878</td>\n",
       "      <td>0.326407</td>\n",
       "    </tr>\n",
       "    <tr>\n",
       "      <th>591</th>\n",
       "      <td>core_mv_total &gt; 139.16549682617188 &amp; corona_mv...</td>\n",
       "      <td>rule</td>\n",
       "      <td>0.327536</td>\n",
       "      <td>0.285714</td>\n",
       "      <td>0.147966</td>\n",
       "    </tr>\n",
       "    <tr>\n",
       "      <th>648</th>\n",
       "      <td>temp &gt; 47.0 &amp; mon_core_mw &gt; 143.97650146484375...</td>\n",
       "      <td>rule</td>\n",
       "      <td>0.138522</td>\n",
       "      <td>0.126531</td>\n",
       "      <td>0.046051</td>\n",
       "    </tr>\n",
       "    <tr>\n",
       "      <th>669</th>\n",
       "      <td>core_mv_total &gt; 100.13249969482422 &amp; core_mw_t...</td>\n",
       "      <td>rule</td>\n",
       "      <td>0.399057</td>\n",
       "      <td>0.126531</td>\n",
       "      <td>0.132665</td>\n",
       "    </tr>\n",
       "    <tr>\n",
       "      <th>718</th>\n",
       "      <td>mon_core_psa &lt;= 47.144775390625 &amp; core_mv_tota...</td>\n",
       "      <td>rule</td>\n",
       "      <td>0.540273</td>\n",
       "      <td>0.110204</td>\n",
       "      <td>0.169183</td>\n",
       "    </tr>\n",
       "    <tr>\n",
       "      <th>892</th>\n",
       "      <td>dp_core &lt;= 383.5 &amp; ratio_vol &lt;= 0.236162014305...</td>\n",
       "      <td>rule</td>\n",
       "      <td>0.117027</td>\n",
       "      <td>0.420408</td>\n",
       "      <td>0.057767</td>\n",
       "    </tr>\n",
       "    <tr>\n",
       "      <th>959</th>\n",
       "      <td>dp_corona &gt; 29.5 &amp; core_mw_total &lt;= 16403.6704...</td>\n",
       "      <td>rule</td>\n",
       "      <td>0.507725</td>\n",
       "      <td>0.048980</td>\n",
       "      <td>0.109580</td>\n",
       "    </tr>\n",
       "    <tr>\n",
       "      <th>1010</th>\n",
       "      <td>clogp_core &lt;= 1.7599999904632568 &amp; dp_core &gt; 1...</td>\n",
       "      <td>rule</td>\n",
       "      <td>1.580256</td>\n",
       "      <td>0.081633</td>\n",
       "      <td>0.432681</td>\n",
       "    </tr>\n",
       "    <tr>\n",
       "      <th>1042</th>\n",
       "      <td>dp_corona &gt; 54.5 &amp; mon_core_mw &gt; 143.976501464...</td>\n",
       "      <td>rule</td>\n",
       "      <td>0.337700</td>\n",
       "      <td>0.248980</td>\n",
       "      <td>0.146029</td>\n",
       "    </tr>\n",
       "    <tr>\n",
       "      <th>1066</th>\n",
       "      <td>dp_core &gt; 104.0 &amp; dp_core &gt; 122.5 &amp; dp_corona ...</td>\n",
       "      <td>rule</td>\n",
       "      <td>0.499259</td>\n",
       "      <td>0.636735</td>\n",
       "      <td>0.240114</td>\n",
       "    </tr>\n",
       "    <tr>\n",
       "      <th>1081</th>\n",
       "      <td>core_mv_total &gt; 153.08204650878906 &amp; clogp_cor...</td>\n",
       "      <td>rule</td>\n",
       "      <td>1.947401</td>\n",
       "      <td>0.110204</td>\n",
       "      <td>0.609817</td>\n",
       "    </tr>\n",
       "    <tr>\n",
       "      <th>1112</th>\n",
       "      <td>core_mw_total &lt;= 59022.701171875 &amp; ratio_vol &gt;...</td>\n",
       "      <td>rule</td>\n",
       "      <td>1.146811</td>\n",
       "      <td>0.089796</td>\n",
       "      <td>0.327861</td>\n",
       "    </tr>\n",
       "    <tr>\n",
       "      <th>1134</th>\n",
       "      <td>conc &gt; 14.25 &amp; ratio_vol &gt; 0.16314242035150528...</td>\n",
       "      <td>rule</td>\n",
       "      <td>0.611117</td>\n",
       "      <td>0.040816</td>\n",
       "      <td>0.120918</td>\n",
       "    </tr>\n",
       "    <tr>\n",
       "      <th>1181</th>\n",
       "      <td>core_mv_total &gt; 78.70605087280273 &amp; ratio_vol ...</td>\n",
       "      <td>rule</td>\n",
       "      <td>0.467795</td>\n",
       "      <td>0.400000</td>\n",
       "      <td>0.229172</td>\n",
       "    </tr>\n",
       "    <tr>\n",
       "      <th>1224</th>\n",
       "      <td>mon_core_psa &lt;= 47.144775390625 &amp; dp_corona &gt; ...</td>\n",
       "      <td>rule</td>\n",
       "      <td>0.749031</td>\n",
       "      <td>0.081633</td>\n",
       "      <td>0.205088</td>\n",
       "    </tr>\n",
       "    <tr>\n",
       "      <th>1225</th>\n",
       "      <td>dp_core &gt; 109.0 &amp; conc &lt;= 14.5 &amp; charged &gt; 0.5...</td>\n",
       "      <td>rule</td>\n",
       "      <td>0.121076</td>\n",
       "      <td>0.102041</td>\n",
       "      <td>0.036650</td>\n",
       "    </tr>\n",
       "    <tr>\n",
       "      <th>1301</th>\n",
       "      <td>mon_core_mw &lt;= 145.30955505371094 &amp; dp_core &gt; ...</td>\n",
       "      <td>rule</td>\n",
       "      <td>0.172779</td>\n",
       "      <td>0.244898</td>\n",
       "      <td>0.074300</td>\n",
       "    </tr>\n",
       "    <tr>\n",
       "      <th>1417</th>\n",
       "      <td>ratio_vol &gt; 0.17568142712116241 &amp; mon_core_mw ...</td>\n",
       "      <td>rule</td>\n",
       "      <td>1.125266</td>\n",
       "      <td>0.608163</td>\n",
       "      <td>0.549310</td>\n",
       "    </tr>\n",
       "    <tr>\n",
       "      <th>1479</th>\n",
       "      <td>dp_corona &lt;= 28.5 &amp; core_mv_total &lt;= 471.03750...</td>\n",
       "      <td>rule</td>\n",
       "      <td>1.099856</td>\n",
       "      <td>0.130612</td>\n",
       "      <td>0.370625</td>\n",
       "    </tr>\n",
       "    <tr>\n",
       "      <th>1490</th>\n",
       "      <td>corona_mv_total &lt;= 75.16975021362305 &amp; ratio_v...</td>\n",
       "      <td>rule</td>\n",
       "      <td>0.490750</td>\n",
       "      <td>0.163265</td>\n",
       "      <td>0.181385</td>\n",
       "    </tr>\n",
       "  </tbody>\n",
       "</table>\n",
       "</div>"
      ],
      "text/plain": [
       "                                                   rule    type      coef  \\\n",
       "9                                           mon_core_mw  linear  0.026805   \n",
       "10                                        mon_core_apol  linear  0.007982   \n",
       "11                                          mon_core_mv  linear  0.944255   \n",
       "127   core_mw_total <= 66026.0 & ratio_vol > 0.27323...    rule  0.170072   \n",
       "269   ratio_mass <= 0.26498904824256897 & core_mw_to...    rule  0.891693   \n",
       "383   core_mw_total <= 43223.25 & dp_core > 106.0 & ...    rule  0.887803   \n",
       "417   conc > 14.25 & core_mw_total <= 15828.89990234...    rule  0.589513   \n",
       "422   dp_corona <= 28.5 & core_mw_total <= 43151.960...    rule  0.410419   \n",
       "460   clogp_core <= 1.3700000047683716 & mon_core_mv...    rule  2.844037   \n",
       "504   dp_core <= 104.5 & core_mv_total > 93.61500167...    rule  0.247197   \n",
       "521   clogp_core <= 1.4000000357627869 & core_mv_tot...    rule  0.523035   \n",
       "562   corona_mv_total > 46.47684860229492 & ratio_ma...    rule  0.962439   \n",
       "573   corona_mv_total <= 57.2101993560791 & corona_m...    rule  1.119143   \n",
       "591   core_mv_total > 139.16549682617188 & corona_mv...    rule  0.327536   \n",
       "648   temp > 47.0 & mon_core_mw > 143.97650146484375...    rule  0.138522   \n",
       "669   core_mv_total > 100.13249969482422 & core_mw_t...    rule  0.399057   \n",
       "718   mon_core_psa <= 47.144775390625 & core_mv_tota...    rule  0.540273   \n",
       "892   dp_core <= 383.5 & ratio_vol <= 0.236162014305...    rule  0.117027   \n",
       "959   dp_corona > 29.5 & core_mw_total <= 16403.6704...    rule  0.507725   \n",
       "1010  clogp_core <= 1.7599999904632568 & dp_core > 1...    rule  1.580256   \n",
       "1042  dp_corona > 54.5 & mon_core_mw > 143.976501464...    rule  0.337700   \n",
       "1066  dp_core > 104.0 & dp_core > 122.5 & dp_corona ...    rule  0.499259   \n",
       "1081  core_mv_total > 153.08204650878906 & clogp_cor...    rule  1.947401   \n",
       "1112  core_mw_total <= 59022.701171875 & ratio_vol >...    rule  1.146811   \n",
       "1134  conc > 14.25 & ratio_vol > 0.16314242035150528...    rule  0.611117   \n",
       "1181  core_mv_total > 78.70605087280273 & ratio_vol ...    rule  0.467795   \n",
       "1224  mon_core_psa <= 47.144775390625 & dp_corona > ...    rule  0.749031   \n",
       "1225  dp_core > 109.0 & conc <= 14.5 & charged > 0.5...    rule  0.121076   \n",
       "1301  mon_core_mw <= 145.30955505371094 & dp_core > ...    rule  0.172779   \n",
       "1417  ratio_vol > 0.17568142712116241 & mon_core_mw ...    rule  1.125266   \n",
       "1479  dp_corona <= 28.5 & core_mv_total <= 471.03750...    rule  1.099856   \n",
       "1490  corona_mv_total <= 75.16975021362305 & ratio_v...    rule  0.490750   \n",
       "\n",
       "       support  importance  \n",
       "9     1.000000    0.270298  \n",
       "10    1.000000    0.018844  \n",
       "11    1.000000    0.101864  \n",
       "127   0.024490    0.026287  \n",
       "269   0.028571    0.148555  \n",
       "383   0.024490    0.137222  \n",
       "417   0.085714    0.165029  \n",
       "422   0.036735    0.077204  \n",
       "460   0.118367    0.918745  \n",
       "504   0.126531    0.082180  \n",
       "521   0.077551    0.139893  \n",
       "562   0.759184    0.411519  \n",
       "573   0.093878    0.326407  \n",
       "591   0.285714    0.147966  \n",
       "648   0.126531    0.046051  \n",
       "669   0.126531    0.132665  \n",
       "718   0.110204    0.169183  \n",
       "892   0.420408    0.057767  \n",
       "959   0.048980    0.109580  \n",
       "1010  0.081633    0.432681  \n",
       "1042  0.248980    0.146029  \n",
       "1066  0.636735    0.240114  \n",
       "1081  0.110204    0.609817  \n",
       "1112  0.089796    0.327861  \n",
       "1134  0.040816    0.120918  \n",
       "1181  0.400000    0.229172  \n",
       "1224  0.081633    0.205088  \n",
       "1225  0.102041    0.036650  \n",
       "1301  0.244898    0.074300  \n",
       "1417  0.608163    0.549310  \n",
       "1479  0.130612    0.370625  \n",
       "1490  0.163265    0.181385  "
      ]
     },
     "execution_count": 175,
     "metadata": {},
     "output_type": "execute_result"
    }
   ],
   "source": [
    "import data1 as data\n",
    "from realkd.patch import RuleFit\n",
    "\n",
    "x = data.x.filter(data.predictors, axis=1)\n",
    "y = data.sphere\n",
    "\n",
    "rf = RuleFit(rfmode='classify', model_type='rl', Cs=[1])\n",
    "rf.fit(x.values, y.replace(-1, 0), feature_names=x.columns)\n",
    "rules = rf.get_rules()\n",
    "rules = rules[rules['coef'] > 0]\n",
    "rules"
   ]
  },
  {
   "cell_type": "markdown",
   "metadata": {},
   "source": [
    "There are not too many rules and they can be ordered by importance, which is nice for interpretability. One thing that is confusing is that there are only positive coefficients.\n",
    "\n",
    "Let us ignore this for now and investigate how well these models fit the data (as a function of the number of rules). Note that the parameter `Cs` can be used to give different options for regularisation. Generally, higher C-values lead to more rules. Presumably, when more than one C-value is provided, the best is determined via internal cross-validation.\n",
    "\n",
    "First we produce a baseline accuracy with a random forest. Then we try out various C-values (not leaving the choice to RuleFit but providing one at a time to be able to see the effect of the different choices).\n",
    "\n",
    "We use cross validation to get unbiased results of relatively low variance."
   ]
  },
  {
   "cell_type": "code",
   "execution_count": 163,
   "metadata": {},
   "outputs": [
    {
     "data": {
      "text/plain": [
       "0.920175438596491"
      ]
     },
     "execution_count": 163,
     "metadata": {},
     "output_type": "execute_result"
    }
   ],
   "source": [
    "from sklearn.model_selection import cross_validate, KFold\n",
    "from sklearn.ensemble import RandomForestClassifier\n",
    "\n",
    "K = 30\n",
    "cv = KFold(K, shuffle=True, random_state=0)\n",
    "\n",
    "forest = RandomForestClassifier()\n",
    "forest_results = cross_validate(forest, x, y, cv=cv, scoring=['accuracy', 'neg_log_loss'], return_estimator=True, return_train_score=True)\n",
    "\n",
    "forest_results['test_accuracy'].mean()"
   ]
  },
  {
   "cell_type": "code",
   "execution_count": 145,
   "metadata": {},
   "outputs": [],
   "source": [
    "import numpy as np\n",
    "\n",
    "Cs = [0.1, 0.5, 1, 2, 10]\n",
    "\n",
    "rulefits = [RuleFit(rfmode='classify', model_type='rl', Cs=[C]) for C in Cs]\n",
    "rulefit_results = []\n",
    "for i in range(len(Cs)):\n",
    "    rulefit_results.append(cross_validate(rulefits[i], x.values, y.replace(-1, 0), cv=cv, scoring=['accuracy'], return_estimator=True, return_train_score=True))\n",
    "    rulefit_results[-1]['num_rules'] = np.array([(est.get_rules()['coef'] > 0).sum() for est in rulefit_results[-1]['estimator']])"
   ]
  },
  {
   "cell_type": "code",
   "execution_count": 173,
   "metadata": {},
   "outputs": [
    {
     "data": {
      "image/png": "[encoded data removed]",
      "text/plain": [
       "<Figure size 432x288 with 1 Axes>"
      ]
     },
     "metadata": {
      "needs_background": "light"
     },
     "output_type": "display_data"
    }
   ],
   "source": [
    "from matplotlib import pyplot as plt\n",
    "\n",
    "k = [res['num_rules'].mean() for res in rulefit_results]\n",
    "err = [1-res['test_accuracy'].mean() for res in rulefit_results]\n",
    "plt.plot(k, err, marker='o', label='RuleFit')\n",
    "k_min = min(k) // 1\n",
    "k_max = round(max(k) + 0.5)\n",
    "plt.plot([k_min, k_max], [1-forest_results['test_accuracy'].mean(), 1-forest_results['test_accuracy'].mean()], label='Random Forest')\n",
    "# plt.plot([k_min, k_max], [1-forest_results['train_accuracy'].mean(), 1-forest_results['train_accuracy'].mean()])\n",
    "plt.xlim(k_min, k_max)\n",
    "plt.xlabel('num. rules')\n",
    "plt.ylabel('test error')\n",
    "plt.legend()\n",
    "plt.show()"
   ]
  },
  {
   "cell_type": "markdown",
   "metadata": {},
   "source": [
    "## Rule Boosting\n",
    "\n",
    "An alternative approach to fitting a rule-based model is rule boosting."
   ]
  },
  {
   "cell_type": "code",
   "execution_count": 176,
   "metadata": {},
   "outputs": [
    {
     "name": "stdout",
     "output_type": "stream",
     "text": [
      "   +1.4059 if conc<=20.0 & corona_mv_total>=82.15284000000001 & mon_core_psa<=46.53\n",
      "   +1.6639 if mon_core_mw>=158.09 & mon_corona_apol>=23.529516\n",
      "   -1.3778 if clogp_core<=1.12 & conc>=10.0 & corona_mv_total<=82.15284000000001 & dp_core>=104.2 & mon_core_psa<=46.53 & mon_corona_mw<=160.07\n",
      "   +1.5082 if corona_mv_total>=46.200880000000005 & dp_corona<=78.0 & ratio_mass>=0.315052864 & ratio_vol>=0.300180918\n",
      "   +2.8912 if core_mw_total>=16606.602 & corona_mv_total>=58.4539 & mon_corona_mw<=108.02 & mon_corona_psa<=26.3\n"
     ]
    },
    {
     "data": {
      "text/plain": [
       "RuleBoostingEstimator(max_rules=5, base_learner=XGBRuleEstimator(reg=1, loss=logistic))"
      ]
     },
     "execution_count": 176,
     "metadata": {},
     "output_type": "execute_result"
    }
   ],
   "source": [
    "from realkd.rules import RuleBoostingEstimator, XGBRuleEstimator\n",
    "\n",
    "re = RuleBoostingEstimator(num_rules=5, base_learner=XGBRuleEstimator(loss='logistic', reg=1, search='greedy', search_params={'max_col_attributes': 20}), verbose=True)\n",
    "re.fit(x, y)"
   ]
  },
  {
   "cell_type": "code",
   "execution_count": 179,
   "metadata": {},
   "outputs": [],
   "source": [
    "re.num_rules += 10"
   ]
  },
  {
   "cell_type": "code",
   "execution_count": 177,
   "metadata": {},
   "outputs": [
    {
     "data": {
      "text/plain": [
       "0.7584459459459459"
      ]
     },
     "execution_count": 177,
     "metadata": {},
     "output_type": "execute_result"
    }
   ],
   "source": [
    "from sklearn.metrics import accuracy_score\n",
    "\n",
    "accuracy_score(y, re.predict(x))"
   ]
  },
  {
   "cell_type": "code",
   "execution_count": 180,
   "metadata": {},
   "outputs": [
    {
     "name": "stdout",
     "output_type": "stream",
     "text": [
      "   +1.4288 if charged>=1 & mon_corona_psa<=26.3\n",
      "   -1.1338 if conc>=13.0 & corona_mw_total>=7523.29 & dp_corona<=78.0 & mon_core_mw<=144.08 & mon_corona_psa>=66.76 & ratio_mass<=0.315052864\n",
      "   +1.5289 if charged>=1 & clogp_core>=1.1 & conc<=20.0 & core_mw_total<=52805.856 & corona_mw_total<=9604.2 & ratio_vol<=0.300180918 & salt<=0.1 & temp>=70.0\n",
      "   +1.7034 if core_mw_total<=26467.308 & dp_corona>=78.0\n",
      "   +1.3769 if core_mv_total<=136.8531 & mon_core_mw>=158.09\n",
      "   -0.8054 if conc<=20.0 & conc>=10.0 & corona_mw_total<=9604.2 & mon_core_mw<=144.08 & mon_corona_apol<=23.529516 & ph<=7.0\n",
      "   +1.2593 if conc<=13.0 & conc>=10.0 & dp_corona>=78.0 & ratio_mass<=0.315052864 & ratio_mass>=0.1361396068\n",
      "   +1.0785 if corona_mv_total>=46.200880000000005 & corona_mw_total<=10606.18 & dp_core<=104.2\n",
      "   +0.7182 if core_mw_total>=52805.856 & dp_core>=353.6 & mon_core_mw>=144.08 & mon_corona_mw<=279.11\n",
      "   -0.8743 if clogp_corona<=0.09 & conc>=20.0 & dp_core>=104.2 & dp_corona<=78.0 & mon_core_psa>=46.17 & ratio_vol<=0.300180918\n"
     ]
    },
    {
     "data": {
      "text/plain": [
       "RuleBoostingEstimator(max_rules=15, base_learner=XGBRuleEstimator(reg=1, loss=logistic))"
      ]
     },
     "execution_count": 180,
     "metadata": {},
     "output_type": "execute_result"
    }
   ],
   "source": [
    "re.fit(x, y)"
   ]
  },
  {
   "cell_type": "code",
   "execution_count": 181,
   "metadata": {},
   "outputs": [
    {
     "data": {
      "text/plain": [
       "0.875"
      ]
     },
     "execution_count": 181,
     "metadata": {},
     "output_type": "execute_result"
    }
   ],
   "source": [
    "accuracy_score(y, re.predict(x))"
   ]
  }
 ],
 "metadata": {
  "interpreter": {
   "hash": "aee8b7b246df8f9039afb4144a1f6fd8d2ca17a180786b69acc140d282b71a49"
  },
  "kernelspec": {
   "display_name": "Python 3.7.7 64-bit",
   "name": "python3"
  },
  "language_info": {
   "codemirror_mode": {
    "name": "ipython",
    "version": 3
   },
   "file_extension": ".py",
   "mimetype": "text/x-python",
   "name": "python",
   "nbconvert_exporter": "python",
   "pygments_lexer": "ipython3",
   "version": "3.7.7"
  },
  "metadata": {
   "interpreter": {
    "hash": "aee8b7b246df8f9039afb4144a1f6fd8d2ca17a180786b69acc140d282b71a49"
   }
  },
  "orig_nbformat": 2
 },
 "nbformat": 4,
 "nbformat_minor": 2
}
