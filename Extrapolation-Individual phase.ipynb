{
 "cells": [
  {
   "cell_type": "code",
   "execution_count": 12,
   "metadata": {},
   "outputs": [],
   "source": [
    "import data1 as data\n",
    "import random\n",
    "from common import *\n",
    "from rules import *\n",
    "from realkd.patch import RuleFit\n",
    "from sklearn.model_selection import cross_validate, KFold\n",
    "from sklearn.ensemble import RandomForestClassifier\n",
    "from sklearn.model_selection import LeaveOneOut\n",
    "import numpy as np\n",
    "import matplotlib.colors as mcolors\n"
   ]
  },
  {
   "cell_type": "code",
   "execution_count": 2,
   "metadata": {},
   "outputs": [],
   "source": [
    "import warnings\n",
    "warnings.filterwarnings(\"ignore\")"
   ]
  },
  {
   "cell_type": "markdown",
   "metadata": {},
   "source": [
    "## Full phase prediction\n"
   ]
  },
  {
   "cell_type": "code",
   "execution_count": 3,
   "metadata": {},
   "outputs": [],
   "source": [
    "from sklearn.linear_model import LogisticRegressionCV\n",
    "from sklearn.multioutput import ClassifierChain\n",
    "from multilabel import BinaryRelevanceClassifier, ProbabilisticClassifierChain\n",
    "from gam import LogisticGAM\n",
    "\n",
    "STATE = np.random.RandomState(seed=1000)\n",
    "\n",
    "lr = LogisticRegressionCV(penalty='l1', solver='saga', random_state=STATE)\n",
    "lr_ind = BinaryRelevanceClassifier(lr)\n",
    "lr_chain = ClassifierChain(lr, order=[0, 1, 2])\n",
    "lr_pcc = ProbabilisticClassifierChain(lr) \n",
    "\n",
    "# gams not fixed, remove this part.\n",
    "# gam_ind = BinaryRelevanceClassifier(LogisticGAM(lam=20.0, max_iter=250))\n",
    "# gam_chain = ClassifierChain(LogisticGAM(lam=20.0, max_iter=250))\n",
    "# gam_pcc = ProbabilisticClassifierChain(LogisticGAM(lam=20.0, max_iter=250)) \n",
    "\n",
    "rf = RandomForestClassifier(random_state=STATE, min_samples_leaf=1, n_estimators=100)\n",
    "rf_ind = BinaryRelevanceClassifier(rf)\n",
    "rf_chain = ClassifierChain(rf, order=[0, 2, 1])\n",
    "rf_pcc = ProbabilisticClassifierChain(rf)\n",
    "\n",
    "# Rulefit\n",
    "rufit_pcc = RuleFitWrapper()\n",
    "\n",
    "indi_estimators = [lr, rf, rufit_pcc]\n",
    "indi_names = ['LR', 'RF', 'rufit_pcc']"
   ]
  },
  {
   "cell_type": "markdown",
   "metadata": {},
   "source": [
    "This following code under \"2.6 GHz 6-Core Intel Core i7\" runs ~5 hours. You can simply use saved result to re-run the result."
   ]
  },
  {
   "cell_type": "code",
   "execution_count": 7,
   "metadata": {},
   "outputs": [
    {
     "name": "stdout",
     "output_type": "stream",
     "text": [
      "Target:  sphere\n",
      "Running experiment with 37 repetitions\n",
      "======================================\n",
      "*************************************\n",
      "Running experiment with 37 repetitions\n",
      "======================================\n",
      "*************************************\n",
      "\n",
      "Target:  vesicle\n",
      "Running experiment with 37 repetitions\n",
      "======================================\n",
      "*************************************\n",
      "Running experiment with 37 repetitions\n",
      "======================================\n",
      "*************************************\n",
      "\n",
      "Target:  worm\n",
      "Running experiment with 37 repetitions\n",
      "======================================\n",
      "*************************************\n",
      "Running experiment with 37 repetitions\n",
      "======================================\n",
      "*************************************\n",
      "\n"
     ]
    }
   ],
   "source": [
    "from common import Experiment, LogLikelihoodEvaluator\n",
    "from sklearn.model_selection import KFold\n",
    "from common import ExtrapolationExperiment, sample_size, GroupDescription\n",
    "from sklearn.model_selection import GroupKFold\n",
    "from sklearn.metrics import accuracy_score\n",
    "\n",
    "extra_no_comp = {}\n",
    "\n",
    "for y in [data.sphere, data.vesicle, data.worm]:\n",
    "    print('Target: ',y.name)\n",
    "    experiment = ExtrapolationExperiment(indi_estimators, \n",
    "                                        indi_names,\n",
    "                                        data.x, y.replace(-1, 0), data.comp_ids.values,\n",
    "                                        score=['accuracy', LogLikelihoodEvaluator(2, neg=True), \n",
    "                                               sample_size,\n",
    "                                               GroupDescription(data.comp_descr, 'composition')]).run()\n",
    "\n",
    "    extra_no_comp[y.name] = experiment.run()\n",
    "    print()\n"
   ]
  },
  {
   "cell_type": "code",
   "execution_count": 8,
   "metadata": {},
   "outputs": [],
   "source": [
    "# import pickle\n",
    "# # cur_save=open('./' + 'extra_37folder_indi' + '.p', 'rb')\n",
    "# # extra_no_comp = pickle.load(cur_save)"
   ]
  },
  {
   "cell_type": "code",
   "execution_count": 14,
   "metadata": {},
   "outputs": [],
   "source": [
    "def plot_summary(metric, summ, num_reps=30, baseline=None, names=None, colors = list(mcolors.BASE_COLORS.keys())):\n",
    "    width = 0.35\n",
    "    ind = np.arange(len(summ))\n",
    "    plt.bar(ind-width/2, summ[f'mean_train_{metric}'], width=width, label='train', \n",
    "            yerr=summ[f'std_train_{metric}']/num_reps**0.5, capsize=3.0)\n",
    "    plt.bar(ind+width/2, summ[f'mean_test_{metric}'], width=width, label='test',\n",
    "            yerr=summ[f'std_test_{metric}']/num_reps**0.5, capsize=3.0)\n",
    "    if baseline:\n",
    "        for i in range(len(baseline)):\n",
    "            plt.axhline(y=baseline[i], color=colors[i], linestyle='-', label=names[i])\n",
    "    plt.ylabel(metric)\n",
    "    plt.legend()\n",
    "    plt.xticks(ind, summ.index)\n",
    "    \n",
    "for key in extra_no_comp:\n",
    "    df = extra_no_comp[key].summary()\n",
    "    df['mean_train_error'] = 1- df['mean_train_accuracy']\n",
    "    df['std_train_error'] = df['std_train_accuracy']\n",
    "    df['mean_test_error'] = 1- df['mean_test_accuracy']\n",
    "    df['std_test_error'] = df['std_test_accuracy']\n",
    "    extra_no_comp[key] = df"
   ]
  },
  {
   "cell_type": "code",
   "execution_count": 15,
   "metadata": {},
   "outputs": [
    {
     "name": "stdout",
     "output_type": "stream",
     "text": [
      "Informed error:  [0.46283783783783783, 0.2922297297297297, 0.33783783783783783]\n",
      "Uninformed error:  [0.5, 0.5, 0.5]\n"
     ]
    }
   ],
   "source": [
    "# get base line \n",
    "# error\n",
    "informed_error = []\n",
    "for each in [data.sphere, data.vesicle, data.worm]:\n",
    "    uniq, cnt = np.unique(each, return_counts=True)\n",
    "    prob = cnt/sum(cnt)\n",
    "    informed_error.append((1-max(prob)))\n",
    "print('Informed error: ', informed_error)\n",
    "\n",
    "uniformed_error = [0.5, 0.5, 0.5]\n",
    "print('Uninformed error: ', uniformed_error)"
   ]
  },
  {
   "cell_type": "code",
   "execution_count": 16,
   "metadata": {},
   "outputs": [
    {
     "data": {
      "text/html": [
       "<div>\n",
       "<style scoped>\n",
       "    .dataframe tbody tr th:only-of-type {\n",
       "        vertical-align: middle;\n",
       "    }\n",
       "\n",
       "    .dataframe tbody tr th {\n",
       "        vertical-align: top;\n",
       "    }\n",
       "\n",
       "    .dataframe thead th {\n",
       "        text-align: right;\n",
       "    }\n",
       "</style>\n",
       "<table border=\"1\" class=\"dataframe\">\n",
       "  <thead>\n",
       "    <tr style=\"text-align: right;\">\n",
       "      <th></th>\n",
       "      <th>mean_train_accuracy</th>\n",
       "      <th>std_train_accuracy</th>\n",
       "      <th>mean_test_accuracy</th>\n",
       "      <th>std_test_accuracy</th>\n",
       "      <th>mean_train_log loss</th>\n",
       "      <th>std_train_log loss</th>\n",
       "      <th>mean_test_log loss</th>\n",
       "      <th>std_test_log loss</th>\n",
       "      <th>mean_train_size</th>\n",
       "      <th>std_train_size</th>\n",
       "      <th>mean_test_size</th>\n",
       "      <th>std_test_size</th>\n",
       "      <th>mean_train_error</th>\n",
       "      <th>std_train_error</th>\n",
       "      <th>mean_test_error</th>\n",
       "      <th>std_test_error</th>\n",
       "    </tr>\n",
       "  </thead>\n",
       "  <tbody>\n",
       "    <tr>\n",
       "      <th>LR</th>\n",
       "      <td>0.634132</td>\n",
       "      <td>0.016691</td>\n",
       "      <td>0.662511</td>\n",
       "      <td>0.365846</td>\n",
       "      <td>0.837080</td>\n",
       "      <td>0.009232</td>\n",
       "      <td>0.781263</td>\n",
       "      <td>0.376763</td>\n",
       "      <td>576.0</td>\n",
       "      <td>25.69479</td>\n",
       "      <td>16.0</td>\n",
       "      <td>25.69479</td>\n",
       "      <td>0.365868</td>\n",
       "      <td>0.016691</td>\n",
       "      <td>0.337489</td>\n",
       "      <td>0.365846</td>\n",
       "    </tr>\n",
       "    <tr>\n",
       "      <th>RF</th>\n",
       "      <td>1.000000</td>\n",
       "      <td>0.000000</td>\n",
       "      <td>0.814256</td>\n",
       "      <td>0.255118</td>\n",
       "      <td>0.078534</td>\n",
       "      <td>0.002129</td>\n",
       "      <td>0.775352</td>\n",
       "      <td>1.477459</td>\n",
       "      <td>576.0</td>\n",
       "      <td>25.69479</td>\n",
       "      <td>16.0</td>\n",
       "      <td>25.69479</td>\n",
       "      <td>0.000000</td>\n",
       "      <td>0.000000</td>\n",
       "      <td>0.185744</td>\n",
       "      <td>0.255118</td>\n",
       "    </tr>\n",
       "    <tr>\n",
       "      <th>rufit_pcc</th>\n",
       "      <td>0.987635</td>\n",
       "      <td>0.002950</td>\n",
       "      <td>0.768622</td>\n",
       "      <td>0.294646</td>\n",
       "      <td>0.105359</td>\n",
       "      <td>0.005786</td>\n",
       "      <td>1.134954</td>\n",
       "      <td>1.448602</td>\n",
       "      <td>576.0</td>\n",
       "      <td>25.69479</td>\n",
       "      <td>16.0</td>\n",
       "      <td>25.69479</td>\n",
       "      <td>0.012365</td>\n",
       "      <td>0.002950</td>\n",
       "      <td>0.231378</td>\n",
       "      <td>0.294646</td>\n",
       "    </tr>\n",
       "  </tbody>\n",
       "</table>\n",
       "</div>"
      ],
      "text/plain": [
       "           mean_train_accuracy  std_train_accuracy  mean_test_accuracy  \\\n",
       "LR                    0.634132            0.016691            0.662511   \n",
       "RF                    1.000000            0.000000            0.814256   \n",
       "rufit_pcc             0.987635            0.002950            0.768622   \n",
       "\n",
       "           std_test_accuracy  mean_train_log loss  std_train_log loss  \\\n",
       "LR                  0.365846             0.837080            0.009232   \n",
       "RF                  0.255118             0.078534            0.002129   \n",
       "rufit_pcc           0.294646             0.105359            0.005786   \n",
       "\n",
       "           mean_test_log loss  std_test_log loss  mean_train_size  \\\n",
       "LR                   0.781263           0.376763            576.0   \n",
       "RF                   0.775352           1.477459            576.0   \n",
       "rufit_pcc            1.134954           1.448602            576.0   \n",
       "\n",
       "           std_train_size  mean_test_size  std_test_size  mean_train_error  \\\n",
       "LR               25.69479            16.0       25.69479          0.365868   \n",
       "RF               25.69479            16.0       25.69479          0.000000   \n",
       "rufit_pcc        25.69479            16.0       25.69479          0.012365   \n",
       "\n",
       "           std_train_error  mean_test_error  std_test_error  \n",
       "LR                0.016691         0.337489        0.365846  \n",
       "RF                0.000000         0.185744        0.255118  \n",
       "rufit_pcc         0.002950         0.231378        0.294646  "
      ]
     },
     "execution_count": 16,
     "metadata": {},
     "output_type": "execute_result"
    }
   ],
   "source": [
    "extra_no_comp[key] # name is wrong. Should be RuFit not Rufit pcc"
   ]
  },
  {
   "cell_type": "code",
   "execution_count": 17,
   "metadata": {},
   "outputs": [
    {
     "name": "stdout",
     "output_type": "stream",
     "text": [
      "sphere \n",
      "\n"
     ]
    },
    {
     "data": {
      "image/png": "[encoded data removed]",
      "text/plain": [
       "<Figure size 432x288 with 1 Axes>"
      ]
     },
     "metadata": {
      "needs_background": "light"
     },
     "output_type": "display_data"
    },
    {
     "name": "stdout",
     "output_type": "stream",
     "text": [
      "vesicle \n",
      "\n"
     ]
    },
    {
     "data": {
      "image/png": "[encoded data removed]",
      "text/plain": [
       "<Figure size 432x288 with 1 Axes>"
      ]
     },
     "metadata": {
      "needs_background": "light"
     },
     "output_type": "display_data"
    },
    {
     "name": "stdout",
     "output_type": "stream",
     "text": [
      "worm \n",
      "\n"
     ]
    },
    {
     "data": {
      "image/png": "[encoded data removed]",
      "text/plain": [
       "<Figure size 432x288 with 1 Axes>"
      ]
     },
     "metadata": {
      "needs_background": "light"
     },
     "output_type": "display_data"
    }
   ],
   "source": [
    "i = 0\n",
    "for key in extra_no_comp:\n",
    "    print(key, '\\n')\n",
    "    line = [informed_error[i], uniformed_error[i]]\n",
    "    plot_summary('error', summ=extra_no_comp[key], baseline=line, names=['Informed', 'Uniformed'])\n",
    "    i += 1\n",
    "    plt.show()"
   ]
  },
  {
   "cell_type": "markdown",
   "metadata": {},
   "source": [
    "__Log loss__\n",
    "\n",
    "All the estimators performs much better than random guessing and informed guessing."
   ]
  },
  {
   "cell_type": "code",
   "execution_count": 32,
   "metadata": {},
   "outputs": [
    {
     "name": "stdout",
     "output_type": "stream",
     "text": [
      "Informed logloss:  [0.9960115235485287, 0.8715841441742509, 0.9227346209530941]\n",
      "Uninformed logloss:  [1.0, 1.0, 1.0]\n"
     ]
    }
   ],
   "source": [
    "# get base line \n",
    "# log loss\n",
    "informed_loglikelihood = []\n",
    "for each in [data.sphere, data.vesicle, data.worm]:\n",
    "    uniq, cnt = np.unique(each, return_counts=True)\n",
    "    prob = cnt/sum(cnt)\n",
    "    probmax = [max(prob), max(prob)]\n",
    "    informed_loglikelihood.append(sum(-1*prob * np.log2(prob)))\n",
    "print('Informed logloss: ', informed_loglikelihood)\n",
    "\n",
    "uniformed_loglikelihood = [-1*0.5 * np.log2(0.5)*2] * 3\n",
    "print('Uninformed logloss: ', uniformed_loglikelihood)"
   ]
  },
  {
   "cell_type": "markdown",
   "metadata": {},
   "source": [
    "__Only vesicle is better than the informed guessing__\n",
    "\n",
    "* Bugs need to fix latter to 1d"
   ]
  },
  {
   "cell_type": "code",
   "execution_count": 33,
   "metadata": {},
   "outputs": [
    {
     "name": "stdout",
     "output_type": "stream",
     "text": [
      "sphere \n",
      "\n"
     ]
    },
    {
     "data": {
      "image/png": "[encoded data removed]",
      "text/plain": [
       "<Figure size 432x288 with 1 Axes>"
      ]
     },
     "metadata": {
      "needs_background": "light"
     },
     "output_type": "display_data"
    },
    {
     "name": "stdout",
     "output_type": "stream",
     "text": [
      "vesicle \n",
      "\n"
     ]
    },
    {
     "data": {
      "image/png": "[encoded data removed]",
      "text/plain": [
       "<Figure size 432x288 with 1 Axes>"
      ]
     },
     "metadata": {
      "needs_background": "light"
     },
     "output_type": "display_data"
    },
    {
     "name": "stdout",
     "output_type": "stream",
     "text": [
      "worm \n",
      "\n"
     ]
    },
    {
     "data": {
      "image/png": "[encoded data removed]",
      "text/plain": [
       "<Figure size 432x288 with 1 Axes>"
      ]
     },
     "metadata": {
      "needs_background": "light"
     },
     "output_type": "display_data"
    }
   ],
   "source": [
    "i = 0\n",
    "for key in extra_no_comp:\n",
    "    print(key, '\\n')\n",
    "    line = [informed_loglikelihood[i], uniformed_loglikelihood[i]]\n",
    "    plot_summary('log loss', summ=extra_no_comp[key], baseline=line, names=['Informed', 'Uniformed'])\n",
    "    i += 1\n",
    "    plt.show()"
   ]
  },
  {
   "cell_type": "code",
   "execution_count": null,
   "metadata": {},
   "outputs": [],
   "source": []
  },
  {
   "cell_type": "code",
   "execution_count": null,
   "metadata": {},
   "outputs": [],
   "source": []
  }
 ],
 "metadata": {
  "kernelspec": {
   "display_name": "Python 3",
   "language": "python",
   "name": "python3"
  },
  "language_info": {
   "codemirror_mode": {
    "name": "ipython",
    "version": 3
   },
   "file_extension": ".py",
   "mimetype": "text/x-python",
   "name": "python",
   "nbconvert_exporter": "python",
   "pygments_lexer": "ipython3",
   "version": "3.8.5"
  }
 },
 "nbformat": 4,
 "nbformat_minor": 5
}
