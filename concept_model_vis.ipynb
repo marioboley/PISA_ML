{
 "cells": [
  {
   "cell_type": "code",
   "execution_count": 4,
   "metadata": {},
   "outputs": [
    {
     "data": {
      "image/png": "[encoded data removed]",
      "text/plain": [
       "<Figure size 144x144 with 1 Axes>"
      ]
     },
     "metadata": {
      "needs_background": "light"
     },
     "output_type": "display_data"
    }
   ],
   "source": [
    "import numpy as np\n",
    "from matplotlib import pyplot as plt\n",
    "\n",
    "x = np.array([\n",
    "    [0.1, 0.9],\n",
    "    [0.2, 0.7],\n",
    "    [0.3, 0.8],\n",
    "    [0.4, 0.6],\n",
    "    [0.6, 0.75],\n",
    "    [0.75, 0.45],\n",
    "    [0.85, 0.6], #\n",
    "    [0.35, 0.1],\n",
    "    [0.5, 0.2],\n",
    "    [0.52, 0.25],\n",
    "    [0.67, 0.65],\n",
    "    [0.69, 0.1],\n",
    "    [0.73, 0.3],\n",
    "    [0.88, 0.69],\n",
    "    [0.93, 0.5]\n",
    "])\n",
    "\n",
    "y = np.array([1, 1, 1, 1, 1, 1, 1, 0, 0, 0, 0, 0, 0, 0, 0])\n",
    "\n",
    "plt.figure(figsize=(2, 2))\n",
    "plt.scatter(x[:, 0][y==1], x[:, 1][y==1])\n",
    "plt.scatter(x[:, 0][y==0], x[:, 1][y==0])\n",
    "plt.xlim(0, 1)\n",
    "plt.ylim(0, 1)\n",
    "plt.show()"
   ]
  },
  {
   "cell_type": "code",
   "execution_count": 2,
   "metadata": {},
   "outputs": [
    {
     "data": {
      "text/plain": [
       "array([[-6.3867975 ,  7.78664672]])"
      ]
     },
     "execution_count": 2,
     "metadata": {},
     "output_type": "execute_result"
    }
   ],
   "source": [
    "from sklearn.linear_model import LogisticRegression\n",
    "\n",
    "linear = LogisticRegression(penalty='none', fit_intercept=False)\n",
    "linear.fit(x, y)\n",
    "linear.coef_"
   ]
  },
  {
   "cell_type": "code",
   "execution_count": 102,
   "metadata": {},
   "outputs": [
    {
     "data": {
      "text/plain": [
       "LogisticGAM(callbacks=[Deviance(), Diffs(), Accuracy()], \n",
       "   fit_intercept=True, max_iter=500, terms=s(0) + s(1) + intercept, \n",
       "   tol=0.0001, verbose=False)"
      ]
     },
     "execution_count": 102,
     "metadata": {},
     "output_type": "execute_result"
    }
   ],
   "source": [
    "from pygam import LogisticGAM\n",
    "from pygam import s\n",
    "\n",
    "lam = np.logspace(-3, 5, 5)\n",
    "lams = [lam] * 2\n",
    "\n",
    "gam = LogisticGAM(s(0, n_splines=10)+s(1, n_splines=10), fit_intercept=True, lam=0.5, max_iter=500)\n",
    "gam.fit(x, y)\n",
    "# gam.gridsearch(x, y, lam=lams)"
   ]
  },
  {
   "cell_type": "code",
   "execution_count": 62,
   "metadata": {},
   "outputs": [
    {
     "data": {
      "text/plain": [
       "array([-0.05867386,  0.01576176,  0.05376369,  0.03727609, -0.01326162,\n",
       "       -0.05710072, -0.07135865, -0.05009172, -0.01371963,  0.03765541,\n",
       "        0.10343198, -0.03810069, -0.12289718, -0.11923871, -0.05025464,\n",
       "        0.03097461,  0.0825764 ,  0.08023679,  0.01088489, -0.09736272,\n",
       "       -0.11974926])"
      ]
     },
     "execution_count": 62,
     "metadata": {},
     "output_type": "execute_result"
    }
   ],
   "source": [
    "gam.coef_"
   ]
  },
  {
   "cell_type": "code",
   "execution_count": 14,
   "metadata": {},
   "outputs": [
    {
     "name": "stdout",
     "output_type": "stream",
     "text": [
      "   +0.8750 if x2>=0.24000000000000002\n",
      "   +0.5561 if x2>=0.24000000000000002\n",
      "   +0.4043 if x2>=0.24000000000000002\n"
     ]
    },
    {
     "data": {
      "text/plain": [
       "RuleBoostingEstimator(max_rules=3, base_learner=XGBRuleEstimator(reg=1.0, loss=logistic))"
      ]
     },
     "execution_count": 14,
     "metadata": {},
     "output_type": "execute_result"
    }
   ],
   "source": [
    "from realkd.rules import RuleBoostingEstimator, XGBRuleEstimator, logistic_loss\n",
    "import pandas as pd\n",
    "\n",
    "x_df = pd.DataFrame(x, columns=['x1', 'x2'])\n",
    "y_df = pd.Series(y)\n",
    "\n",
    "rules = RuleBoostingEstimator(base_learner=XGBRuleEstimator(loss=logistic_loss), verbose=1)\n",
    "rules.fit(x_df, y_df)\n"
   ]
  },
  {
   "cell_type": "code",
   "execution_count": 24,
   "metadata": {},
   "outputs": [
    {
     "data": {
      "text/html": [
       "<div>\n",
       "<style scoped>\n",
       "    .dataframe tbody tr th:only-of-type {\n",
       "        vertical-align: middle;\n",
       "    }\n",
       "\n",
       "    .dataframe tbody tr th {\n",
       "        vertical-align: top;\n",
       "    }\n",
       "\n",
       "    .dataframe thead th {\n",
       "        text-align: right;\n",
       "    }\n",
       "</style>\n",
       "<table border=\"1\" class=\"dataframe\">\n",
       "  <thead>\n",
       "    <tr style=\"text-align: right;\">\n",
       "      <th></th>\n",
       "      <th>rule</th>\n",
       "      <th>type</th>\n",
       "      <th>coef</th>\n",
       "      <th>support</th>\n",
       "      <th>importance</th>\n",
       "    </tr>\n",
       "  </thead>\n",
       "  <tbody>\n",
       "    <tr>\n",
       "      <th>729</th>\n",
       "      <td>x1 &lt;= 0.7400000095367432 &amp; x1 &gt; 0.459999993443...</td>\n",
       "      <td>rule</td>\n",
       "      <td>-1.300655</td>\n",
       "      <td>0.428571</td>\n",
       "      <td>0.643657</td>\n",
       "    </tr>\n",
       "    <tr>\n",
       "      <th>490</th>\n",
       "      <td>x2 &gt; 0.42500001192092896 &amp; x1 &lt;= 0.86500000953...</td>\n",
       "      <td>rule</td>\n",
       "      <td>1.083386</td>\n",
       "      <td>0.571429</td>\n",
       "      <td>0.536137</td>\n",
       "    </tr>\n",
       "    <tr>\n",
       "      <th>551</th>\n",
       "      <td>x1 &lt;= 0.8650000095367432 &amp; x2 &gt; 0.349999994039...</td>\n",
       "      <td>rule</td>\n",
       "      <td>0.922260</td>\n",
       "      <td>0.571429</td>\n",
       "      <td>0.456400</td>\n",
       "    </tr>\n",
       "  </tbody>\n",
       "</table>\n",
       "</div>"
      ],
      "text/plain": [
       "                                                  rule  ... importance\n",
       "729  x1 <= 0.7400000095367432 & x1 > 0.459999993443...  ...   0.643657\n",
       "490  x2 > 0.42500001192092896 & x1 <= 0.86500000953...  ...   0.536137\n",
       "551  x1 <= 0.8650000095367432 & x2 > 0.349999994039...  ...   0.456400\n",
       "\n",
       "[3 rows x 5 columns]"
      ]
     },
     "execution_count": 24,
     "metadata": {},
     "output_type": "execute_result"
    }
   ],
   "source": [
    "from rulefit import RuleFit\n",
    "\n",
    "rules = RuleFit(rfmode='classify', model_type='r')\n",
    "rules.fit(x, y, feature_names=['x1', 'x2'])\n",
    "# rules.get_rules()[rules.get_rules()['coef']>0]\n",
    "\n",
    "\n",
    "rules_ = rules.get_rules()\n",
    "rules_ = rules_[rules_.coef != 0].sort_values(\"importance\", ascending=False)[:3]\n",
    "rules_"
   ]
  },
  {
   "cell_type": "code",
   "execution_count": 40,
   "metadata": {},
   "outputs": [
    {
     "data": {
      "text/plain": [
       "'x1 <= 0.8650000095367432 & x2 > 0.3499999940395355'"
      ]
     },
     "execution_count": 40,
     "metadata": {},
     "output_type": "execute_result"
    }
   ],
   "source": [
    "r3 = rules_.iloc[2]\n",
    "r3.rule"
   ]
  },
  {
   "cell_type": "code",
   "execution_count": 51,
   "metadata": {},
   "outputs": [],
   "source": [
    "def r1(x):\n",
    "    return -1.3*((x[:, 0] <= 0.74) & (x[:, 0] > 0.46))\n",
    "\n",
    "def r2(x):\n",
    "    return 1.8*((x[:, 1] > 0.425) & (x[:,0]<=0.865))\n",
    "\n",
    "def r3(x):\n",
    "    return 0.92*((x[:, 1] > 0.35) & (x[:,0]<=0.865))\n",
    "\n",
    "def f_rules(x):\n",
    "    return r1(x)+r2(x)+r3(x)"
   ]
  },
  {
   "cell_type": "code",
   "execution_count": 160,
   "metadata": {},
   "outputs": [
    {
     "data": {
      "image/png": "[encoded data removed]",
      "text/plain": [
       "<Figure size 864x432 with 15 Axes>"
      ]
     },
     "metadata": {
      "needs_background": "light"
     },
     "output_type": "display_data"
    }
   ],
   "source": [
    "from matplotlib import pyplot as plt\n",
    "from matplotlib.text import Text\n",
    "from common import OUTPUTPATH\n",
    "import os\n",
    "\n",
    "xx1d = np.linspace(0, 1, 50)\n",
    "xx1, xx2 = np.meshgrid(np.linspace(0, 1, 50), np.linspace(0, 1, 50))\n",
    "xx = np.column_stack((xx1.ravel(), xx2.ravel()))\n",
    "\n",
    "def f(x1, x2):\n",
    "    return -6.3867975*x1 + 7.78664672*x2\n",
    "\n",
    "def sigma(a):\n",
    "    return 1/(1+np.exp(-a))\n",
    "\n",
    "def logit(p):\n",
    "    return np.log(p/(1-p))\n",
    "\n",
    "def prepare_xaxis(ax, label, a=0, b=1):\n",
    "    ax.set_xlabel(label, labelpad=-10)\n",
    "    ax.set_xticks([a, b])\n",
    "    ax.set_xlim(a, b)\n",
    "\n",
    "def prepare_yaxis(ax, label, a=0, b=1, pad=-10):\n",
    "    ax.set_ylabel(label, labelpad=pad)\n",
    "    ax.set_yticks([a, b])\n",
    "    ax.set_ylim(a, b)\n",
    "\n",
    "def plot_data(ax):\n",
    "    ax.scatter(x[:, 0][y==1], x[:, 1][y==1], ec='black')\n",
    "    ax.scatter(x[:, 0][y==0], x[:, 1][y==0], ec='black')\n",
    "\n",
    "fig, axs = plt.subplots(3, 5, figsize=(12, 6))\n",
    "fig.tight_layout(w_pad=3.5, pad=1.2) #, rect=(0.05, 0, 1, 1)\n",
    "# fig.subplots_adjust(left=-0.2)\n",
    "axs[0, 0].plot(np.linspace(0, 1, 50), -6.3867975*np.linspace(0, 1, 50))\n",
    "axs[0, 0].scatter(x[:, 0][y==1], -6.3867975*x[:, 0][y==1])\n",
    "axs[0, 0].scatter(x[:, 0][y==0], -6.3867975*x[:, 0][y==0])\n",
    "prepare_xaxis(axs[0, 0], '$x_1$', 0, 1)\n",
    "prepare_yaxis(axs[0, 0], '$f_1(x_1, 0)$', -8, 8, -20)\n",
    "axs[0, 1].plot(np.linspace(0, 1, 50), 7.78664672*np.linspace(0, 1, 50))\n",
    "axs[0, 1].scatter(x[:, 1][y==1], 7.78664672*x[:, 1][y==1])\n",
    "axs[0, 1].scatter(x[:, 1][y==0], 7.78664672*x[:, 1][y==0])\n",
    "prepare_xaxis(axs[0, 1], '$x_2$', 0, 1)\n",
    "prepare_yaxis(axs[0, 1], '$f_2(0, x_2)$', -8, 8, -20)\n",
    "# axs[0, 2].set_visible(False)\n",
    "# axs[0, 2].get_xaxis().set_visible(False)\n",
    "# axs[0, 2].get_yaxis().set_visible(False)\n",
    "axs[0, 2].set_axis_off()\n",
    "\n",
    "axs[0, 3].contourf(xx1, xx2, f(xx1, xx2), levels=50)\n",
    "plot_data(axs[0, 3])\n",
    "prepare_xaxis(axs[0, 3], '$x_1$')\n",
    "prepare_yaxis(axs[0, 3], '$x_2$')\n",
    "\n",
    "axs[0, 4].contourf(xx1, xx2, sigma(f(xx1, xx2)), levels=50, cmap='Reds')\n",
    "plot_data(axs[0, 4])\n",
    "prepare_xaxis(axs[0, 4], '$x_1$')\n",
    "prepare_yaxis(axs[0, 4], '$x_2$')\n",
    "\n",
    "\n",
    "# xx_gam = gam.generate_X_grid(term=0)\n",
    "xx_gam = np.zeros(shape=(100, 2), dtype=float)\n",
    "xx_gam[:, 0] = np.linspace(0, 1, 100)\n",
    "axs[1, 0].plot(xx_gam[:, 0], gam.partial_dependence(0, X=xx_gam))\n",
    "axs[1, 0].scatter(x[:, 0][y==1], gam.partial_dependence(0, X=x[y==1]))\n",
    "axs[1, 0].scatter(x[:, 0][y==0], gam.partial_dependence(0, X=x[y==0]))\n",
    "prepare_xaxis(axs[1, 0], '$x_1$')\n",
    "prepare_yaxis(axs[1, 0], '$f_1(x_1, 0)$', -1.5, 1.5, -28)\n",
    "\n",
    "# xx_gam = gam.generate_X_grid(term=1)\n",
    "xx_gam = np.zeros(shape=(100, 2), dtype=float)\n",
    "xx_gam[:, 1] = np.linspace(0, 1, 100)\n",
    "axs[1, 1].plot(xx_gam[:, 1], gam.partial_dependence(1, X=xx_gam))\n",
    "axs[1, 1].scatter(x[:, 1][y==1], gam.partial_dependence(1, X=x[y==1]))\n",
    "axs[1, 1].scatter(x[:, 1][y==0], gam.partial_dependence(1, X=x[y==0]))\n",
    "prepare_xaxis(axs[1, 1], '$x_2$')\n",
    "prepare_yaxis(axs[1, 1], '$f_2(0, x_2)$', -1.5, 1.5, -28)\n",
    "\n",
    "axs[1, 2].set_visible(False)\n",
    "axs[1, 3].contourf(xx1, xx2, logit(gam.predict_proba(xx)).reshape(50, 50), levels=50)\n",
    "plot_data(axs[1, 3])\n",
    "prepare_xaxis(axs[1, 3], '$x_1$')\n",
    "prepare_yaxis(axs[1, 3], '$x_2$')\n",
    "\n",
    "axs[1, 4].contourf(xx1, xx2, gam.predict_proba(xx).reshape(50, 50), levels=50, cmap='Reds')\n",
    "plot_data(axs[1, 4])\n",
    "prepare_xaxis(axs[1, 4], '$x_1$')\n",
    "prepare_yaxis(axs[1, 4], '$x_2$')\n",
    "\n",
    "axs[2, 0].contourf(xx1, xx2, r1(xx).reshape(50, 50))\n",
    "axs[2, 1].contourf(xx1, xx2, r2(xx).reshape(50, 50))\n",
    "axs[2, 2].contourf(xx1, xx2, r3(xx).reshape(50, 50))\n",
    "axs[2, 3].contourf(xx1, xx2, f_rules(xx).reshape(50, 50))\n",
    "axs[2, 4].contourf(xx1, xx2, sigma(f_rules(xx)).reshape(50, 50), cmap='Reds')\n",
    "for j in range(5):\n",
    "    axs[2, j].scatter(x[:, 0][y==1], x[:, 1][y==1], ec='black')\n",
    "    axs[2, j].scatter(x[:, 0][y==0], x[:, 1][y==0], ec='black')\n",
    "    prepare_xaxis(axs[2, j], '$x_1$')\n",
    "    prepare_yaxis(axs[2, j], '$x_2$')\n",
    "\n",
    "axs[0, 0].set_title(r'$f_1(\\mathbf{x})$', pad=10)\n",
    "axs[0, 1].set_title(r'$f_2(\\mathbf{x})$', pad=10)\n",
    "axs[0, 2].set_title(r'$f_3(\\mathbf{x})$', pad=10)\n",
    "axs[0, 3].set_title(r'$f(\\mathbf{x}) = \\ln \\hat{p}(1 | \\mathbf{x})/\\hat{p}(0 | \\mathbf{x})$', pad=10)\n",
    "axs[0, 4].set_title(r'$\\sigma(f(\\mathbf{x})) = \\hat{p}(1 | \\mathbf{x})$', pad=10)\n",
    "\n",
    "fig.add_artist(Text(0, 0.8245, 'linear', rotation=90, fontsize='large'))\n",
    "fig.add_artist(Text(0, 0.5, 'GAM', rotation=90, fontsize='large'))\n",
    "fig.add_artist(Text(0, 0.18, 'rules', rotation=90, fontsize='large'))\n",
    "fig.add_artist(Text(0.2, 0.825, '+', fontsize='large', fontweight='bold'))\n",
    "fig.add_artist(Text(0.6, 0.825, '=', fontsize='large', fontweight='bold'))\n",
    "fig.add_artist(Text(0.2, 0.5, '+', fontsize='large', fontweight='bold'))\n",
    "fig.add_artist(Text(0.6, 0.5, '=', fontsize='large', fontweight='bold'))\n",
    "fig.add_artist(Text(0.2, 0.18, '+', fontsize='large', fontweight='bold'))\n",
    "fig.add_artist(Text(0.4, 0.18, '+', fontsize='large', fontweight='bold'))\n",
    "fig.add_artist(Text(0.6, 0.18, '=', fontsize='large', fontweight='bold'))\n",
    "# fig.add_artist(Text(0.739, 0.55, r'$\\sigma$', fontsize='large', fontweight='bold'))\n",
    "fig.add_artist(Text(0.8, 0.825, r'$\\rightarrow$', fontsize='xx-large', fontweight='bold'))\n",
    "fig.add_artist(Text(0.8, 0.5, r'$\\rightarrow$', fontsize='xx-large', fontweight='bold'))\n",
    "fig.add_artist(Text(0.8, 0.18, r'$\\rightarrow$', fontsize='xx-large', fontweight='bold'))\n",
    "plt.savefig(os.path.join(OUTPUTPATH, 'models_schematic.pdf'), bbox_inches='tight', pad_inches=0)\n",
    "plt.show()"
   ]
  }
 ],
 "metadata": {
  "interpreter": {
   "hash": "aee8b7b246df8f9039afb4144a1f6fd8d2ca17a180786b69acc140d282b71a49"
  },
  "kernelspec": {
   "display_name": "Python 3.9.10 64-bit",
   "language": "python",
   "name": "python3"
  },
  "language_info": {
   "codemirror_mode": {
    "name": "ipython",
    "version": 3
   },
   "file_extension": ".py",
   "mimetype": "text/x-python",
   "name": "python",
   "nbconvert_exporter": "python",
   "pygments_lexer": "ipython3",
   "version": "3.9.10"
  },
  "orig_nbformat": 4
 },
 "nbformat": 4,
 "nbformat_minor": 2
}
