{
 "cells": [
  {
   "cell_type": "code",
   "execution_count": 4,
   "metadata": {},
   "outputs": [
    {
     "name": "stdout",
     "output_type": "stream",
     "text": [
      "all good\n"
     ]
    }
   ],
   "source": [
    "import os\n",
    "if not os.path.exists('common.py'):\n",
    "    print('trying to find project root directory by chaning to parent directory')\n",
    "    os.chdir('..')\n",
    "if os.path.exists('common.py'):\n",
    "    print('all good')\n",
    "else:\n",
    "    print('could not find project root directory')"
   ]
  },
  {
   "cell_type": "code",
   "execution_count": 5,
   "metadata": {},
   "outputs": [],
   "source": [
    "import numpy as np\n",
    "import pandas as pd\n",
    "\n",
    "from common import OUTPUTPATH\n",
    "import data\n",
    "from models import linear_pcc, gam_pcc, rule_fit_pcc, random_forest_pcc\n",
    "from modules.experiments import Experiment, KFold, hamming_loss, error, NegLogLikelihoodEvaluator, ExtrapolationExperiment, GroupKFoldSpecial, GroupDescription\n",
    "\n",
    "indx = data.y[(data.y.sphere == 0) & (data.y.worm == 0) & (data.y.vesicle == 0)& (data.y.other == 0)].index \n",
    "\n",
    "polymers = data.polymers.iloc[~data.polymers.index.isin(indx)]\n",
    "x1 = pd.get_dummies(polymers.filter(data.predictors, axis=1))\n",
    "y = polymers.filter(data.targets, axis=1)\n",
    "comp_ids = polymers.loc[:, data.corona_comp+data.core_comp].apply(data.get_comp_id, axis = 1)"
   ]
  },
  {
   "cell_type": "code",
   "execution_count": null,
   "metadata": {},
   "outputs": [],
   "source": [
    "STATE = np.random.RandomState(seed=1000)\n",
    "full_estimators = [linear_pcc, gam_pcc, rule_fit_pcc, random_forest_pcc]\n",
    "full_names = ['LR', 'GAM', 'RuFit', 'RF']\n",
    "\n",
    "no_assemble_interpolation = Experiment(full_estimators, \n",
    "                            full_names,\n",
    "                            KFold(30, shuffle=True, random_state=STATE),\n",
    "                            x1, y.replace(-1.0, 0.0),\n",
    "                            groups=comp_ids.array,\n",
    "                            evaluators=[hamming_loss, error, NegLogLikelihoodEvaluator(base=2)],\n",
    "                            verbose=True).run()\n",
    "\n",
    "no_assemble_extrapolation = ExtrapolationExperiment(full_estimators, \n",
    "                            full_names,\n",
    "                            GroupKFoldSpecial(len(set(data.comp_ids)), size=22),\n",
    "                            x1, y.replace(-1.0, 0.0), groups=comp_ids.array,\n",
    "                            evaluators=[hamming_loss, error, NegLogLikelihoodEvaluator(base=2),\n",
    "                            GroupDescription(data.comp_descr, 'composition')],\n",
    "                            verbose=True).run()"
   ]
  },
  {
   "cell_type": "code",
   "execution_count": 11,
   "metadata": {},
   "outputs": [],
   "source": [
    "interpolation = pd.read_csv(os.path.join(OUTPUTPATH, 'interpolation.csv'))\n",
    "interpolation = interpolation.set_index('Unnamed: 0')\n",
    "interpolation.index.name = None\n",
    "\n",
    "extrapolation = pd.read_csv(os.path.join(OUTPUTPATH, 'extrapolation.csv'))\n",
    "extrapolation = extrapolation.set_index('Unnamed: 0')\n",
    "extrapolation.index.name = None"
   ]
  },
  {
   "cell_type": "code",
   "execution_count": 12,
   "metadata": {},
   "outputs": [
    {
     "data": {
      "text/html": [
       "<div>\n",
       "<style scoped>\n",
       "    .dataframe tbody tr th:only-of-type {\n",
       "        vertical-align: middle;\n",
       "    }\n",
       "\n",
       "    .dataframe tbody tr th {\n",
       "        vertical-align: top;\n",
       "    }\n",
       "\n",
       "    .dataframe thead th {\n",
       "        text-align: right;\n",
       "    }\n",
       "</style>\n",
       "<table border=\"1\" class=\"dataframe\">\n",
       "  <thead>\n",
       "    <tr style=\"text-align: right;\">\n",
       "      <th></th>\n",
       "      <th>mean_test_hamming loss</th>\n",
       "      <th>std_test_hamming loss</th>\n",
       "      <th>mean_test_error</th>\n",
       "      <th>std_test_error</th>\n",
       "      <th>mean_test_log loss</th>\n",
       "      <th>std_test_log loss</th>\n",
       "    </tr>\n",
       "  </thead>\n",
       "  <tbody>\n",
       "    <tr>\n",
       "      <th>LR</th>\n",
       "      <td>-0.013640</td>\n",
       "      <td>-0.005790</td>\n",
       "      <td>-0.074825</td>\n",
       "      <td>-0.014465</td>\n",
       "      <td>-0.199702</td>\n",
       "      <td>-0.025842</td>\n",
       "    </tr>\n",
       "    <tr>\n",
       "      <th>GAM</th>\n",
       "      <td>-0.003377</td>\n",
       "      <td>0.009284</td>\n",
       "      <td>-0.005789</td>\n",
       "      <td>0.016266</td>\n",
       "      <td>0.014951</td>\n",
       "      <td>0.125871</td>\n",
       "    </tr>\n",
       "    <tr>\n",
       "      <th>RuleFit</th>\n",
       "      <td>-0.003662</td>\n",
       "      <td>0.003787</td>\n",
       "      <td>-0.025263</td>\n",
       "      <td>0.003353</td>\n",
       "      <td>-0.057885</td>\n",
       "      <td>0.231050</td>\n",
       "    </tr>\n",
       "    <tr>\n",
       "      <th>RF</th>\n",
       "      <td>-0.005022</td>\n",
       "      <td>0.008758</td>\n",
       "      <td>-0.006667</td>\n",
       "      <td>0.030989</td>\n",
       "      <td>-0.030449</td>\n",
       "      <td>0.023656</td>\n",
       "    </tr>\n",
       "  </tbody>\n",
       "</table>\n",
       "</div>"
      ],
      "text/plain": [
       "         mean_test_hamming loss  std_test_hamming loss  mean_test_error  \\\n",
       "LR                    -0.013640              -0.005790        -0.074825   \n",
       "GAM                   -0.003377               0.009284        -0.005789   \n",
       "RuleFit               -0.003662               0.003787        -0.025263   \n",
       "RF                    -0.005022               0.008758        -0.006667   \n",
       "\n",
       "         std_test_error  mean_test_log loss  std_test_log loss  \n",
       "LR            -0.014465           -0.199702          -0.025842  \n",
       "GAM            0.016266            0.014951           0.125871  \n",
       "RuleFit        0.003353           -0.057885           0.231050  \n",
       "RF             0.030989           -0.030449           0.023656  "
      ]
     },
     "execution_count": 12,
     "metadata": {},
     "output_type": "execute_result"
    }
   ],
   "source": [
    "sel_column = ['mean_test_hamming loss', 'std_test_hamming loss', 'mean_test_error', 'std_test_error', 'mean_test_log loss',\t'std_test_log loss']\n",
    "no_assemble_interpolation.index = interpolation.index\n",
    "interpolation_diff = no_assemble_interpolation - interpolation\n",
    "interpolation_diff[sel_column]"
   ]
  },
  {
   "cell_type": "code",
   "execution_count": 13,
   "metadata": {},
   "outputs": [
    {
     "data": {
      "text/html": [
       "<div>\n",
       "<style scoped>\n",
       "    .dataframe tbody tr th:only-of-type {\n",
       "        vertical-align: middle;\n",
       "    }\n",
       "\n",
       "    .dataframe tbody tr th {\n",
       "        vertical-align: top;\n",
       "    }\n",
       "\n",
       "    .dataframe thead th {\n",
       "        text-align: right;\n",
       "    }\n",
       "</style>\n",
       "<table border=\"1\" class=\"dataframe\">\n",
       "  <thead>\n",
       "    <tr style=\"text-align: right;\">\n",
       "      <th></th>\n",
       "      <th>mean_test_hamming loss</th>\n",
       "      <th>std_test_hamming loss</th>\n",
       "      <th>mean_test_error</th>\n",
       "      <th>std_test_error</th>\n",
       "      <th>mean_test_log loss</th>\n",
       "      <th>std_test_log loss</th>\n",
       "    </tr>\n",
       "  </thead>\n",
       "  <tbody>\n",
       "    <tr>\n",
       "      <th>Lr_pcc</th>\n",
       "      <td>-0.025012</td>\n",
       "      <td>0.011158</td>\n",
       "      <td>-0.124855</td>\n",
       "      <td>0.016369</td>\n",
       "      <td>-0.090923</td>\n",
       "      <td>-0.040421</td>\n",
       "    </tr>\n",
       "    <tr>\n",
       "      <th>GAM_pcc</th>\n",
       "      <td>-0.012370</td>\n",
       "      <td>0.000786</td>\n",
       "      <td>-0.048873</td>\n",
       "      <td>-0.023652</td>\n",
       "      <td>0.123604</td>\n",
       "      <td>0.278087</td>\n",
       "    </tr>\n",
       "    <tr>\n",
       "      <th>RuFit_pcc</th>\n",
       "      <td>0.021269</td>\n",
       "      <td>0.017601</td>\n",
       "      <td>0.015541</td>\n",
       "      <td>-0.005431</td>\n",
       "      <td>-0.035290</td>\n",
       "      <td>0.289376</td>\n",
       "    </tr>\n",
       "    <tr>\n",
       "      <th>RF_pcc</th>\n",
       "      <td>-0.006280</td>\n",
       "      <td>0.000606</td>\n",
       "      <td>-0.027559</td>\n",
       "      <td>-0.020124</td>\n",
       "      <td>-0.135824</td>\n",
       "      <td>-0.130741</td>\n",
       "    </tr>\n",
       "  </tbody>\n",
       "</table>\n",
       "</div>"
      ],
      "text/plain": [
       "           mean_test_hamming loss  std_test_hamming loss  mean_test_error  \\\n",
       "Lr_pcc                  -0.025012               0.011158        -0.124855   \n",
       "GAM_pcc                 -0.012370               0.000786        -0.048873   \n",
       "RuFit_pcc                0.021269               0.017601         0.015541   \n",
       "RF_pcc                  -0.006280               0.000606        -0.027559   \n",
       "\n",
       "           std_test_error  mean_test_log loss  std_test_log loss  \n",
       "Lr_pcc           0.016369           -0.090923          -0.040421  \n",
       "GAM_pcc         -0.023652            0.123604           0.278087  \n",
       "RuFit_pcc       -0.005431           -0.035290           0.289376  \n",
       "RF_pcc          -0.020124           -0.135824          -0.130741  "
      ]
     },
     "execution_count": 13,
     "metadata": {},
     "output_type": "execute_result"
    }
   ],
   "source": [
    "no_assemble_extrapolation.index = extrapolation.index\n",
    "extrapolation_diff = no_assemble_extrapolation - extrapolation\n",
    "extrapolation_diff[sel_column]"
   ]
  },
  {
   "cell_type": "code",
   "execution_count": 14,
   "metadata": {},
   "outputs": [],
   "source": [
    "import matplotlib.colors as mcolors\n",
    "import matplotlib.pyplot as plt\n",
    "\n",
    "def plot_summary(metric, summ, num_reps=30, baseline=None, names=None, colors = list(mcolors.BASE_COLORS.keys())):\n",
    "    width = 0.35\n",
    "    ind = np.arange(len(summ))\n",
    "    plt.bar(ind-width/2, summ[f'mean_train_{metric}'], width=width, label='train', \n",
    "            yerr=summ[f'std_train_{metric}']/num_reps**0.5, capsize=3.0)\n",
    "    plt.bar(ind+width/2, summ[f'mean_test_{metric}'], width=width, label='test',\n",
    "            yerr=summ[f'std_test_{metric}']/num_reps**0.5, capsize=3.0)\n",
    "    if baseline:\n",
    "        for i in range(len(baseline)):\n",
    "            plt.axhline(y=baseline[i], color=colors[i], linestyle='-', label=names[i])\n",
    "    plt.ylabel(metric)\n",
    "    plt.legend()\n",
    "    plt.xticks(ind, summ.index)"
   ]
  },
  {
   "cell_type": "code",
   "execution_count": 15,
   "metadata": {},
   "outputs": [
    {
     "data": {
      "image/png": "[encoded data removed]",
      "text/plain": [
       "<Figure size 1440x720 with 3 Axes>"
      ]
     },
     "metadata": {
      "needs_background": "light"
     },
     "output_type": "display_data"
    }
   ],
   "source": [
    "colors = ['r', 'c', 'm', 'y', 'b']\n",
    "fig, ((ax1, ax2, ax3)) = plt.subplots(1, 3, sharey=False, sharex=True, figsize=(20, 10))\n",
    "\n",
    "width = 0.25\n",
    "fontsize = 10\n",
    "ind = np.arange(len(interpolation))\n",
    "\n",
    "ax1.bar(ind-width, interpolation_diff[f'mean_train_hamming loss'], width=width, label='training', \n",
    "        yerr=interpolation_diff[f'std_train_hamming loss']/30**0.5, capsize=3.0)\n",
    "ax1.bar(ind, interpolation_diff[f'mean_test_hamming loss'], width=width, label='interpolation',\n",
    "        yerr=interpolation_diff[f'std_test_hamming loss']/30**0.5, capsize=3.0)\n",
    "ax1.bar(ind+width, extrapolation_diff[f'mean_test_hamming loss'], width=width, label='extrapolation',\n",
    "        yerr=extrapolation_diff[f'std_test_hamming loss']/28**0.5, capsize=3.0)\n",
    "\n",
    "ax1.set_title('Individual morphology error rate (Remove no_assembly)', fontsize=fontsize)\n",
    "ax1.set_xticks(ind)\n",
    "ax1.set_ylabel('Error rate', fontsize=fontsize)\n",
    "ax1.set_xticklabels(interpolation.index, fontsize=fontsize)\n",
    "\n",
    "ax1.legend(fontsize=fontsize)\n",
    "ax1.sharey(ax2) ########### here to share the y axis\n",
    "\n",
    "ax2.bar(ind-width, interpolation_diff[f'mean_train_error'], width=width, label='training', \n",
    "        yerr=interpolation_diff[f'std_train_error']/30**0.5, capsize=3.0)\n",
    "ax2.bar(ind, interpolation_diff[f'mean_test_error'], width=width, label='interpolation',\n",
    "        yerr=interpolation_diff[f'std_test_error']/30**0.5, capsize=3.0)\n",
    "ax2.bar(ind+width, extrapolation_diff[f'mean_test_error'], width=width, label='extrapolation',\n",
    "        yerr=extrapolation_diff[f'std_test_error']/28**0.5, capsize=3.0)\n",
    "\n",
    "ax2.set_title('Full phase error rate (Remove no_assembly)', fontsize=fontsize)\n",
    "ax2.set_xticks(ind)\n",
    "ax2.set_xticklabels(extrapolation.index, fontsize=fontsize)\n",
    "ax2.sharey(ax1) ########### here to share the y axis\n",
    "\n",
    "\n",
    "ax3.bar(ind-width, interpolation_diff[f'mean_train_log loss'], width=width, label='training', \n",
    "        yerr=interpolation_diff[f'std_train_log loss']/30**0.5, capsize=3.0)\n",
    "ax3.bar(ind, interpolation_diff[f'mean_test_log loss'], width=width, label='interpolation',\n",
    "        yerr=interpolation_diff[f'std_test_log loss']/30**0.5, capsize=3.0)\n",
    "ax3.bar(ind+width, extrapolation_diff[f'mean_test_log loss'], width=width, label='extrapolation',\n",
    "        yerr=extrapolation_diff[f'std_test_log loss']/28**0.5, capsize=3.0)\n",
    "\n",
    "\n",
    "ax3.set_title('Log loss (Remove no_assembly)', fontsize=fontsize)\n",
    "ax3.set_xticks(ind)\n",
    "ax3.set_xticklabels(extrapolation_diff.index, fontsize=fontsize)\n",
    "ax3.set_ylabel('logloss', fontsize=fontsize)\n",
    "plt.savefig(os.path.join(OUTPUTPATH, 'Comparison_overall_performance.pdf'), bbox_inches='tight', pad_inches=0)\n",
    "plt.show()"
   ]
  }
 ],
 "metadata": {
  "interpreter": {
   "hash": "40d3a090f54c6569ab1632332b64b2c03c39dcf918b08424e98f38b5ae0af88f"
  },
  "kernelspec": {
   "display_name": "Python 3.8.5 ('base')",
   "language": "python",
   "name": "python3"
  },
  "language_info": {
   "codemirror_mode": {
    "name": "ipython",
    "version": 3
   },
   "file_extension": ".py",
   "mimetype": "text/x-python",
   "name": "python",
   "nbconvert_exporter": "python",
   "pygments_lexer": "ipython3",
   "version": "3.8.5"
  },
  "orig_nbformat": 4
 },
 "nbformat": 4,
 "nbformat_minor": 2
}
